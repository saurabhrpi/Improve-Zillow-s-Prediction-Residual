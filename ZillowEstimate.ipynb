{
 "cells": [
  {
   "cell_type": "code",
   "execution_count": 1,
   "metadata": {},
   "outputs": [
    {
     "name": "stderr",
     "output_type": "stream",
     "text": [
      "/Users/TheResearcher/Desktop/anaconda/lib/python2.7/site-packages/IPython/core/interactiveshell.py:2717: DtypeWarning: Columns (49) have mixed types. Specify dtype option on import or set low_memory=False.\n",
      "  interactivity=interactivity, compiler=compiler, result=result)\n",
      "/Users/TheResearcher/Desktop/anaconda/lib/python2.7/site-packages/IPython/core/interactiveshell.py:2717: DtypeWarning: Columns (22,32,34,49,55) have mixed types. Specify dtype option on import or set low_memory=False.\n",
      "  interactivity=interactivity, compiler=compiler, result=result)\n"
     ]
    },
    {
     "name": "stdout",
     "output_type": "stream",
     "text": [
      "dataset has 2985217 samples with 58 features each.\n",
      "Older dataset has 2985217 samples with 58 features each.\n"
     ]
    }
   ],
   "source": [
    "# Import libraries necessary for this project\n",
    "import numpy as np\n",
    "import pandas as pd\n",
    "from IPython.display import display # Allows the use of display() for DataFrames\n",
    "\n",
    "# Import supplementary visualizations code visuals.py\n",
    "import visuals as vs\n",
    "\n",
    "# Pretty display for notebooks\n",
    "%matplotlib inline\n",
    "\n",
    "# Load the wholesale customers dataset\n",
    "try:\n",
    "    data = pd.read_csv(\"properties_2017.csv\")\n",
    "    dataO = pd.read_csv(\"properties_2016.csv\")\n",
    "    #data = pd.read_csv(\"train_2017.csv\")\n",
    "    print \"dataset has {} samples with {} features each.\".format(*data.shape)\n",
    "    print \"Older dataset has {} samples with {} features each.\".format(*dataO.shape)\n",
    "except:\n",
    "    print \"Dataset could not be loaded. Is the dataset missing?\""
   ]
  },
  {
   "cell_type": "code",
   "execution_count": 2,
   "metadata": {},
   "outputs": [
    {
     "data": {
      "text/html": [
       "<div>\n",
       "<table border=\"1\" class=\"dataframe\">\n",
       "  <thead>\n",
       "    <tr style=\"text-align: right;\">\n",
       "      <th></th>\n",
       "      <th>parcelid</th>\n",
       "      <th>airconditioningtypeid</th>\n",
       "      <th>architecturalstyletypeid</th>\n",
       "      <th>basementsqft</th>\n",
       "      <th>bathroomcnt</th>\n",
       "      <th>bedroomcnt</th>\n",
       "      <th>buildingclasstypeid</th>\n",
       "      <th>buildingqualitytypeid</th>\n",
       "      <th>calculatedbathnbr</th>\n",
       "      <th>decktypeid</th>\n",
       "      <th>...</th>\n",
       "      <th>numberofstories</th>\n",
       "      <th>fireplaceflag</th>\n",
       "      <th>structuretaxvaluedollarcnt</th>\n",
       "      <th>taxvaluedollarcnt</th>\n",
       "      <th>assessmentyear</th>\n",
       "      <th>landtaxvaluedollarcnt</th>\n",
       "      <th>taxamount</th>\n",
       "      <th>taxdelinquencyflag</th>\n",
       "      <th>taxdelinquencyyear</th>\n",
       "      <th>censustractandblock</th>\n",
       "    </tr>\n",
       "  </thead>\n",
       "  <tbody>\n",
       "    <tr>\n",
       "      <th>1872737</th>\n",
       "      <td>10711910</td>\n",
       "      <td>NaN</td>\n",
       "      <td>NaN</td>\n",
       "      <td>NaN</td>\n",
       "      <td>2.0</td>\n",
       "      <td>3.0</td>\n",
       "      <td>NaN</td>\n",
       "      <td>4.0</td>\n",
       "      <td>2.0</td>\n",
       "      <td>NaN</td>\n",
       "      <td>...</td>\n",
       "      <td>NaN</td>\n",
       "      <td>NaN</td>\n",
       "      <td>57098.0</td>\n",
       "      <td>76860.0</td>\n",
       "      <td>2015.0</td>\n",
       "      <td>19762.0</td>\n",
       "      <td>1116.46</td>\n",
       "      <td>NaN</td>\n",
       "      <td>NaN</td>\n",
       "      <td>6.037113e+13</td>\n",
       "    </tr>\n",
       "  </tbody>\n",
       "</table>\n",
       "<p>1 rows × 58 columns</p>\n",
       "</div>"
      ],
      "text/plain": [
       "         parcelid  airconditioningtypeid  architecturalstyletypeid  \\\n",
       "1872737  10711910                    NaN                       NaN   \n",
       "\n",
       "         basementsqft  bathroomcnt  bedroomcnt  buildingclasstypeid  \\\n",
       "1872737           NaN          2.0         3.0                  NaN   \n",
       "\n",
       "         buildingqualitytypeid  calculatedbathnbr  decktypeid  \\\n",
       "1872737                    4.0                2.0         NaN   \n",
       "\n",
       "                ...           numberofstories  fireplaceflag  \\\n",
       "1872737         ...                       NaN            NaN   \n",
       "\n",
       "         structuretaxvaluedollarcnt  taxvaluedollarcnt  assessmentyear  \\\n",
       "1872737                     57098.0            76860.0          2015.0   \n",
       "\n",
       "         landtaxvaluedollarcnt  taxamount  taxdelinquencyflag  \\\n",
       "1872737                19762.0    1116.46                 NaN   \n",
       "\n",
       "         taxdelinquencyyear  censustractandblock  \n",
       "1872737                 NaN         6.037113e+13  \n",
       "\n",
       "[1 rows x 58 columns]"
      ]
     },
     "execution_count": 2,
     "metadata": {},
     "output_type": "execute_result"
    }
   ],
   "source": [
    "#(data.ix[:,49]).isnull().values.all() # if all values of column 49 are null \n",
    "#(data.ix[:,49]).isnull().sum() #column 49 s count of null values\n",
    "#data.ix[:,49].loc[~(data.ix[:,49]).isnull()] #not null values of column 49\n",
    "dataO.loc[dataO['parcelid']==10711910]"
   ]
  },
  {
   "cell_type": "code",
   "execution_count": 3,
   "metadata": {
    "scrolled": false
   },
   "outputs": [
    {
     "name": "stdout",
     "output_type": "stream",
     "text": [
      "transaction dataset has 77613 samples with 3 features each.\n",
      "Older transaction dataset has 90275 samples with 3 features each.\n"
     ]
    }
   ],
   "source": [
    "#Remove columns with too many nulls\n",
    "#for i in data.columns[:]:\n",
    "    #if((data[i]).isnull().sum() > 1000000): #returns true if count of nulls in a column exceeds 1000000\n",
    "#    print (data[i]).isnull().sum()\n",
    "try:\n",
    "    trans = pd.read_csv(\"train_2017.csv\")\n",
    "    transO = pd.read_csv(\"train_2016.csv\")\n",
    "    #sample = pd.read_csv(\"sample_submission.csv\")\n",
    "    print \"transaction dataset has {} samples with {} features each.\".format(*trans.shape)\n",
    "    print \"Older transaction dataset has {} samples with {} features each.\".format(*transO.shape)\n",
    "except:\n",
    "    print \"Dataset could not be loaded. Is the dataset missing?\""
   ]
  },
  {
   "cell_type": "code",
   "execution_count": 4,
   "metadata": {},
   "outputs": [
    {
     "data": {
      "text/html": [
       "<div>\n",
       "<table border=\"1\" class=\"dataframe\">\n",
       "  <thead>\n",
       "    <tr style=\"text-align: right;\">\n",
       "      <th></th>\n",
       "      <th>parcelid</th>\n",
       "      <th>logerror</th>\n",
       "      <th>transactiondate</th>\n",
       "    </tr>\n",
       "  </thead>\n",
       "  <tbody>\n",
       "    <tr>\n",
       "      <th>0</th>\n",
       "      <td>11016594</td>\n",
       "      <td>0.0276</td>\n",
       "      <td>2016-01-01</td>\n",
       "    </tr>\n",
       "    <tr>\n",
       "      <th>1</th>\n",
       "      <td>14366692</td>\n",
       "      <td>-0.1684</td>\n",
       "      <td>2016-01-01</td>\n",
       "    </tr>\n",
       "    <tr>\n",
       "      <th>2</th>\n",
       "      <td>12098116</td>\n",
       "      <td>-0.0040</td>\n",
       "      <td>2016-01-01</td>\n",
       "    </tr>\n",
       "    <tr>\n",
       "      <th>3</th>\n",
       "      <td>12643413</td>\n",
       "      <td>0.0218</td>\n",
       "      <td>2016-01-02</td>\n",
       "    </tr>\n",
       "    <tr>\n",
       "      <th>4</th>\n",
       "      <td>14432541</td>\n",
       "      <td>-0.0050</td>\n",
       "      <td>2016-01-02</td>\n",
       "    </tr>\n",
       "  </tbody>\n",
       "</table>\n",
       "</div>"
      ],
      "text/plain": [
       "   parcelid  logerror transactiondate\n",
       "0  11016594    0.0276      2016-01-01\n",
       "1  14366692   -0.1684      2016-01-01\n",
       "2  12098116   -0.0040      2016-01-01\n",
       "3  12643413    0.0218      2016-01-02\n",
       "4  14432541   -0.0050      2016-01-02"
      ]
     },
     "execution_count": 4,
     "metadata": {},
     "output_type": "execute_result"
    }
   ],
   "source": [
    "#data_reduced[~data_reduced['parcelid'].isin(trans['parcelid'])].index\n",
    "transO.head()"
   ]
  },
  {
   "cell_type": "code",
   "execution_count": 5,
   "metadata": {
    "collapsed": true
   },
   "outputs": [],
   "source": [
    "trans = pd.concat([trans.drop('transactiondate', axis = 1), \n",
    "          (trans.transactiondate.str.split(\"-|T\").str[:3].apply(pd.Series)\n",
    "          .rename(columns={0:'Tyear', 1:'Tmonth', 2:'Tday'}))], axis = 1)"
   ]
  },
  {
   "cell_type": "code",
   "execution_count": 6,
   "metadata": {
    "collapsed": true
   },
   "outputs": [],
   "source": [
    "transO = pd.concat([transO.drop('transactiondate', axis = 1), \n",
    "          (transO.transactiondate.str.split(\"-|T\").str[:3].apply(pd.Series)\n",
    "          .rename(columns={0:'Tyear', 1:'Tmonth', 2:'Tday'}))], axis = 1)"
   ]
  },
  {
   "cell_type": "code",
   "execution_count": 7,
   "metadata": {
    "collapsed": true
   },
   "outputs": [],
   "source": [
    "merged = [trans,transO]\n",
    "result = pd.concat(merged)"
   ]
  },
  {
   "cell_type": "code",
   "execution_count": 8,
   "metadata": {
    "collapsed": true
   },
   "outputs": [],
   "source": [
    "#sorted(result['Tyear'].unique())\n",
    "#result.shape\n",
    "#result.duplicated('parcelid') \n",
    "#len(result['parcelid'].unique())\n",
    "#len(result['parcelid'])"
   ]
  },
  {
   "cell_type": "code",
   "execution_count": 9,
   "metadata": {
    "collapsed": true
   },
   "outputs": [],
   "source": [
    "#all those rows in data_reduced whose parcelid dont match with those in trans\n",
    "data_reduced = data.drop(data[~data['parcelid'].isin(trans['parcelid'])].index)\n",
    "#trans[trans['parcelid'] == 17054981]"
   ]
  },
  {
   "cell_type": "code",
   "execution_count": 10,
   "metadata": {
    "collapsed": true
   },
   "outputs": [],
   "source": [
    "dataO_reduced = dataO.drop(dataO[~dataO['parcelid'].isin(transO['parcelid'])].index)\n",
    "#transO[transO['parcelid'] == 17100444]"
   ]
  },
  {
   "cell_type": "code",
   "execution_count": 11,
   "metadata": {},
   "outputs": [
    {
     "data": {
      "text/plain": [
       "(90150, 58)"
      ]
     },
     "execution_count": 11,
     "metadata": {},
     "output_type": "execute_result"
    }
   ],
   "source": [
    "dataO_reduced.shape"
   ]
  },
  {
   "cell_type": "code",
   "execution_count": 12,
   "metadata": {
    "collapsed": true
   },
   "outputs": [],
   "source": [
    "merged = [data_reduced, dataO_reduced]\n",
    "data_reduced_comb = pd.concat(merged)"
   ]
  },
  {
   "cell_type": "code",
   "execution_count": 13,
   "metadata": {
    "collapsed": true
   },
   "outputs": [],
   "source": [
    "#data_trans_reduced_comb.loc[data_trans_reduced_comb['parcelid'] == 10711923]"
   ]
  },
  {
   "cell_type": "code",
   "execution_count": 14,
   "metadata": {},
   "outputs": [
    {
     "data": {
      "text/plain": [
       "(172599, 62)"
      ]
     },
     "execution_count": 14,
     "metadata": {},
     "output_type": "execute_result"
    }
   ],
   "source": [
    "#result[~result['parcelid'].isin(data_trans_reduced_comb_f['parcelid'])]\n",
    "#data_reduced_comb[~(data_reduced_comb['assessmentyear'].isnull()) & data_reduced_comb['assessmentyear'] != data_reduced_comb['']]\n",
    "#data_reduced_comb_trans[data_reduced_comb_trans['assessmentyear'].isnull()].groupby('parcelid').size()\n",
    "\n",
    "data_trans_reduced_comb_p = pd.merge(data_reduced_comb,result,on='parcelid') #preliminary\n",
    "\n",
    "#remove the whole null row\n",
    "data_trans_reduced_comb_p = data_trans_reduced_comb_p.drop(data_trans_reduced_comb_p[data_trans_reduced_comb_p['parcelid'] == 11491470].index)\n",
    "data_trans_reduced_comb_p.shape"
   ]
  },
  {
   "cell_type": "code",
   "execution_count": 15,
   "metadata": {},
   "outputs": [
    {
     "data": {
      "text/plain": [
       "(167854, 62)"
      ]
     },
     "execution_count": 15,
     "metadata": {},
     "output_type": "execute_result"
    }
   ],
   "source": [
    "data_trans_reduced_comb_f = data_trans_reduced_comb_p[data_trans_reduced_comb_p['assessmentyear'] == (data_trans_reduced_comb_p['Tyear']).astype(int) - 1] #final\n",
    "data_trans_reduced_comb_f.shape\n",
    "\n",
    "#print data_trans_reduced_comb_p[data_trans_reduced_comb_p['assessmentyear'] == (data_trans_reduced_comb_p['Tyear']).astype(int) - 1] #final\n",
    "#sorted(data_reduced_comb_trans['parcelid'])\n",
    "#np.where(data_reduced_comb_trans.groupby('parcelid').size() == 2)"
   ]
  },
  {
   "cell_type": "code",
   "execution_count": 16,
   "metadata": {
    "collapsed": true
   },
   "outputs": [],
   "source": [
    "pd.set_option('display.max_columns', None)"
   ]
  },
  {
   "cell_type": "code",
   "execution_count": 17,
   "metadata": {
    "collapsed": true
   },
   "outputs": [],
   "source": [
    "pd.options.display.max_rows = 4000"
   ]
  },
  {
   "cell_type": "code",
   "execution_count": 18,
   "metadata": {},
   "outputs": [
    {
     "data": {
      "text/plain": [
       "(167854, 62)"
      ]
     },
     "execution_count": 18,
     "metadata": {},
     "output_type": "execute_result"
    }
   ],
   "source": [
    "data_trans_reduced_comb_f.head()\n",
    "data_trans_reduced_comb_f.shape"
   ]
  },
  {
   "cell_type": "code",
   "execution_count": 19,
   "metadata": {
    "collapsed": true
   },
   "outputs": [],
   "source": [
    "import matplotlib.pyplot as plt\n",
    "import seaborn as sns"
   ]
  },
  {
   "cell_type": "code",
   "execution_count": 20,
   "metadata": {},
   "outputs": [
    {
     "name": "stderr",
     "output_type": "stream",
     "text": [
      "/Users/TheResearcher/Desktop/anaconda/lib/python2.7/site-packages/pandas/core/indexing.py:297: SettingWithCopyWarning: \n",
      "A value is trying to be set on a copy of a slice from a DataFrame.\n",
      "Try using .loc[row_indexer,col_indexer] = value instead\n",
      "\n",
      "See the caveats in the documentation: http://pandas.pydata.org/pandas-docs/stable/indexing.html#indexing-view-versus-copy\n",
      "  self.obj[key] = _infer_fill_value(value)\n",
      "/Users/TheResearcher/Desktop/anaconda/lib/python2.7/site-packages/pandas/core/indexing.py:477: SettingWithCopyWarning: \n",
      "A value is trying to be set on a copy of a slice from a DataFrame.\n",
      "Try using .loc[row_indexer,col_indexer] = value instead\n",
      "\n",
      "See the caveats in the documentation: http://pandas.pydata.org/pandas-docs/stable/indexing.html#indexing-view-versus-copy\n",
      "  self.obj[item] = s\n"
     ]
    },
    {
     "data": {
      "text/html": [
       "<div>\n",
       "<table border=\"1\" class=\"dataframe\">\n",
       "  <thead>\n",
       "    <tr style=\"text-align: right;\">\n",
       "      <th></th>\n",
       "      <th>parcelid</th>\n",
       "      <th>airconditioningtypeid</th>\n",
       "      <th>architecturalstyletypeid</th>\n",
       "      <th>basementsqft</th>\n",
       "      <th>bathroomcnt</th>\n",
       "      <th>bedroomcnt</th>\n",
       "      <th>buildingclasstypeid</th>\n",
       "      <th>buildingqualitytypeid</th>\n",
       "      <th>calculatedbathnbr</th>\n",
       "      <th>decktypeid</th>\n",
       "      <th>finishedfloor1squarefeet</th>\n",
       "      <th>calculatedfinishedsquarefeet</th>\n",
       "      <th>finishedsquarefeet12</th>\n",
       "      <th>finishedsquarefeet13</th>\n",
       "      <th>finishedsquarefeet15</th>\n",
       "      <th>finishedsquarefeet50</th>\n",
       "      <th>finishedsquarefeet6</th>\n",
       "      <th>fips</th>\n",
       "      <th>fireplacecnt</th>\n",
       "      <th>fullbathcnt</th>\n",
       "      <th>garagecarcnt</th>\n",
       "      <th>garagetotalsqft</th>\n",
       "      <th>hashottuborspa</th>\n",
       "      <th>heatingorsystemtypeid</th>\n",
       "      <th>latitude</th>\n",
       "      <th>longitude</th>\n",
       "      <th>lotsizesquarefeet</th>\n",
       "      <th>poolcnt</th>\n",
       "      <th>poolsizesum</th>\n",
       "      <th>pooltypeid10</th>\n",
       "      <th>pooltypeid2</th>\n",
       "      <th>pooltypeid7</th>\n",
       "      <th>propertycountylandusecode</th>\n",
       "      <th>propertylandusetypeid</th>\n",
       "      <th>propertyzoningdesc</th>\n",
       "      <th>rawcensustractandblock</th>\n",
       "      <th>regionidcity</th>\n",
       "      <th>regionidcounty</th>\n",
       "      <th>regionidneighborhood</th>\n",
       "      <th>regionidzip</th>\n",
       "      <th>roomcnt</th>\n",
       "      <th>storytypeid</th>\n",
       "      <th>threequarterbathnbr</th>\n",
       "      <th>typeconstructiontypeid</th>\n",
       "      <th>unitcnt</th>\n",
       "      <th>yardbuildingsqft17</th>\n",
       "      <th>yardbuildingsqft26</th>\n",
       "      <th>yearbuilt</th>\n",
       "      <th>numberofstories</th>\n",
       "      <th>fireplaceflag</th>\n",
       "      <th>structuretaxvaluedollarcnt</th>\n",
       "      <th>taxvaluedollarcnt</th>\n",
       "      <th>assessmentyear</th>\n",
       "      <th>landtaxvaluedollarcnt</th>\n",
       "      <th>taxamount</th>\n",
       "      <th>taxdelinquencyflag</th>\n",
       "      <th>taxdelinquencyyear</th>\n",
       "      <th>censustractandblock</th>\n",
       "      <th>logerror</th>\n",
       "      <th>Tyear</th>\n",
       "      <th>Tmonth</th>\n",
       "      <th>Tday</th>\n",
       "      <th>abslogerror</th>\n",
       "    </tr>\n",
       "  </thead>\n",
       "  <tbody>\n",
       "    <tr>\n",
       "      <th>0</th>\n",
       "      <td>17054981</td>\n",
       "      <td>NaN</td>\n",
       "      <td>NaN</td>\n",
       "      <td>NaN</td>\n",
       "      <td>5.0</td>\n",
       "      <td>4.0</td>\n",
       "      <td>NaN</td>\n",
       "      <td>NaN</td>\n",
       "      <td>5.0</td>\n",
       "      <td>NaN</td>\n",
       "      <td>1968.0</td>\n",
       "      <td>3760.0</td>\n",
       "      <td>3760.0</td>\n",
       "      <td>NaN</td>\n",
       "      <td>NaN</td>\n",
       "      <td>1968.0</td>\n",
       "      <td>NaN</td>\n",
       "      <td>6111.0</td>\n",
       "      <td>4.0</td>\n",
       "      <td>5.0</td>\n",
       "      <td>3.0</td>\n",
       "      <td>784.0</td>\n",
       "      <td>NaN</td>\n",
       "      <td>NaN</td>\n",
       "      <td>34449407.0</td>\n",
       "      <td>-119254052.0</td>\n",
       "      <td>42688.0</td>\n",
       "      <td>1.0</td>\n",
       "      <td>735.0</td>\n",
       "      <td>NaN</td>\n",
       "      <td>NaN</td>\n",
       "      <td>1.0</td>\n",
       "      <td>1110</td>\n",
       "      <td>261.0</td>\n",
       "      <td>NaN</td>\n",
       "      <td>6.111001e+07</td>\n",
       "      <td>13091.0</td>\n",
       "      <td>2061.0</td>\n",
       "      <td>NaN</td>\n",
       "      <td>97099.0</td>\n",
       "      <td>11.0</td>\n",
       "      <td>NaN</td>\n",
       "      <td>NaN</td>\n",
       "      <td>NaN</td>\n",
       "      <td>NaN</td>\n",
       "      <td>NaN</td>\n",
       "      <td>NaN</td>\n",
       "      <td>1982.0</td>\n",
       "      <td>2.0</td>\n",
       "      <td>NaN</td>\n",
       "      <td>501928.0</td>\n",
       "      <td>872850.0</td>\n",
       "      <td>2016.0</td>\n",
       "      <td>370922.0</td>\n",
       "      <td>9673.46</td>\n",
       "      <td>NaN</td>\n",
       "      <td>NaN</td>\n",
       "      <td>6.111001e+13</td>\n",
       "      <td>-0.013099</td>\n",
       "      <td>2017</td>\n",
       "      <td>06</td>\n",
       "      <td>15</td>\n",
       "      <td>0.013099</td>\n",
       "    </tr>\n",
       "    <tr>\n",
       "      <th>1</th>\n",
       "      <td>17055743</td>\n",
       "      <td>NaN</td>\n",
       "      <td>NaN</td>\n",
       "      <td>NaN</td>\n",
       "      <td>2.0</td>\n",
       "      <td>3.0</td>\n",
       "      <td>NaN</td>\n",
       "      <td>NaN</td>\n",
       "      <td>2.0</td>\n",
       "      <td>66.0</td>\n",
       "      <td>1444.0</td>\n",
       "      <td>1444.0</td>\n",
       "      <td>1444.0</td>\n",
       "      <td>NaN</td>\n",
       "      <td>NaN</td>\n",
       "      <td>1444.0</td>\n",
       "      <td>NaN</td>\n",
       "      <td>6111.0</td>\n",
       "      <td>NaN</td>\n",
       "      <td>2.0</td>\n",
       "      <td>1.0</td>\n",
       "      <td>0.0</td>\n",
       "      <td>NaN</td>\n",
       "      <td>NaN</td>\n",
       "      <td>34454169.0</td>\n",
       "      <td>-119237898.0</td>\n",
       "      <td>7108.0</td>\n",
       "      <td>NaN</td>\n",
       "      <td>NaN</td>\n",
       "      <td>NaN</td>\n",
       "      <td>NaN</td>\n",
       "      <td>NaN</td>\n",
       "      <td>1110</td>\n",
       "      <td>261.0</td>\n",
       "      <td>NaN</td>\n",
       "      <td>6.111001e+07</td>\n",
       "      <td>13091.0</td>\n",
       "      <td>2061.0</td>\n",
       "      <td>NaN</td>\n",
       "      <td>97099.0</td>\n",
       "      <td>6.0</td>\n",
       "      <td>NaN</td>\n",
       "      <td>NaN</td>\n",
       "      <td>NaN</td>\n",
       "      <td>NaN</td>\n",
       "      <td>NaN</td>\n",
       "      <td>NaN</td>\n",
       "      <td>1951.0</td>\n",
       "      <td>1.0</td>\n",
       "      <td>NaN</td>\n",
       "      <td>130845.0</td>\n",
       "      <td>436157.0</td>\n",
       "      <td>2016.0</td>\n",
       "      <td>305312.0</td>\n",
       "      <td>5538.80</td>\n",
       "      <td>NaN</td>\n",
       "      <td>NaN</td>\n",
       "      <td>6.111001e+13</td>\n",
       "      <td>0.073985</td>\n",
       "      <td>2017</td>\n",
       "      <td>07</td>\n",
       "      <td>26</td>\n",
       "      <td>0.073985</td>\n",
       "    </tr>\n",
       "    <tr>\n",
       "      <th>2</th>\n",
       "      <td>17068109</td>\n",
       "      <td>NaN</td>\n",
       "      <td>NaN</td>\n",
       "      <td>NaN</td>\n",
       "      <td>1.5</td>\n",
       "      <td>3.0</td>\n",
       "      <td>NaN</td>\n",
       "      <td>NaN</td>\n",
       "      <td>1.5</td>\n",
       "      <td>66.0</td>\n",
       "      <td>1698.0</td>\n",
       "      <td>1698.0</td>\n",
       "      <td>1698.0</td>\n",
       "      <td>NaN</td>\n",
       "      <td>NaN</td>\n",
       "      <td>1698.0</td>\n",
       "      <td>NaN</td>\n",
       "      <td>6111.0</td>\n",
       "      <td>1.0</td>\n",
       "      <td>1.0</td>\n",
       "      <td>0.0</td>\n",
       "      <td>0.0</td>\n",
       "      <td>NaN</td>\n",
       "      <td>NaN</td>\n",
       "      <td>34365693.0</td>\n",
       "      <td>-119448392.0</td>\n",
       "      <td>2588.0</td>\n",
       "      <td>NaN</td>\n",
       "      <td>NaN</td>\n",
       "      <td>NaN</td>\n",
       "      <td>NaN</td>\n",
       "      <td>NaN</td>\n",
       "      <td>1110</td>\n",
       "      <td>261.0</td>\n",
       "      <td>NaN</td>\n",
       "      <td>6.111001e+07</td>\n",
       "      <td>34543.0</td>\n",
       "      <td>2061.0</td>\n",
       "      <td>NaN</td>\n",
       "      <td>97081.0</td>\n",
       "      <td>6.0</td>\n",
       "      <td>NaN</td>\n",
       "      <td>1.0</td>\n",
       "      <td>NaN</td>\n",
       "      <td>NaN</td>\n",
       "      <td>NaN</td>\n",
       "      <td>NaN</td>\n",
       "      <td>1979.0</td>\n",
       "      <td>1.0</td>\n",
       "      <td>NaN</td>\n",
       "      <td>193413.0</td>\n",
       "      <td>286606.0</td>\n",
       "      <td>2016.0</td>\n",
       "      <td>93193.0</td>\n",
       "      <td>2987.36</td>\n",
       "      <td>NaN</td>\n",
       "      <td>NaN</td>\n",
       "      <td>6.111001e+13</td>\n",
       "      <td>0.071886</td>\n",
       "      <td>2017</td>\n",
       "      <td>07</td>\n",
       "      <td>28</td>\n",
       "      <td>0.071886</td>\n",
       "    </tr>\n",
       "    <tr>\n",
       "      <th>3</th>\n",
       "      <td>17073952</td>\n",
       "      <td>NaN</td>\n",
       "      <td>NaN</td>\n",
       "      <td>NaN</td>\n",
       "      <td>2.0</td>\n",
       "      <td>2.0</td>\n",
       "      <td>NaN</td>\n",
       "      <td>NaN</td>\n",
       "      <td>2.0</td>\n",
       "      <td>NaN</td>\n",
       "      <td>986.0</td>\n",
       "      <td>986.0</td>\n",
       "      <td>986.0</td>\n",
       "      <td>NaN</td>\n",
       "      <td>NaN</td>\n",
       "      <td>986.0</td>\n",
       "      <td>NaN</td>\n",
       "      <td>6111.0</td>\n",
       "      <td>1.0</td>\n",
       "      <td>2.0</td>\n",
       "      <td>1.0</td>\n",
       "      <td>0.0</td>\n",
       "      <td>NaN</td>\n",
       "      <td>NaN</td>\n",
       "      <td>34305600.0</td>\n",
       "      <td>-119284000.0</td>\n",
       "      <td>NaN</td>\n",
       "      <td>NaN</td>\n",
       "      <td>NaN</td>\n",
       "      <td>NaN</td>\n",
       "      <td>NaN</td>\n",
       "      <td>NaN</td>\n",
       "      <td>1129</td>\n",
       "      <td>266.0</td>\n",
       "      <td>NaN</td>\n",
       "      <td>6.111002e+07</td>\n",
       "      <td>34543.0</td>\n",
       "      <td>2061.0</td>\n",
       "      <td>NaN</td>\n",
       "      <td>97081.0</td>\n",
       "      <td>4.0</td>\n",
       "      <td>NaN</td>\n",
       "      <td>NaN</td>\n",
       "      <td>NaN</td>\n",
       "      <td>NaN</td>\n",
       "      <td>55.0</td>\n",
       "      <td>NaN</td>\n",
       "      <td>1989.0</td>\n",
       "      <td>1.0</td>\n",
       "      <td>NaN</td>\n",
       "      <td>90357.0</td>\n",
       "      <td>258888.0</td>\n",
       "      <td>2016.0</td>\n",
       "      <td>168531.0</td>\n",
       "      <td>2706.24</td>\n",
       "      <td>NaN</td>\n",
       "      <td>NaN</td>\n",
       "      <td>6.111002e+13</td>\n",
       "      <td>0.305680</td>\n",
       "      <td>2017</td>\n",
       "      <td>06</td>\n",
       "      <td>02</td>\n",
       "      <td>0.305680</td>\n",
       "    </tr>\n",
       "    <tr>\n",
       "      <th>4</th>\n",
       "      <td>17078502</td>\n",
       "      <td>NaN</td>\n",
       "      <td>NaN</td>\n",
       "      <td>NaN</td>\n",
       "      <td>1.0</td>\n",
       "      <td>2.0</td>\n",
       "      <td>NaN</td>\n",
       "      <td>NaN</td>\n",
       "      <td>1.0</td>\n",
       "      <td>NaN</td>\n",
       "      <td>1170.0</td>\n",
       "      <td>1170.0</td>\n",
       "      <td>1170.0</td>\n",
       "      <td>NaN</td>\n",
       "      <td>NaN</td>\n",
       "      <td>1170.0</td>\n",
       "      <td>NaN</td>\n",
       "      <td>6111.0</td>\n",
       "      <td>1.0</td>\n",
       "      <td>1.0</td>\n",
       "      <td>2.0</td>\n",
       "      <td>621.0</td>\n",
       "      <td>NaN</td>\n",
       "      <td>NaN</td>\n",
       "      <td>34278012.0</td>\n",
       "      <td>-119257047.0</td>\n",
       "      <td>5643.0</td>\n",
       "      <td>NaN</td>\n",
       "      <td>NaN</td>\n",
       "      <td>NaN</td>\n",
       "      <td>NaN</td>\n",
       "      <td>NaN</td>\n",
       "      <td>1110</td>\n",
       "      <td>261.0</td>\n",
       "      <td>NaN</td>\n",
       "      <td>6.111002e+07</td>\n",
       "      <td>34543.0</td>\n",
       "      <td>2061.0</td>\n",
       "      <td>NaN</td>\n",
       "      <td>97083.0</td>\n",
       "      <td>5.0</td>\n",
       "      <td>NaN</td>\n",
       "      <td>NaN</td>\n",
       "      <td>NaN</td>\n",
       "      <td>NaN</td>\n",
       "      <td>NaN</td>\n",
       "      <td>NaN</td>\n",
       "      <td>1948.0</td>\n",
       "      <td>1.0</td>\n",
       "      <td>NaN</td>\n",
       "      <td>148752.0</td>\n",
       "      <td>592930.0</td>\n",
       "      <td>2016.0</td>\n",
       "      <td>444178.0</td>\n",
       "      <td>6220.70</td>\n",
       "      <td>NaN</td>\n",
       "      <td>NaN</td>\n",
       "      <td>6.111002e+13</td>\n",
       "      <td>-0.073787</td>\n",
       "      <td>2017</td>\n",
       "      <td>07</td>\n",
       "      <td>07</td>\n",
       "      <td>0.073787</td>\n",
       "    </tr>\n",
       "  </tbody>\n",
       "</table>\n",
       "</div>"
      ],
      "text/plain": [
       "   parcelid  airconditioningtypeid  architecturalstyletypeid  basementsqft  \\\n",
       "0  17054981                    NaN                       NaN           NaN   \n",
       "1  17055743                    NaN                       NaN           NaN   \n",
       "2  17068109                    NaN                       NaN           NaN   \n",
       "3  17073952                    NaN                       NaN           NaN   \n",
       "4  17078502                    NaN                       NaN           NaN   \n",
       "\n",
       "   bathroomcnt  bedroomcnt  buildingclasstypeid  buildingqualitytypeid  \\\n",
       "0          5.0         4.0                  NaN                    NaN   \n",
       "1          2.0         3.0                  NaN                    NaN   \n",
       "2          1.5         3.0                  NaN                    NaN   \n",
       "3          2.0         2.0                  NaN                    NaN   \n",
       "4          1.0         2.0                  NaN                    NaN   \n",
       "\n",
       "   calculatedbathnbr  decktypeid  finishedfloor1squarefeet  \\\n",
       "0                5.0         NaN                    1968.0   \n",
       "1                2.0        66.0                    1444.0   \n",
       "2                1.5        66.0                    1698.0   \n",
       "3                2.0         NaN                     986.0   \n",
       "4                1.0         NaN                    1170.0   \n",
       "\n",
       "   calculatedfinishedsquarefeet  finishedsquarefeet12  finishedsquarefeet13  \\\n",
       "0                        3760.0                3760.0                   NaN   \n",
       "1                        1444.0                1444.0                   NaN   \n",
       "2                        1698.0                1698.0                   NaN   \n",
       "3                         986.0                 986.0                   NaN   \n",
       "4                        1170.0                1170.0                   NaN   \n",
       "\n",
       "   finishedsquarefeet15  finishedsquarefeet50  finishedsquarefeet6    fips  \\\n",
       "0                   NaN                1968.0                  NaN  6111.0   \n",
       "1                   NaN                1444.0                  NaN  6111.0   \n",
       "2                   NaN                1698.0                  NaN  6111.0   \n",
       "3                   NaN                 986.0                  NaN  6111.0   \n",
       "4                   NaN                1170.0                  NaN  6111.0   \n",
       "\n",
       "   fireplacecnt  fullbathcnt  garagecarcnt  garagetotalsqft hashottuborspa  \\\n",
       "0           4.0          5.0           3.0            784.0            NaN   \n",
       "1           NaN          2.0           1.0              0.0            NaN   \n",
       "2           1.0          1.0           0.0              0.0            NaN   \n",
       "3           1.0          2.0           1.0              0.0            NaN   \n",
       "4           1.0          1.0           2.0            621.0            NaN   \n",
       "\n",
       "   heatingorsystemtypeid    latitude    longitude  lotsizesquarefeet  poolcnt  \\\n",
       "0                    NaN  34449407.0 -119254052.0            42688.0      1.0   \n",
       "1                    NaN  34454169.0 -119237898.0             7108.0      NaN   \n",
       "2                    NaN  34365693.0 -119448392.0             2588.0      NaN   \n",
       "3                    NaN  34305600.0 -119284000.0                NaN      NaN   \n",
       "4                    NaN  34278012.0 -119257047.0             5643.0      NaN   \n",
       "\n",
       "   poolsizesum  pooltypeid10  pooltypeid2  pooltypeid7  \\\n",
       "0        735.0           NaN          NaN          1.0   \n",
       "1          NaN           NaN          NaN          NaN   \n",
       "2          NaN           NaN          NaN          NaN   \n",
       "3          NaN           NaN          NaN          NaN   \n",
       "4          NaN           NaN          NaN          NaN   \n",
       "\n",
       "  propertycountylandusecode  propertylandusetypeid propertyzoningdesc  \\\n",
       "0                      1110                  261.0                NaN   \n",
       "1                      1110                  261.0                NaN   \n",
       "2                      1110                  261.0                NaN   \n",
       "3                      1129                  266.0                NaN   \n",
       "4                      1110                  261.0                NaN   \n",
       "\n",
       "   rawcensustractandblock  regionidcity  regionidcounty  regionidneighborhood  \\\n",
       "0            6.111001e+07       13091.0          2061.0                   NaN   \n",
       "1            6.111001e+07       13091.0          2061.0                   NaN   \n",
       "2            6.111001e+07       34543.0          2061.0                   NaN   \n",
       "3            6.111002e+07       34543.0          2061.0                   NaN   \n",
       "4            6.111002e+07       34543.0          2061.0                   NaN   \n",
       "\n",
       "   regionidzip  roomcnt  storytypeid  threequarterbathnbr  \\\n",
       "0      97099.0     11.0          NaN                  NaN   \n",
       "1      97099.0      6.0          NaN                  NaN   \n",
       "2      97081.0      6.0          NaN                  1.0   \n",
       "3      97081.0      4.0          NaN                  NaN   \n",
       "4      97083.0      5.0          NaN                  NaN   \n",
       "\n",
       "   typeconstructiontypeid  unitcnt  yardbuildingsqft17  yardbuildingsqft26  \\\n",
       "0                     NaN      NaN                 NaN                 NaN   \n",
       "1                     NaN      NaN                 NaN                 NaN   \n",
       "2                     NaN      NaN                 NaN                 NaN   \n",
       "3                     NaN      NaN                55.0                 NaN   \n",
       "4                     NaN      NaN                 NaN                 NaN   \n",
       "\n",
       "   yearbuilt  numberofstories fireplaceflag  structuretaxvaluedollarcnt  \\\n",
       "0     1982.0              2.0           NaN                    501928.0   \n",
       "1     1951.0              1.0           NaN                    130845.0   \n",
       "2     1979.0              1.0           NaN                    193413.0   \n",
       "3     1989.0              1.0           NaN                     90357.0   \n",
       "4     1948.0              1.0           NaN                    148752.0   \n",
       "\n",
       "   taxvaluedollarcnt  assessmentyear  landtaxvaluedollarcnt  taxamount  \\\n",
       "0           872850.0          2016.0               370922.0    9673.46   \n",
       "1           436157.0          2016.0               305312.0    5538.80   \n",
       "2           286606.0          2016.0                93193.0    2987.36   \n",
       "3           258888.0          2016.0               168531.0    2706.24   \n",
       "4           592930.0          2016.0               444178.0    6220.70   \n",
       "\n",
       "  taxdelinquencyflag  taxdelinquencyyear  censustractandblock  logerror Tyear  \\\n",
       "0                NaN                 NaN         6.111001e+13 -0.013099  2017   \n",
       "1                NaN                 NaN         6.111001e+13  0.073985  2017   \n",
       "2                NaN                 NaN         6.111001e+13  0.071886  2017   \n",
       "3                NaN                 NaN         6.111002e+13  0.305680  2017   \n",
       "4                NaN                 NaN         6.111002e+13 -0.073787  2017   \n",
       "\n",
       "  Tmonth Tday  abslogerror  \n",
       "0     06   15     0.013099  \n",
       "1     07   26     0.073985  \n",
       "2     07   28     0.071886  \n",
       "3     06   02     0.305680  \n",
       "4     07   07     0.073787  "
      ]
     },
     "execution_count": 20,
     "metadata": {},
     "output_type": "execute_result"
    }
   ],
   "source": [
    "data_trans_reduced_comb_f.loc[:,'abslogerror'] = data_trans_reduced_comb_f['logerror'].abs() #add new column\n",
    "data_trans_reduced_comb_f.head()"
   ]
  },
  {
   "cell_type": "code",
   "execution_count": 21,
   "metadata": {
    "collapsed": true
   },
   "outputs": [],
   "source": [
    "import matplotlib as mlp\n",
    "import matplotlib.pyplot as plt\n",
    "from matplotlib.text import Text"
   ]
  },
  {
   "cell_type": "code",
   "execution_count": 22,
   "metadata": {},
   "outputs": [
    {
     "data": {
      "text/plain": [
       "\"\\nfig, ax = plt.subplots(figsize=(size, size))\\nt = Text(verticalalignment='top')\\nplt.xticks(range(len(corr.columns)), corr.columns, verticalalignment='top', rotation = 90, size=40)\\nplt.yticks(range(len(corr.columns)), corr.columns, size=40)\\nplt.imshow(corr, cmap='hot')\\n#aspect='auto',shape=(corr.iterrows,corr.columns, interpolation='nearest') \\ncbar = plt.colorbar()\\ncbar.ax.tick_params(labelsize=50)\\n#plt.show()\\n#ax.matshow(corr)  \\n\""
      ]
     },
     "execution_count": 22,
     "metadata": {},
     "output_type": "execute_result"
    }
   ],
   "source": [
    "'''\n",
    "fig, ax = plt.subplots(figsize=(size, size))\n",
    "t = Text(verticalalignment='top')\n",
    "plt.xticks(range(len(corr.columns)), corr.columns, verticalalignment='top', rotation = 90, size=40)\n",
    "plt.yticks(range(len(corr.columns)), corr.columns, size=40)\n",
    "plt.imshow(corr, cmap='hot')\n",
    "#aspect='auto',shape=(corr.iterrows,corr.columns, interpolation='nearest') \n",
    "cbar = plt.colorbar()\n",
    "cbar.ax.tick_params(labelsize=50)\n",
    "#plt.show()\n",
    "#ax.matshow(corr)  \n",
    "'''\n"
   ]
  },
  {
   "cell_type": "code",
   "execution_count": 23,
   "metadata": {
    "collapsed": true
   },
   "outputs": [],
   "source": [
    "def plot_corr(df,size=8):\n",
    "    '''Function plots a graphical correlation matrix for each pair of columns in the dataframe.\n",
    "\n",
    "    Input:\n",
    "        df: pandas DataFrame\n",
    "        size: vertical and horizontal size of the plot'''\n",
    "\n",
    "    corr = df.corr()\n",
    "    fig, ax = plt.subplots(figsize=(size, size))\n",
    "    sns.heatmap(corr, vmax=1., square=True)\n",
    "    plt.xticks(verticalalignment='top', rotation = 90, size=12)\n",
    "    plt.yticks(size=12)\n",
    "    plt.title(\"Important variables correlation map\", fontsize=15)\n",
    "    plt.show()    "
   ]
  },
  {
   "cell_type": "code",
   "execution_count": 24,
   "metadata": {
    "collapsed": true
   },
   "outputs": [],
   "source": [
    "#df = data_trans_reduced_comb_f.melt('parcelid',var_name='Columns',  value_name='Values')\n",
    "#g = sns.factorplot(x=\"parcelid\", y=\"Values\", hue='Columns', data=df)\n",
    "#data_trans_reduced_comb_f.shape\n",
    "\n",
    "data_trans_reduced_comb_f_nn = data_trans_reduced_comb_f.loc[:,data_trans_reduced_comb_f.isnull().sum()<100000]"
   ]
  },
  {
   "cell_type": "code",
   "execution_count": 25,
   "metadata": {
    "collapsed": true
   },
   "outputs": [],
   "source": [
    "#filter rows based on conditional check on column\n",
    "#data_trans_reduced_comb_f_nn.loc[:,data_trans_reduced_comb_f_nn.isnull().sum() > 1].head()"
   ]
  },
  {
   "cell_type": "code",
   "execution_count": 26,
   "metadata": {},
   "outputs": [
    {
     "data": {
      "text/html": [
       "<div>\n",
       "<table border=\"1\" class=\"dataframe\">\n",
       "  <thead>\n",
       "    <tr style=\"text-align: right;\">\n",
       "      <th></th>\n",
       "      <th>parcelid</th>\n",
       "      <th>bathroomcnt</th>\n",
       "      <th>bedroomcnt</th>\n",
       "      <th>fips</th>\n",
       "      <th>latitude</th>\n",
       "      <th>longitude</th>\n",
       "      <th>propertylandusetypeid</th>\n",
       "      <th>rawcensustractandblock</th>\n",
       "      <th>regionidcounty</th>\n",
       "      <th>roomcnt</th>\n",
       "      <th>assessmentyear</th>\n",
       "      <th>logerror</th>\n",
       "      <th>Tyear</th>\n",
       "      <th>Tmonth</th>\n",
       "      <th>Tday</th>\n",
       "      <th>abslogerror</th>\n",
       "    </tr>\n",
       "  </thead>\n",
       "  <tbody>\n",
       "    <tr>\n",
       "      <th>0</th>\n",
       "      <td>17054981</td>\n",
       "      <td>5.0</td>\n",
       "      <td>4.0</td>\n",
       "      <td>6111.0</td>\n",
       "      <td>34449407.0</td>\n",
       "      <td>-119254052.0</td>\n",
       "      <td>261.0</td>\n",
       "      <td>6.111001e+07</td>\n",
       "      <td>2061.0</td>\n",
       "      <td>11.0</td>\n",
       "      <td>2016.0</td>\n",
       "      <td>-0.013099</td>\n",
       "      <td>2017</td>\n",
       "      <td>06</td>\n",
       "      <td>15</td>\n",
       "      <td>0.013099</td>\n",
       "    </tr>\n",
       "    <tr>\n",
       "      <th>1</th>\n",
       "      <td>17055743</td>\n",
       "      <td>2.0</td>\n",
       "      <td>3.0</td>\n",
       "      <td>6111.0</td>\n",
       "      <td>34454169.0</td>\n",
       "      <td>-119237898.0</td>\n",
       "      <td>261.0</td>\n",
       "      <td>6.111001e+07</td>\n",
       "      <td>2061.0</td>\n",
       "      <td>6.0</td>\n",
       "      <td>2016.0</td>\n",
       "      <td>0.073985</td>\n",
       "      <td>2017</td>\n",
       "      <td>07</td>\n",
       "      <td>26</td>\n",
       "      <td>0.073985</td>\n",
       "    </tr>\n",
       "    <tr>\n",
       "      <th>2</th>\n",
       "      <td>17068109</td>\n",
       "      <td>1.5</td>\n",
       "      <td>3.0</td>\n",
       "      <td>6111.0</td>\n",
       "      <td>34365693.0</td>\n",
       "      <td>-119448392.0</td>\n",
       "      <td>261.0</td>\n",
       "      <td>6.111001e+07</td>\n",
       "      <td>2061.0</td>\n",
       "      <td>6.0</td>\n",
       "      <td>2016.0</td>\n",
       "      <td>0.071886</td>\n",
       "      <td>2017</td>\n",
       "      <td>07</td>\n",
       "      <td>28</td>\n",
       "      <td>0.071886</td>\n",
       "    </tr>\n",
       "    <tr>\n",
       "      <th>3</th>\n",
       "      <td>17073952</td>\n",
       "      <td>2.0</td>\n",
       "      <td>2.0</td>\n",
       "      <td>6111.0</td>\n",
       "      <td>34305600.0</td>\n",
       "      <td>-119284000.0</td>\n",
       "      <td>266.0</td>\n",
       "      <td>6.111002e+07</td>\n",
       "      <td>2061.0</td>\n",
       "      <td>4.0</td>\n",
       "      <td>2016.0</td>\n",
       "      <td>0.305680</td>\n",
       "      <td>2017</td>\n",
       "      <td>06</td>\n",
       "      <td>02</td>\n",
       "      <td>0.305680</td>\n",
       "    </tr>\n",
       "    <tr>\n",
       "      <th>4</th>\n",
       "      <td>17078502</td>\n",
       "      <td>1.0</td>\n",
       "      <td>2.0</td>\n",
       "      <td>6111.0</td>\n",
       "      <td>34278012.0</td>\n",
       "      <td>-119257047.0</td>\n",
       "      <td>261.0</td>\n",
       "      <td>6.111002e+07</td>\n",
       "      <td>2061.0</td>\n",
       "      <td>5.0</td>\n",
       "      <td>2016.0</td>\n",
       "      <td>-0.073787</td>\n",
       "      <td>2017</td>\n",
       "      <td>07</td>\n",
       "      <td>07</td>\n",
       "      <td>0.073787</td>\n",
       "    </tr>\n",
       "  </tbody>\n",
       "</table>\n",
       "</div>"
      ],
      "text/plain": [
       "   parcelid  bathroomcnt  bedroomcnt    fips    latitude    longitude  \\\n",
       "0  17054981          5.0         4.0  6111.0  34449407.0 -119254052.0   \n",
       "1  17055743          2.0         3.0  6111.0  34454169.0 -119237898.0   \n",
       "2  17068109          1.5         3.0  6111.0  34365693.0 -119448392.0   \n",
       "3  17073952          2.0         2.0  6111.0  34305600.0 -119284000.0   \n",
       "4  17078502          1.0         2.0  6111.0  34278012.0 -119257047.0   \n",
       "\n",
       "   propertylandusetypeid  rawcensustractandblock  regionidcounty  roomcnt  \\\n",
       "0                  261.0            6.111001e+07          2061.0     11.0   \n",
       "1                  261.0            6.111001e+07          2061.0      6.0   \n",
       "2                  261.0            6.111001e+07          2061.0      6.0   \n",
       "3                  266.0            6.111002e+07          2061.0      4.0   \n",
       "4                  261.0            6.111002e+07          2061.0      5.0   \n",
       "\n",
       "   assessmentyear  logerror Tyear Tmonth Tday  abslogerror  \n",
       "0          2016.0 -0.013099  2017     06   15     0.013099  \n",
       "1          2016.0  0.073985  2017     07   26     0.073985  \n",
       "2          2016.0  0.071886  2017     07   28     0.071886  \n",
       "3          2016.0  0.305680  2017     06   02     0.305680  \n",
       "4          2016.0 -0.073787  2017     07   07     0.073787  "
      ]
     },
     "execution_count": 26,
     "metadata": {},
     "output_type": "execute_result"
    }
   ],
   "source": [
    "data_trans_reduced_comb_f_nn.loc[:, data_trans_reduced_comb_f_nn.isnull().sum() == 0].head()"
   ]
  },
  {
   "cell_type": "code",
   "execution_count": 27,
   "metadata": {
    "collapsed": true
   },
   "outputs": [],
   "source": [
    "after_remov_parcelid_df = data_trans_reduced_comb_f_nn.drop('parcelid',axis=1)"
   ]
  },
  {
   "cell_type": "code",
   "execution_count": 28,
   "metadata": {
    "collapsed": true
   },
   "outputs": [],
   "source": [
    "def plot_countPlot(df,label):\n",
    "    plt.figure(figsize=(12,8))\n",
    "    sns.countplot(x=label, data=df)\n",
    "    plt.ylabel('Count', fontsize=12)\n",
    "    plt.xlabel(label, fontsize=12)\n",
    "    plt.xticks(rotation='vertical')\n",
    "    plt.title(\"Frequency of \"+ label +\" count\", fontsize=15)\n",
    "    plt.show()"
   ]
  },
  {
   "cell_type": "code",
   "execution_count": 29,
   "metadata": {
    "collapsed": true
   },
   "outputs": [],
   "source": [
    "#plot_countPlot(after_imputing_df,'propertylandusetypeid')"
   ]
  },
  {
   "cell_type": "code",
   "execution_count": 161,
   "metadata": {},
   "outputs": [
    {
     "data": {
      "text/html": [
       "<div>\n",
       "<table border=\"1\" class=\"dataframe\">\n",
       "  <thead>\n",
       "    <tr style=\"text-align: right;\">\n",
       "      <th></th>\n",
       "      <th>bathroomcnt</th>\n",
       "      <th>bedroomcnt</th>\n",
       "      <th>buildingqualitytypeid</th>\n",
       "      <th>calculatedbathnbr</th>\n",
       "      <th>calculatedfinishedsquarefeet</th>\n",
       "      <th>finishedsquarefeet12</th>\n",
       "      <th>fips</th>\n",
       "      <th>fullbathcnt</th>\n",
       "      <th>latitude</th>\n",
       "      <th>longitude</th>\n",
       "      <th>lotsizesquarefeet</th>\n",
       "      <th>propertycountylandusecode</th>\n",
       "      <th>propertylandusetypeid</th>\n",
       "      <th>propertyzoningdesc</th>\n",
       "      <th>rawcensustractandblock</th>\n",
       "      <th>regionidcity</th>\n",
       "      <th>regionidcounty</th>\n",
       "      <th>regionidzip</th>\n",
       "      <th>roomcnt</th>\n",
       "      <th>unitcnt</th>\n",
       "      <th>yearbuilt</th>\n",
       "      <th>structuretaxvaluedollarcnt</th>\n",
       "      <th>taxvaluedollarcnt</th>\n",
       "      <th>assessmentyear</th>\n",
       "      <th>landtaxvaluedollarcnt</th>\n",
       "      <th>taxamount</th>\n",
       "      <th>censustractandblock</th>\n",
       "      <th>logerror</th>\n",
       "      <th>Tyear</th>\n",
       "      <th>Tmonth</th>\n",
       "      <th>Tday</th>\n",
       "      <th>abslogerror</th>\n",
       "    </tr>\n",
       "  </thead>\n",
       "  <tbody>\n",
       "    <tr>\n",
       "      <th>0</th>\n",
       "      <td>5.0</td>\n",
       "      <td>4.0</td>\n",
       "      <td>6.015461</td>\n",
       "      <td>5.0</td>\n",
       "      <td>3760.0</td>\n",
       "      <td>3760.0</td>\n",
       "      <td>6111.0</td>\n",
       "      <td>5.0</td>\n",
       "      <td>34449407.0</td>\n",
       "      <td>-119254052.0</td>\n",
       "      <td>42688.000000</td>\n",
       "      <td>1110</td>\n",
       "      <td>261.0</td>\n",
       "      <td>NaN</td>\n",
       "      <td>6.111001e+07</td>\n",
       "      <td>13091.0</td>\n",
       "      <td>2061.0</td>\n",
       "      <td>97099.0</td>\n",
       "      <td>11.0</td>\n",
       "      <td>1.110365</td>\n",
       "      <td>1982.0</td>\n",
       "      <td>501928.0</td>\n",
       "      <td>872850.0</td>\n",
       "      <td>2016.0</td>\n",
       "      <td>370922.0</td>\n",
       "      <td>9673.46</td>\n",
       "      <td>6.111001e+13</td>\n",
       "      <td>-0.013099</td>\n",
       "      <td>2017</td>\n",
       "      <td>06</td>\n",
       "      <td>15</td>\n",
       "      <td>0.013099</td>\n",
       "    </tr>\n",
       "    <tr>\n",
       "      <th>1</th>\n",
       "      <td>2.0</td>\n",
       "      <td>3.0</td>\n",
       "      <td>6.015461</td>\n",
       "      <td>2.0</td>\n",
       "      <td>1444.0</td>\n",
       "      <td>1444.0</td>\n",
       "      <td>6111.0</td>\n",
       "      <td>2.0</td>\n",
       "      <td>34454169.0</td>\n",
       "      <td>-119237898.0</td>\n",
       "      <td>7108.000000</td>\n",
       "      <td>1110</td>\n",
       "      <td>261.0</td>\n",
       "      <td>NaN</td>\n",
       "      <td>6.111001e+07</td>\n",
       "      <td>13091.0</td>\n",
       "      <td>2061.0</td>\n",
       "      <td>97099.0</td>\n",
       "      <td>6.0</td>\n",
       "      <td>1.110365</td>\n",
       "      <td>1951.0</td>\n",
       "      <td>130845.0</td>\n",
       "      <td>436157.0</td>\n",
       "      <td>2016.0</td>\n",
       "      <td>305312.0</td>\n",
       "      <td>5538.80</td>\n",
       "      <td>6.111001e+13</td>\n",
       "      <td>0.073985</td>\n",
       "      <td>2017</td>\n",
       "      <td>07</td>\n",
       "      <td>26</td>\n",
       "      <td>0.073985</td>\n",
       "    </tr>\n",
       "    <tr>\n",
       "      <th>2</th>\n",
       "      <td>1.5</td>\n",
       "      <td>3.0</td>\n",
       "      <td>6.015461</td>\n",
       "      <td>1.5</td>\n",
       "      <td>1698.0</td>\n",
       "      <td>1698.0</td>\n",
       "      <td>6111.0</td>\n",
       "      <td>1.0</td>\n",
       "      <td>34365693.0</td>\n",
       "      <td>-119448392.0</td>\n",
       "      <td>2588.000000</td>\n",
       "      <td>1110</td>\n",
       "      <td>261.0</td>\n",
       "      <td>NaN</td>\n",
       "      <td>6.111001e+07</td>\n",
       "      <td>34543.0</td>\n",
       "      <td>2061.0</td>\n",
       "      <td>97081.0</td>\n",
       "      <td>6.0</td>\n",
       "      <td>1.110365</td>\n",
       "      <td>1979.0</td>\n",
       "      <td>193413.0</td>\n",
       "      <td>286606.0</td>\n",
       "      <td>2016.0</td>\n",
       "      <td>93193.0</td>\n",
       "      <td>2987.36</td>\n",
       "      <td>6.111001e+13</td>\n",
       "      <td>0.071886</td>\n",
       "      <td>2017</td>\n",
       "      <td>07</td>\n",
       "      <td>28</td>\n",
       "      <td>0.071886</td>\n",
       "    </tr>\n",
       "    <tr>\n",
       "      <th>3</th>\n",
       "      <td>2.0</td>\n",
       "      <td>2.0</td>\n",
       "      <td>6.015461</td>\n",
       "      <td>2.0</td>\n",
       "      <td>986.0</td>\n",
       "      <td>986.0</td>\n",
       "      <td>6111.0</td>\n",
       "      <td>2.0</td>\n",
       "      <td>34305600.0</td>\n",
       "      <td>-119284000.0</td>\n",
       "      <td>29510.596012</td>\n",
       "      <td>1129</td>\n",
       "      <td>266.0</td>\n",
       "      <td>NaN</td>\n",
       "      <td>6.111002e+07</td>\n",
       "      <td>34543.0</td>\n",
       "      <td>2061.0</td>\n",
       "      <td>97081.0</td>\n",
       "      <td>4.0</td>\n",
       "      <td>1.110365</td>\n",
       "      <td>1989.0</td>\n",
       "      <td>90357.0</td>\n",
       "      <td>258888.0</td>\n",
       "      <td>2016.0</td>\n",
       "      <td>168531.0</td>\n",
       "      <td>2706.24</td>\n",
       "      <td>6.111002e+13</td>\n",
       "      <td>0.305680</td>\n",
       "      <td>2017</td>\n",
       "      <td>06</td>\n",
       "      <td>02</td>\n",
       "      <td>0.305680</td>\n",
       "    </tr>\n",
       "    <tr>\n",
       "      <th>4</th>\n",
       "      <td>1.0</td>\n",
       "      <td>2.0</td>\n",
       "      <td>6.015461</td>\n",
       "      <td>1.0</td>\n",
       "      <td>1170.0</td>\n",
       "      <td>1170.0</td>\n",
       "      <td>6111.0</td>\n",
       "      <td>1.0</td>\n",
       "      <td>34278012.0</td>\n",
       "      <td>-119257047.0</td>\n",
       "      <td>5643.000000</td>\n",
       "      <td>1110</td>\n",
       "      <td>261.0</td>\n",
       "      <td>NaN</td>\n",
       "      <td>6.111002e+07</td>\n",
       "      <td>34543.0</td>\n",
       "      <td>2061.0</td>\n",
       "      <td>97083.0</td>\n",
       "      <td>5.0</td>\n",
       "      <td>1.110365</td>\n",
       "      <td>1948.0</td>\n",
       "      <td>148752.0</td>\n",
       "      <td>592930.0</td>\n",
       "      <td>2016.0</td>\n",
       "      <td>444178.0</td>\n",
       "      <td>6220.70</td>\n",
       "      <td>6.111002e+13</td>\n",
       "      <td>-0.073787</td>\n",
       "      <td>2017</td>\n",
       "      <td>07</td>\n",
       "      <td>07</td>\n",
       "      <td>0.073787</td>\n",
       "    </tr>\n",
       "  </tbody>\n",
       "</table>\n",
       "</div>"
      ],
      "text/plain": [
       "   bathroomcnt  bedroomcnt  buildingqualitytypeid  calculatedbathnbr  \\\n",
       "0          5.0         4.0               6.015461                5.0   \n",
       "1          2.0         3.0               6.015461                2.0   \n",
       "2          1.5         3.0               6.015461                1.5   \n",
       "3          2.0         2.0               6.015461                2.0   \n",
       "4          1.0         2.0               6.015461                1.0   \n",
       "\n",
       "   calculatedfinishedsquarefeet  finishedsquarefeet12    fips  fullbathcnt  \\\n",
       "0                        3760.0                3760.0  6111.0          5.0   \n",
       "1                        1444.0                1444.0  6111.0          2.0   \n",
       "2                        1698.0                1698.0  6111.0          1.0   \n",
       "3                         986.0                 986.0  6111.0          2.0   \n",
       "4                        1170.0                1170.0  6111.0          1.0   \n",
       "\n",
       "     latitude    longitude  lotsizesquarefeet propertycountylandusecode  \\\n",
       "0  34449407.0 -119254052.0       42688.000000                      1110   \n",
       "1  34454169.0 -119237898.0        7108.000000                      1110   \n",
       "2  34365693.0 -119448392.0        2588.000000                      1110   \n",
       "3  34305600.0 -119284000.0       29510.596012                      1129   \n",
       "4  34278012.0 -119257047.0        5643.000000                      1110   \n",
       "\n",
       "   propertylandusetypeid propertyzoningdesc  rawcensustractandblock  \\\n",
       "0                  261.0                NaN            6.111001e+07   \n",
       "1                  261.0                NaN            6.111001e+07   \n",
       "2                  261.0                NaN            6.111001e+07   \n",
       "3                  266.0                NaN            6.111002e+07   \n",
       "4                  261.0                NaN            6.111002e+07   \n",
       "\n",
       "   regionidcity  regionidcounty  regionidzip  roomcnt   unitcnt  yearbuilt  \\\n",
       "0       13091.0          2061.0      97099.0     11.0  1.110365     1982.0   \n",
       "1       13091.0          2061.0      97099.0      6.0  1.110365     1951.0   \n",
       "2       34543.0          2061.0      97081.0      6.0  1.110365     1979.0   \n",
       "3       34543.0          2061.0      97081.0      4.0  1.110365     1989.0   \n",
       "4       34543.0          2061.0      97083.0      5.0  1.110365     1948.0   \n",
       "\n",
       "   structuretaxvaluedollarcnt  taxvaluedollarcnt  assessmentyear  \\\n",
       "0                    501928.0           872850.0          2016.0   \n",
       "1                    130845.0           436157.0          2016.0   \n",
       "2                    193413.0           286606.0          2016.0   \n",
       "3                     90357.0           258888.0          2016.0   \n",
       "4                    148752.0           592930.0          2016.0   \n",
       "\n",
       "   landtaxvaluedollarcnt  taxamount  censustractandblock  logerror Tyear  \\\n",
       "0               370922.0    9673.46         6.111001e+13 -0.013099  2017   \n",
       "1               305312.0    5538.80         6.111001e+13  0.073985  2017   \n",
       "2                93193.0    2987.36         6.111001e+13  0.071886  2017   \n",
       "3               168531.0    2706.24         6.111002e+13  0.305680  2017   \n",
       "4               444178.0    6220.70         6.111002e+13 -0.073787  2017   \n",
       "\n",
       "  Tmonth Tday  abslogerror  \n",
       "0     06   15     0.013099  \n",
       "1     07   26     0.073985  \n",
       "2     07   28     0.071886  \n",
       "3     06   02     0.305680  \n",
       "4     07   07     0.073787  "
      ]
     },
     "execution_count": 161,
     "metadata": {},
     "output_type": "execute_result"
    }
   ],
   "source": [
    "index = after_remov_parcelid_df.heatingorsystemtypeid.isnull()\n",
    "after_remov_parcelid_df.loc[index,'heatingorsystemtypeid'] = 2\n",
    "after_imputing_df = after_remov_parcelid_df.drop('heatingorsystemtypeid', axis=1)\n",
    "after_imputing_df = after_imputing_df.fillna(after_imputing_df.mean(axis=0))\n",
    "after_imputing_df.head()"
   ]
  },
  {
   "cell_type": "code",
   "execution_count": 31,
   "metadata": {
    "collapsed": true
   },
   "outputs": [],
   "source": [
    "#after_corr_sel_df['']\n",
    "#plot_countPlot(after_corr_sel_df,'buildingqualitytypeid')"
   ]
  },
  {
   "cell_type": "code",
   "execution_count": 162,
   "metadata": {
    "collapsed": true
   },
   "outputs": [],
   "source": [
    "after_imputing_df.loc[:,'heatingorsystemtypeid'] = after_remov_parcelid_df['heatingorsystemtypeid']"
   ]
  },
  {
   "cell_type": "code",
   "execution_count": 33,
   "metadata": {
    "collapsed": true
   },
   "outputs": [],
   "source": [
    "from sklearn.preprocessing import OneHotEncoder\n",
    "from sklearn.neighbors import KNeighborsClassifier"
   ]
  },
  {
   "cell_type": "code",
   "execution_count": 34,
   "metadata": {
    "collapsed": true
   },
   "outputs": [],
   "source": [
    "def fillna_knn( df, base, target, fraction = 1, threshold = 10, n_neighbors = 5 ):\n",
    "    assert isinstance( base , list ) or isinstance( base , np.ndarray ) and isinstance( target, str ) \n",
    "    whole = [ target ] + base\n",
    "    \n",
    "    miss = df[target].isnull()\n",
    "    notmiss = ~miss \n",
    "    nummiss = miss.sum()\n",
    "    \n",
    "    enc = OneHotEncoder()\n",
    "    X_target = df.loc[ notmiss, whole ].sample( frac = fraction )\n",
    "    \n",
    "    enc.fit( X_target[ target ].unique().reshape( (-1,1) ) )\n",
    "    \n",
    "    Y = enc.transform( X_target[ target ].values.reshape((-1,1)) ).toarray()\n",
    "    X = X_target[ base  ]\n",
    "    \n",
    "    print( 'fitting' )\n",
    "    n_neighbors = n_neighbors\n",
    "    clf = KNeighborsClassifier( n_neighbors, weights = 'uniform' )\n",
    "    clf.fit( X, Y )\n",
    "    \n",
    "    print( 'the shape of active features: ' ,enc.active_features_.shape )\n",
    "    \n",
    "    print( 'predicting' )\n",
    "    Z = clf.predict(df.loc[miss, base])\n",
    "    \n",
    "    numunperdicted = Z[:,0].sum()\n",
    "    if numunperdicted / nummiss *100 < threshold :\n",
    "        print( 'writing result to df' )    \n",
    "        df.loc[ miss, target ]  = np.dot( Z , enc.active_features_ )\n",
    "        print( 'num of unperdictable data: ', numunperdicted )\n",
    "        return enc\n",
    "    else:\n",
    "        print( 'out of threshold: {}% > {}%'.format( numunperdicted / nummiss *100 , threshold ) )"
   ]
  },
  {
   "cell_type": "code",
   "execution_count": 35,
   "metadata": {},
   "outputs": [
    {
     "data": {
      "text/html": [
       "<div>\n",
       "<table border=\"1\" class=\"dataframe\">\n",
       "  <thead>\n",
       "    <tr style=\"text-align: right;\">\n",
       "      <th></th>\n",
       "      <th>bathroomcnt</th>\n",
       "      <th>bedroomcnt</th>\n",
       "      <th>buildingqualitytypeid</th>\n",
       "      <th>calculatedbathnbr</th>\n",
       "      <th>calculatedfinishedsquarefeet</th>\n",
       "      <th>finishedsquarefeet12</th>\n",
       "      <th>fips</th>\n",
       "      <th>fullbathcnt</th>\n",
       "      <th>heatingorsystemtypeid</th>\n",
       "      <th>latitude</th>\n",
       "      <th>longitude</th>\n",
       "      <th>lotsizesquarefeet</th>\n",
       "      <th>propertycountylandusecode</th>\n",
       "      <th>propertylandusetypeid</th>\n",
       "      <th>propertyzoningdesc</th>\n",
       "      <th>rawcensustractandblock</th>\n",
       "      <th>regionidcity</th>\n",
       "      <th>regionidcounty</th>\n",
       "      <th>regionidzip</th>\n",
       "      <th>roomcnt</th>\n",
       "      <th>unitcnt</th>\n",
       "      <th>yearbuilt</th>\n",
       "      <th>structuretaxvaluedollarcnt</th>\n",
       "      <th>taxvaluedollarcnt</th>\n",
       "      <th>assessmentyear</th>\n",
       "      <th>landtaxvaluedollarcnt</th>\n",
       "      <th>taxamount</th>\n",
       "      <th>censustractandblock</th>\n",
       "      <th>logerror</th>\n",
       "      <th>Tyear</th>\n",
       "      <th>Tmonth</th>\n",
       "      <th>Tday</th>\n",
       "      <th>abslogerror</th>\n",
       "    </tr>\n",
       "  </thead>\n",
       "  <tbody>\n",
       "    <tr>\n",
       "      <th>0</th>\n",
       "      <td>5.0</td>\n",
       "      <td>4.0</td>\n",
       "      <td>NaN</td>\n",
       "      <td>5.0</td>\n",
       "      <td>3760.0</td>\n",
       "      <td>3760.0</td>\n",
       "      <td>6111.0</td>\n",
       "      <td>5.0</td>\n",
       "      <td>2.0</td>\n",
       "      <td>34449407.0</td>\n",
       "      <td>-119254052.0</td>\n",
       "      <td>42688.0</td>\n",
       "      <td>1110</td>\n",
       "      <td>261.0</td>\n",
       "      <td>NaN</td>\n",
       "      <td>6.111001e+07</td>\n",
       "      <td>13091.0</td>\n",
       "      <td>2061.0</td>\n",
       "      <td>97099.0</td>\n",
       "      <td>11.0</td>\n",
       "      <td>NaN</td>\n",
       "      <td>1982.0</td>\n",
       "      <td>501928.0</td>\n",
       "      <td>872850.0</td>\n",
       "      <td>2016.0</td>\n",
       "      <td>370922.0</td>\n",
       "      <td>9673.46</td>\n",
       "      <td>6.111001e+13</td>\n",
       "      <td>-0.013099</td>\n",
       "      <td>2017</td>\n",
       "      <td>06</td>\n",
       "      <td>15</td>\n",
       "      <td>0.013099</td>\n",
       "    </tr>\n",
       "    <tr>\n",
       "      <th>1</th>\n",
       "      <td>2.0</td>\n",
       "      <td>3.0</td>\n",
       "      <td>NaN</td>\n",
       "      <td>2.0</td>\n",
       "      <td>1444.0</td>\n",
       "      <td>1444.0</td>\n",
       "      <td>6111.0</td>\n",
       "      <td>2.0</td>\n",
       "      <td>2.0</td>\n",
       "      <td>34454169.0</td>\n",
       "      <td>-119237898.0</td>\n",
       "      <td>7108.0</td>\n",
       "      <td>1110</td>\n",
       "      <td>261.0</td>\n",
       "      <td>NaN</td>\n",
       "      <td>6.111001e+07</td>\n",
       "      <td>13091.0</td>\n",
       "      <td>2061.0</td>\n",
       "      <td>97099.0</td>\n",
       "      <td>6.0</td>\n",
       "      <td>NaN</td>\n",
       "      <td>1951.0</td>\n",
       "      <td>130845.0</td>\n",
       "      <td>436157.0</td>\n",
       "      <td>2016.0</td>\n",
       "      <td>305312.0</td>\n",
       "      <td>5538.80</td>\n",
       "      <td>6.111001e+13</td>\n",
       "      <td>0.073985</td>\n",
       "      <td>2017</td>\n",
       "      <td>07</td>\n",
       "      <td>26</td>\n",
       "      <td>0.073985</td>\n",
       "    </tr>\n",
       "    <tr>\n",
       "      <th>2</th>\n",
       "      <td>1.5</td>\n",
       "      <td>3.0</td>\n",
       "      <td>NaN</td>\n",
       "      <td>1.5</td>\n",
       "      <td>1698.0</td>\n",
       "      <td>1698.0</td>\n",
       "      <td>6111.0</td>\n",
       "      <td>1.0</td>\n",
       "      <td>2.0</td>\n",
       "      <td>34365693.0</td>\n",
       "      <td>-119448392.0</td>\n",
       "      <td>2588.0</td>\n",
       "      <td>1110</td>\n",
       "      <td>261.0</td>\n",
       "      <td>NaN</td>\n",
       "      <td>6.111001e+07</td>\n",
       "      <td>34543.0</td>\n",
       "      <td>2061.0</td>\n",
       "      <td>97081.0</td>\n",
       "      <td>6.0</td>\n",
       "      <td>NaN</td>\n",
       "      <td>1979.0</td>\n",
       "      <td>193413.0</td>\n",
       "      <td>286606.0</td>\n",
       "      <td>2016.0</td>\n",
       "      <td>93193.0</td>\n",
       "      <td>2987.36</td>\n",
       "      <td>6.111001e+13</td>\n",
       "      <td>0.071886</td>\n",
       "      <td>2017</td>\n",
       "      <td>07</td>\n",
       "      <td>28</td>\n",
       "      <td>0.071886</td>\n",
       "    </tr>\n",
       "    <tr>\n",
       "      <th>3</th>\n",
       "      <td>2.0</td>\n",
       "      <td>2.0</td>\n",
       "      <td>NaN</td>\n",
       "      <td>2.0</td>\n",
       "      <td>986.0</td>\n",
       "      <td>986.0</td>\n",
       "      <td>6111.0</td>\n",
       "      <td>2.0</td>\n",
       "      <td>2.0</td>\n",
       "      <td>34305600.0</td>\n",
       "      <td>-119284000.0</td>\n",
       "      <td>NaN</td>\n",
       "      <td>1129</td>\n",
       "      <td>266.0</td>\n",
       "      <td>NaN</td>\n",
       "      <td>6.111002e+07</td>\n",
       "      <td>34543.0</td>\n",
       "      <td>2061.0</td>\n",
       "      <td>97081.0</td>\n",
       "      <td>4.0</td>\n",
       "      <td>NaN</td>\n",
       "      <td>1989.0</td>\n",
       "      <td>90357.0</td>\n",
       "      <td>258888.0</td>\n",
       "      <td>2016.0</td>\n",
       "      <td>168531.0</td>\n",
       "      <td>2706.24</td>\n",
       "      <td>6.111002e+13</td>\n",
       "      <td>0.305680</td>\n",
       "      <td>2017</td>\n",
       "      <td>06</td>\n",
       "      <td>02</td>\n",
       "      <td>0.305680</td>\n",
       "    </tr>\n",
       "    <tr>\n",
       "      <th>4</th>\n",
       "      <td>1.0</td>\n",
       "      <td>2.0</td>\n",
       "      <td>NaN</td>\n",
       "      <td>1.0</td>\n",
       "      <td>1170.0</td>\n",
       "      <td>1170.0</td>\n",
       "      <td>6111.0</td>\n",
       "      <td>1.0</td>\n",
       "      <td>2.0</td>\n",
       "      <td>34278012.0</td>\n",
       "      <td>-119257047.0</td>\n",
       "      <td>5643.0</td>\n",
       "      <td>1110</td>\n",
       "      <td>261.0</td>\n",
       "      <td>NaN</td>\n",
       "      <td>6.111002e+07</td>\n",
       "      <td>34543.0</td>\n",
       "      <td>2061.0</td>\n",
       "      <td>97083.0</td>\n",
       "      <td>5.0</td>\n",
       "      <td>NaN</td>\n",
       "      <td>1948.0</td>\n",
       "      <td>148752.0</td>\n",
       "      <td>592930.0</td>\n",
       "      <td>2016.0</td>\n",
       "      <td>444178.0</td>\n",
       "      <td>6220.70</td>\n",
       "      <td>6.111002e+13</td>\n",
       "      <td>-0.073787</td>\n",
       "      <td>2017</td>\n",
       "      <td>07</td>\n",
       "      <td>07</td>\n",
       "      <td>0.073787</td>\n",
       "    </tr>\n",
       "  </tbody>\n",
       "</table>\n",
       "</div>"
      ],
      "text/plain": [
       "   bathroomcnt  bedroomcnt  buildingqualitytypeid  calculatedbathnbr  \\\n",
       "0          5.0         4.0                    NaN                5.0   \n",
       "1          2.0         3.0                    NaN                2.0   \n",
       "2          1.5         3.0                    NaN                1.5   \n",
       "3          2.0         2.0                    NaN                2.0   \n",
       "4          1.0         2.0                    NaN                1.0   \n",
       "\n",
       "   calculatedfinishedsquarefeet  finishedsquarefeet12    fips  fullbathcnt  \\\n",
       "0                        3760.0                3760.0  6111.0          5.0   \n",
       "1                        1444.0                1444.0  6111.0          2.0   \n",
       "2                        1698.0                1698.0  6111.0          1.0   \n",
       "3                         986.0                 986.0  6111.0          2.0   \n",
       "4                        1170.0                1170.0  6111.0          1.0   \n",
       "\n",
       "   heatingorsystemtypeid    latitude    longitude  lotsizesquarefeet  \\\n",
       "0                    2.0  34449407.0 -119254052.0            42688.0   \n",
       "1                    2.0  34454169.0 -119237898.0             7108.0   \n",
       "2                    2.0  34365693.0 -119448392.0             2588.0   \n",
       "3                    2.0  34305600.0 -119284000.0                NaN   \n",
       "4                    2.0  34278012.0 -119257047.0             5643.0   \n",
       "\n",
       "  propertycountylandusecode  propertylandusetypeid propertyzoningdesc  \\\n",
       "0                      1110                  261.0                NaN   \n",
       "1                      1110                  261.0                NaN   \n",
       "2                      1110                  261.0                NaN   \n",
       "3                      1129                  266.0                NaN   \n",
       "4                      1110                  261.0                NaN   \n",
       "\n",
       "   rawcensustractandblock  regionidcity  regionidcounty  regionidzip  roomcnt  \\\n",
       "0            6.111001e+07       13091.0          2061.0      97099.0     11.0   \n",
       "1            6.111001e+07       13091.0          2061.0      97099.0      6.0   \n",
       "2            6.111001e+07       34543.0          2061.0      97081.0      6.0   \n",
       "3            6.111002e+07       34543.0          2061.0      97081.0      4.0   \n",
       "4            6.111002e+07       34543.0          2061.0      97083.0      5.0   \n",
       "\n",
       "   unitcnt  yearbuilt  structuretaxvaluedollarcnt  taxvaluedollarcnt  \\\n",
       "0      NaN     1982.0                    501928.0           872850.0   \n",
       "1      NaN     1951.0                    130845.0           436157.0   \n",
       "2      NaN     1979.0                    193413.0           286606.0   \n",
       "3      NaN     1989.0                     90357.0           258888.0   \n",
       "4      NaN     1948.0                    148752.0           592930.0   \n",
       "\n",
       "   assessmentyear  landtaxvaluedollarcnt  taxamount  censustractandblock  \\\n",
       "0          2016.0               370922.0    9673.46         6.111001e+13   \n",
       "1          2016.0               305312.0    5538.80         6.111001e+13   \n",
       "2          2016.0                93193.0    2987.36         6.111001e+13   \n",
       "3          2016.0               168531.0    2706.24         6.111002e+13   \n",
       "4          2016.0               444178.0    6220.70         6.111002e+13   \n",
       "\n",
       "   logerror Tyear Tmonth Tday  abslogerror  \n",
       "0 -0.013099  2017     06   15     0.013099  \n",
       "1  0.073985  2017     07   26     0.073985  \n",
       "2  0.071886  2017     07   28     0.071886  \n",
       "3  0.305680  2017     06   02     0.305680  \n",
       "4 -0.073787  2017     07   07     0.073787  "
      ]
     },
     "execution_count": 35,
     "metadata": {},
     "output_type": "execute_result"
    }
   ],
   "source": [
    "after_remov_parcelid_df.head()"
   ]
  },
  {
   "cell_type": "code",
   "execution_count": 36,
   "metadata": {
    "collapsed": true
   },
   "outputs": [],
   "source": [
    "test = after_remov_parcelid_df.copy()"
   ]
  },
  {
   "cell_type": "code",
   "execution_count": 37,
   "metadata": {},
   "outputs": [
    {
     "name": "stdout",
     "output_type": "stream",
     "text": [
      "fitting\n",
      "('the shape of active features: ', (12,))\n",
      "predicting\n",
      "writing result to df\n",
      "('num of unperdictable data: ', 585.0)\n"
     ]
    },
    {
     "data": {
      "text/plain": [
       "OneHotEncoder(categorical_features='all', dtype=<type 'float'>,\n",
       "       handle_unknown='error', n_values='auto', sparse=True)"
      ]
     },
     "execution_count": 37,
     "metadata": {},
     "output_type": "execute_result"
    }
   ],
   "source": [
    "fillna_knn( df = test,\n",
    "                  base = [ 'latitude', 'longitude' ] ,\n",
    "                  target = 'buildingqualitytypeid', n_neighbors = 1 )"
   ]
  },
  {
   "cell_type": "code",
   "execution_count": 38,
   "metadata": {},
   "outputs": [
    {
     "data": {
      "image/png": "[encoded data removed]",
      "text/plain": [
       "<matplotlib.figure.Figure at 0x11a096450>"
      ]
     },
     "metadata": {},
     "output_type": "display_data"
    }
   ],
   "source": [
    "plot_countPlot(after_imputing_df,'buildingqualitytypeid')"
   ]
  },
  {
   "cell_type": "code",
   "execution_count": 39,
   "metadata": {},
   "outputs": [
    {
     "data": {
      "image/png": "[encoded data removed]",
      "text/plain": [
       "<matplotlib.figure.Figure at 0x119f4d310>"
      ]
     },
     "metadata": {},
     "output_type": "display_data"
    }
   ],
   "source": [
    "plot_corr(after_imputing_df)"
   ]
  },
  {
   "cell_type": "code",
   "execution_count": 40,
   "metadata": {
    "collapsed": true
   },
   "outputs": [],
   "source": [
    "from ggplot import ggplot, geom_line, aes"
   ]
  },
  {
   "cell_type": "code",
   "execution_count": 163,
   "metadata": {
    "collapsed": true
   },
   "outputs": [],
   "source": [
    "#after_imputing_df = after_imputing_df.drop('propertyzoningdesc',axis=1)\n",
    "after_imputing_df = after_imputing_df.drop('censustractandblock',axis=1)"
   ]
  },
  {
   "cell_type": "code",
   "execution_count": 42,
   "metadata": {
    "collapsed": true
   },
   "outputs": [],
   "source": [
    "after_encoding_df = after_imputing_df.copy()"
   ]
  },
  {
   "cell_type": "code",
   "execution_count": 43,
   "metadata": {
    "collapsed": true
   },
   "outputs": [],
   "source": [
    "test = after_imputing_df.copy()"
   ]
  },
  {
   "cell_type": "code",
   "execution_count": 44,
   "metadata": {
    "collapsed": true
   },
   "outputs": [],
   "source": [
    "from sklearn import preprocessing"
   ]
  },
  {
   "cell_type": "code",
   "execution_count": 45,
   "metadata": {},
   "outputs": [
    {
     "data": {
      "text/plain": [
       "str"
      ]
     },
     "execution_count": 45,
     "metadata": {},
     "output_type": "execute_result"
    }
   ],
   "source": [
    "type(after_imputing_df['propertycountylandusecode'][0])"
   ]
  },
  {
   "cell_type": "code",
   "execution_count": 46,
   "metadata": {},
   "outputs": [
    {
     "data": {
      "text/plain": [
       "'\\nfor f in after_encoding_df.columns:\\n    lbl = preprocessing.LabelEncoder()\\n    lbl.fit(list(after_encoding_df[f].values)) \\n    after_encoding_df[f] = lbl.transform(list(after_encoding_df[f].values))\\n'"
      ]
     },
     "execution_count": 46,
     "metadata": {},
     "output_type": "execute_result"
    }
   ],
   "source": [
    "'''\n",
    "for f in after_encoding_df.columns:\n",
    "    lbl = preprocessing.LabelEncoder()\n",
    "    lbl.fit(list(after_encoding_df[f].values)) \n",
    "    after_encoding_df[f] = lbl.transform(list(after_encoding_df[f].values))\n",
    "'''"
   ]
  },
  {
   "cell_type": "code",
   "execution_count": 47,
   "metadata": {
    "collapsed": true
   },
   "outputs": [],
   "source": [
    "#pd.scatter_matrix(after_corr_sel_df, alpha = 0.3, figsize = (14,8), diagonal = 'kde');\n",
    "#df[[col for col in df.columns if \"Vibration\" in col]]\n",
    "#after_imp_log_df = test.filter(like\"propertycountylandusecode\")\n",
    "#after_imp_log_df = test[[col for col in test.columns if col not in [\"propertycountylandusecode\",\"propertyzoningdesc\"]]]\n",
    "#after_imp_log_df['Tday'] = after_imp_log_df['Tday'].astype(float)\n",
    "#after_imp_log_df = after_imp_log_df.apply(lambda x: np.log(x + 1))\n",
    "#after_imp_log_df.head()"
   ]
  },
  {
   "cell_type": "code",
   "execution_count": 48,
   "metadata": {
    "collapsed": true
   },
   "outputs": [],
   "source": [
    "from sklearn.preprocessing import MinMaxScaler"
   ]
  },
  {
   "cell_type": "code",
   "execution_count": 154,
   "metadata": {},
   "outputs": [
    {
     "data": {
      "text/html": [
       "<div>\n",
       "<table border=\"1\" class=\"dataframe\">\n",
       "  <thead>\n",
       "    <tr style=\"text-align: right;\">\n",
       "      <th></th>\n",
       "      <th>bathroomcnt</th>\n",
       "      <th>bedroomcnt</th>\n",
       "      <th>buildingqualitytypeid</th>\n",
       "      <th>calculatedbathnbr</th>\n",
       "      <th>calculatedfinishedsquarefeet</th>\n",
       "      <th>finishedsquarefeet12</th>\n",
       "      <th>fips</th>\n",
       "      <th>fullbathcnt</th>\n",
       "      <th>latitude</th>\n",
       "      <th>longitude</th>\n",
       "      <th>lotsizesquarefeet</th>\n",
       "      <th>propertylandusetypeid</th>\n",
       "      <th>rawcensustractandblock</th>\n",
       "      <th>regionidcity</th>\n",
       "      <th>regionidcounty</th>\n",
       "      <th>regionidzip</th>\n",
       "      <th>roomcnt</th>\n",
       "      <th>unitcnt</th>\n",
       "      <th>yearbuilt</th>\n",
       "      <th>structuretaxvaluedollarcnt</th>\n",
       "      <th>taxvaluedollarcnt</th>\n",
       "      <th>assessmentyear</th>\n",
       "      <th>landtaxvaluedollarcnt</th>\n",
       "      <th>taxamount</th>\n",
       "      <th>logerror</th>\n",
       "      <th>Tyear</th>\n",
       "      <th>Tmonth</th>\n",
       "      <th>Tday</th>\n",
       "      <th>abslogerror</th>\n",
       "      <th>heatingorsystemtypeid</th>\n",
       "    </tr>\n",
       "  </thead>\n",
       "  <tbody>\n",
       "    <tr>\n",
       "      <th>0</th>\n",
       "      <td>5.0</td>\n",
       "      <td>4.0</td>\n",
       "      <td>6.015461</td>\n",
       "      <td>5.0</td>\n",
       "      <td>3760.0</td>\n",
       "      <td>3760.0</td>\n",
       "      <td>6111.0</td>\n",
       "      <td>5.0</td>\n",
       "      <td>34449407.0</td>\n",
       "      <td>-119254052.0</td>\n",
       "      <td>42688.000000</td>\n",
       "      <td>261.0</td>\n",
       "      <td>6.111001e+07</td>\n",
       "      <td>13091.0</td>\n",
       "      <td>2061.0</td>\n",
       "      <td>97099.0</td>\n",
       "      <td>11.0</td>\n",
       "      <td>1.110365</td>\n",
       "      <td>1982.0</td>\n",
       "      <td>501928.0</td>\n",
       "      <td>872850.0</td>\n",
       "      <td>2016.0</td>\n",
       "      <td>370922.0</td>\n",
       "      <td>9673.46</td>\n",
       "      <td>-0.013099</td>\n",
       "      <td>2017</td>\n",
       "      <td>06</td>\n",
       "      <td>15</td>\n",
       "      <td>0.013099</td>\n",
       "      <td>2.0</td>\n",
       "    </tr>\n",
       "    <tr>\n",
       "      <th>1</th>\n",
       "      <td>2.0</td>\n",
       "      <td>3.0</td>\n",
       "      <td>6.015461</td>\n",
       "      <td>2.0</td>\n",
       "      <td>1444.0</td>\n",
       "      <td>1444.0</td>\n",
       "      <td>6111.0</td>\n",
       "      <td>2.0</td>\n",
       "      <td>34454169.0</td>\n",
       "      <td>-119237898.0</td>\n",
       "      <td>7108.000000</td>\n",
       "      <td>261.0</td>\n",
       "      <td>6.111001e+07</td>\n",
       "      <td>13091.0</td>\n",
       "      <td>2061.0</td>\n",
       "      <td>97099.0</td>\n",
       "      <td>6.0</td>\n",
       "      <td>1.110365</td>\n",
       "      <td>1951.0</td>\n",
       "      <td>130845.0</td>\n",
       "      <td>436157.0</td>\n",
       "      <td>2016.0</td>\n",
       "      <td>305312.0</td>\n",
       "      <td>5538.80</td>\n",
       "      <td>0.073985</td>\n",
       "      <td>2017</td>\n",
       "      <td>07</td>\n",
       "      <td>26</td>\n",
       "      <td>0.073985</td>\n",
       "      <td>2.0</td>\n",
       "    </tr>\n",
       "    <tr>\n",
       "      <th>2</th>\n",
       "      <td>1.5</td>\n",
       "      <td>3.0</td>\n",
       "      <td>6.015461</td>\n",
       "      <td>1.5</td>\n",
       "      <td>1698.0</td>\n",
       "      <td>1698.0</td>\n",
       "      <td>6111.0</td>\n",
       "      <td>1.0</td>\n",
       "      <td>34365693.0</td>\n",
       "      <td>-119448392.0</td>\n",
       "      <td>2588.000000</td>\n",
       "      <td>261.0</td>\n",
       "      <td>6.111001e+07</td>\n",
       "      <td>34543.0</td>\n",
       "      <td>2061.0</td>\n",
       "      <td>97081.0</td>\n",
       "      <td>6.0</td>\n",
       "      <td>1.110365</td>\n",
       "      <td>1979.0</td>\n",
       "      <td>193413.0</td>\n",
       "      <td>286606.0</td>\n",
       "      <td>2016.0</td>\n",
       "      <td>93193.0</td>\n",
       "      <td>2987.36</td>\n",
       "      <td>0.071886</td>\n",
       "      <td>2017</td>\n",
       "      <td>07</td>\n",
       "      <td>28</td>\n",
       "      <td>0.071886</td>\n",
       "      <td>2.0</td>\n",
       "    </tr>\n",
       "    <tr>\n",
       "      <th>3</th>\n",
       "      <td>2.0</td>\n",
       "      <td>2.0</td>\n",
       "      <td>6.015461</td>\n",
       "      <td>2.0</td>\n",
       "      <td>986.0</td>\n",
       "      <td>986.0</td>\n",
       "      <td>6111.0</td>\n",
       "      <td>2.0</td>\n",
       "      <td>34305600.0</td>\n",
       "      <td>-119284000.0</td>\n",
       "      <td>29510.596012</td>\n",
       "      <td>266.0</td>\n",
       "      <td>6.111002e+07</td>\n",
       "      <td>34543.0</td>\n",
       "      <td>2061.0</td>\n",
       "      <td>97081.0</td>\n",
       "      <td>4.0</td>\n",
       "      <td>1.110365</td>\n",
       "      <td>1989.0</td>\n",
       "      <td>90357.0</td>\n",
       "      <td>258888.0</td>\n",
       "      <td>2016.0</td>\n",
       "      <td>168531.0</td>\n",
       "      <td>2706.24</td>\n",
       "      <td>0.305680</td>\n",
       "      <td>2017</td>\n",
       "      <td>06</td>\n",
       "      <td>02</td>\n",
       "      <td>0.305680</td>\n",
       "      <td>2.0</td>\n",
       "    </tr>\n",
       "    <tr>\n",
       "      <th>4</th>\n",
       "      <td>1.0</td>\n",
       "      <td>2.0</td>\n",
       "      <td>6.015461</td>\n",
       "      <td>1.0</td>\n",
       "      <td>1170.0</td>\n",
       "      <td>1170.0</td>\n",
       "      <td>6111.0</td>\n",
       "      <td>1.0</td>\n",
       "      <td>34278012.0</td>\n",
       "      <td>-119257047.0</td>\n",
       "      <td>5643.000000</td>\n",
       "      <td>261.0</td>\n",
       "      <td>6.111002e+07</td>\n",
       "      <td>34543.0</td>\n",
       "      <td>2061.0</td>\n",
       "      <td>97083.0</td>\n",
       "      <td>5.0</td>\n",
       "      <td>1.110365</td>\n",
       "      <td>1948.0</td>\n",
       "      <td>148752.0</td>\n",
       "      <td>592930.0</td>\n",
       "      <td>2016.0</td>\n",
       "      <td>444178.0</td>\n",
       "      <td>6220.70</td>\n",
       "      <td>-0.073787</td>\n",
       "      <td>2017</td>\n",
       "      <td>07</td>\n",
       "      <td>07</td>\n",
       "      <td>0.073787</td>\n",
       "      <td>2.0</td>\n",
       "    </tr>\n",
       "  </tbody>\n",
       "</table>\n",
       "</div>"
      ],
      "text/plain": [
       "   bathroomcnt  bedroomcnt  buildingqualitytypeid  calculatedbathnbr  \\\n",
       "0          5.0         4.0               6.015461                5.0   \n",
       "1          2.0         3.0               6.015461                2.0   \n",
       "2          1.5         3.0               6.015461                1.5   \n",
       "3          2.0         2.0               6.015461                2.0   \n",
       "4          1.0         2.0               6.015461                1.0   \n",
       "\n",
       "   calculatedfinishedsquarefeet  finishedsquarefeet12    fips  fullbathcnt  \\\n",
       "0                        3760.0                3760.0  6111.0          5.0   \n",
       "1                        1444.0                1444.0  6111.0          2.0   \n",
       "2                        1698.0                1698.0  6111.0          1.0   \n",
       "3                         986.0                 986.0  6111.0          2.0   \n",
       "4                        1170.0                1170.0  6111.0          1.0   \n",
       "\n",
       "     latitude    longitude  lotsizesquarefeet  propertylandusetypeid  \\\n",
       "0  34449407.0 -119254052.0       42688.000000                  261.0   \n",
       "1  34454169.0 -119237898.0        7108.000000                  261.0   \n",
       "2  34365693.0 -119448392.0        2588.000000                  261.0   \n",
       "3  34305600.0 -119284000.0       29510.596012                  266.0   \n",
       "4  34278012.0 -119257047.0        5643.000000                  261.0   \n",
       "\n",
       "   rawcensustractandblock  regionidcity  regionidcounty  regionidzip  roomcnt  \\\n",
       "0            6.111001e+07       13091.0          2061.0      97099.0     11.0   \n",
       "1            6.111001e+07       13091.0          2061.0      97099.0      6.0   \n",
       "2            6.111001e+07       34543.0          2061.0      97081.0      6.0   \n",
       "3            6.111002e+07       34543.0          2061.0      97081.0      4.0   \n",
       "4            6.111002e+07       34543.0          2061.0      97083.0      5.0   \n",
       "\n",
       "    unitcnt  yearbuilt  structuretaxvaluedollarcnt  taxvaluedollarcnt  \\\n",
       "0  1.110365     1982.0                    501928.0           872850.0   \n",
       "1  1.110365     1951.0                    130845.0           436157.0   \n",
       "2  1.110365     1979.0                    193413.0           286606.0   \n",
       "3  1.110365     1989.0                     90357.0           258888.0   \n",
       "4  1.110365     1948.0                    148752.0           592930.0   \n",
       "\n",
       "   assessmentyear  landtaxvaluedollarcnt  taxamount  logerror Tyear Tmonth  \\\n",
       "0          2016.0               370922.0    9673.46 -0.013099  2017     06   \n",
       "1          2016.0               305312.0    5538.80  0.073985  2017     07   \n",
       "2          2016.0                93193.0    2987.36  0.071886  2017     07   \n",
       "3          2016.0               168531.0    2706.24  0.305680  2017     06   \n",
       "4          2016.0               444178.0    6220.70 -0.073787  2017     07   \n",
       "\n",
       "  Tday  abslogerror  heatingorsystemtypeid  \n",
       "0   15     0.013099                    2.0  \n",
       "1   26     0.073985                    2.0  \n",
       "2   28     0.071886                    2.0  \n",
       "3   02     0.305680                    2.0  \n",
       "4   07     0.073787                    2.0  "
      ]
     },
     "execution_count": 154,
     "metadata": {},
     "output_type": "execute_result"
    }
   ],
   "source": [
    "after_imputing_df.head()"
   ]
  },
  {
   "cell_type": "code",
   "execution_count": 242,
   "metadata": {
    "collapsed": true
   },
   "outputs": [],
   "source": [
    "scaler = MinMaxScaler() # default=(0, 1)"
   ]
  },
  {
   "cell_type": "code",
   "execution_count": 243,
   "metadata": {},
   "outputs": [],
   "source": [
    "after_imputing_df = after_imputing_df.drop(['propertycountylandusecode','propertyzoningdesc','abslogerror'], axis=1)"
   ]
  },
  {
   "cell_type": "code",
   "execution_count": 244,
   "metadata": {},
   "outputs": [],
   "source": [
    "#after_imputing_df = after_imputing_df.astype(float) \n",
    "numerical = [col for col in after_imputing_df.columns.values if col != 'logerror']\n",
    "after_scaling_df = pd.DataFrame(scaler.fit_transform(after_imputing_df[numerical]),columns=after_imputing_df[numerical].columns.values)"
   ]
  },
  {
   "cell_type": "code",
   "execution_count": 157,
   "metadata": {
    "collapsed": true
   },
   "outputs": [],
   "source": [
    "from ggplot import *"
   ]
  },
  {
   "cell_type": "code",
   "execution_count": 76,
   "metadata": {},
   "outputs": [],
   "source": [
    "#test = pd.DataFrame(after_imputing_df['longitude'])\n",
    "#type(test)\n",
    "test.loc[:,'en_longitude'] = after_encoding_df['longitude']\n",
    "ggplot(aes(x='longitude', y='en_longitude'), data=test) + \\\n",
    "    geom_point(color='steelblue', size=1) + \\\n",
    "    stat_smooth()"
   ]
  },
  {
   "cell_type": "code",
   "execution_count": 245,
   "metadata": {
    "collapsed": true
   },
   "outputs": [],
   "source": [
    "x_cols = [col for col in after_scaling_df.columns if col not in ['abslogerror','logerror'] if (after_scaling_df[col].dtype=='float64' or after_scaling_df[col].dtype=='int64')]\n",
    "#x_cols = [col for col in after_imputing_df.columns if col not in ['abslogerror','logerror'] if (after_imputing_df[col].dtype=='float64' or after_imputing_df[col].dtype=='int64')]"
   ]
  },
  {
   "cell_type": "code",
   "execution_count": 246,
   "metadata": {},
   "outputs": [
    {
     "data": {
      "text/plain": [
       "bathroomcnt                     0\n",
       "bedroomcnt                      0\n",
       "buildingqualitytypeid           0\n",
       "calculatedbathnbr               0\n",
       "calculatedfinishedsquarefeet    0\n",
       "finishedsquarefeet12            0\n",
       "fips                            0\n",
       "fullbathcnt                     0\n",
       "latitude                        0\n",
       "longitude                       0\n",
       "lotsizesquarefeet               0\n",
       "propertylandusetypeid           0\n",
       "rawcensustractandblock          0\n",
       "regionidcity                    0\n",
       "regionidcounty                  0\n",
       "regionidzip                     0\n",
       "roomcnt                         0\n",
       "unitcnt                         0\n",
       "yearbuilt                       0\n",
       "structuretaxvaluedollarcnt      0\n",
       "taxvaluedollarcnt               0\n",
       "assessmentyear                  0\n",
       "landtaxvaluedollarcnt           0\n",
       "taxamount                       0\n",
       "Tyear                           0\n",
       "Tmonth                          0\n",
       "Tday                            0\n",
       "heatingorsystemtypeid           0\n",
       "dtype: int64"
      ]
     },
     "execution_count": 246,
     "metadata": {},
     "output_type": "execute_result"
    }
   ],
   "source": [
    "after_scaling_df.isnull().sum()"
   ]
  },
  {
   "cell_type": "code",
   "execution_count": 247,
   "metadata": {},
   "outputs": [
    {
     "data": {
      "text/html": [
       "<div>\n",
       "<table border=\"1\" class=\"dataframe\">\n",
       "  <thead>\n",
       "    <tr style=\"text-align: right;\">\n",
       "      <th></th>\n",
       "      <th>col_labels</th>\n",
       "      <th>corr_values</th>\n",
       "    </tr>\n",
       "  </thead>\n",
       "  <tbody>\n",
       "    <tr>\n",
       "      <th>27</th>\n",
       "      <td>heatingorsystemtypeid</td>\n",
       "      <td>-0.015071</td>\n",
       "    </tr>\n",
       "    <tr>\n",
       "      <th>14</th>\n",
       "      <td>regionidcounty</td>\n",
       "      <td>-0.007566</td>\n",
       "    </tr>\n",
       "    <tr>\n",
       "      <th>2</th>\n",
       "      <td>buildingqualitytypeid</td>\n",
       "      <td>-0.006248</td>\n",
       "    </tr>\n",
       "    <tr>\n",
       "      <th>26</th>\n",
       "      <td>Tday</td>\n",
       "      <td>-0.004944</td>\n",
       "    </tr>\n",
       "    <tr>\n",
       "      <th>15</th>\n",
       "      <td>regionidzip</td>\n",
       "      <td>-0.003969</td>\n",
       "    </tr>\n",
       "    <tr>\n",
       "      <th>8</th>\n",
       "      <td>latitude</td>\n",
       "      <td>-0.002931</td>\n",
       "    </tr>\n",
       "    <tr>\n",
       "      <th>23</th>\n",
       "      <td>taxamount</td>\n",
       "      <td>-0.002186</td>\n",
       "    </tr>\n",
       "    <tr>\n",
       "      <th>11</th>\n",
       "      <td>propertylandusetypeid</td>\n",
       "      <td>-0.002179</td>\n",
       "    </tr>\n",
       "    <tr>\n",
       "      <th>22</th>\n",
       "      <td>landtaxvaluedollarcnt</td>\n",
       "      <td>-0.000759</td>\n",
       "    </tr>\n",
       "    <tr>\n",
       "      <th>13</th>\n",
       "      <td>regionidcity</td>\n",
       "      <td>-0.000598</td>\n",
       "    </tr>\n",
       "    <tr>\n",
       "      <th>17</th>\n",
       "      <td>unitcnt</td>\n",
       "      <td>-0.000535</td>\n",
       "    </tr>\n",
       "    <tr>\n",
       "      <th>25</th>\n",
       "      <td>Tmonth</td>\n",
       "      <td>0.003719</td>\n",
       "    </tr>\n",
       "    <tr>\n",
       "      <th>20</th>\n",
       "      <td>taxvaluedollarcnt</td>\n",
       "      <td>0.005331</td>\n",
       "    </tr>\n",
       "    <tr>\n",
       "      <th>9</th>\n",
       "      <td>longitude</td>\n",
       "      <td>0.005644</td>\n",
       "    </tr>\n",
       "    <tr>\n",
       "      <th>12</th>\n",
       "      <td>rawcensustractandblock</td>\n",
       "      <td>0.007375</td>\n",
       "    </tr>\n",
       "    <tr>\n",
       "      <th>6</th>\n",
       "      <td>fips</td>\n",
       "      <td>0.007406</td>\n",
       "    </tr>\n",
       "    <tr>\n",
       "      <th>10</th>\n",
       "      <td>lotsizesquarefeet</td>\n",
       "      <td>0.007406</td>\n",
       "    </tr>\n",
       "    <tr>\n",
       "      <th>16</th>\n",
       "      <td>roomcnt</td>\n",
       "      <td>0.009949</td>\n",
       "    </tr>\n",
       "    <tr>\n",
       "      <th>18</th>\n",
       "      <td>yearbuilt</td>\n",
       "      <td>0.011255</td>\n",
       "    </tr>\n",
       "    <tr>\n",
       "      <th>19</th>\n",
       "      <td>structuretaxvaluedollarcnt</td>\n",
       "      <td>0.015469</td>\n",
       "    </tr>\n",
       "    <tr>\n",
       "      <th>21</th>\n",
       "      <td>assessmentyear</td>\n",
       "      <td>0.016091</td>\n",
       "    </tr>\n",
       "    <tr>\n",
       "      <th>24</th>\n",
       "      <td>Tyear</td>\n",
       "      <td>0.016091</td>\n",
       "    </tr>\n",
       "    <tr>\n",
       "      <th>0</th>\n",
       "      <td>bathroomcnt</td>\n",
       "      <td>0.027038</td>\n",
       "    </tr>\n",
       "    <tr>\n",
       "      <th>7</th>\n",
       "      <td>fullbathcnt</td>\n",
       "      <td>0.027505</td>\n",
       "    </tr>\n",
       "    <tr>\n",
       "      <th>1</th>\n",
       "      <td>bedroomcnt</td>\n",
       "      <td>0.028513</td>\n",
       "    </tr>\n",
       "    <tr>\n",
       "      <th>3</th>\n",
       "      <td>calculatedbathnbr</td>\n",
       "      <td>0.028830</td>\n",
       "    </tr>\n",
       "    <tr>\n",
       "      <th>4</th>\n",
       "      <td>calculatedfinishedsquarefeet</td>\n",
       "      <td>0.039365</td>\n",
       "    </tr>\n",
       "    <tr>\n",
       "      <th>5</th>\n",
       "      <td>finishedsquarefeet12</td>\n",
       "      <td>0.041493</td>\n",
       "    </tr>\n",
       "  </tbody>\n",
       "</table>\n",
       "</div>"
      ],
      "text/plain": [
       "                      col_labels  corr_values\n",
       "27         heatingorsystemtypeid    -0.015071\n",
       "14                regionidcounty    -0.007566\n",
       "2          buildingqualitytypeid    -0.006248\n",
       "26                          Tday    -0.004944\n",
       "15                   regionidzip    -0.003969\n",
       "8                       latitude    -0.002931\n",
       "23                     taxamount    -0.002186\n",
       "11         propertylandusetypeid    -0.002179\n",
       "22         landtaxvaluedollarcnt    -0.000759\n",
       "13                  regionidcity    -0.000598\n",
       "17                       unitcnt    -0.000535\n",
       "25                        Tmonth     0.003719\n",
       "20             taxvaluedollarcnt     0.005331\n",
       "9                      longitude     0.005644\n",
       "12        rawcensustractandblock     0.007375\n",
       "6                           fips     0.007406\n",
       "10             lotsizesquarefeet     0.007406\n",
       "16                       roomcnt     0.009949\n",
       "18                     yearbuilt     0.011255\n",
       "19    structuretaxvaluedollarcnt     0.015469\n",
       "21                assessmentyear     0.016091\n",
       "24                         Tyear     0.016091\n",
       "0                    bathroomcnt     0.027038\n",
       "7                    fullbathcnt     0.027505\n",
       "1                     bedroomcnt     0.028513\n",
       "3              calculatedbathnbr     0.028830\n",
       "4   calculatedfinishedsquarefeet     0.039365\n",
       "5           finishedsquarefeet12     0.041493"
      ]
     },
     "execution_count": 247,
     "metadata": {},
     "output_type": "execute_result"
    }
   ],
   "source": [
    "labels = []\n",
    "values = []\n",
    "for col in x_cols:\n",
    "    labels.append(col)\n",
    "    #values.append(np.corrcoef(after_imputing_df[col].values, after_imputing_df.abslogerror.values)[0,1])\n",
    "    values.append(np.corrcoef(after_scaling_df[col].values, after_imputing_df.logerror.values)[0,1])\n",
    "corr_df = pd.DataFrame({'col_labels':labels, 'corr_values':values})\n",
    "corr_df = corr_df.sort_values(by='corr_values')\n",
    "corr_df"
   ]
  },
  {
   "cell_type": "code",
   "execution_count": 248,
   "metadata": {
    "scrolled": false
   },
   "outputs": [
    {
     "data": {
      "image/png": "[encoded data removed]",
      "text/plain": [
       "<matplotlib.figure.Figure at 0x12cf05410>"
      ]
     },
     "metadata": {},
     "output_type": "display_data"
    }
   ],
   "source": [
    "ind = np.arange(len(labels))\n",
    "width = 0.9\n",
    "fig, ax = plt.subplots(figsize=(12,40))\n",
    "rects = ax.barh(ind, np.array(corr_df.corr_values.values), color='y')\n",
    "ax.set_yticks(ind)\n",
    "'''\n",
    "fontdict = {'fontsize': 22,\n",
    " 'fontweight': mlp.rcParams['axes.titleweight'],\n",
    " 'verticalalignment': 'baseline'}\n",
    "'''\n",
    "ax.set_yticklabels(corr_df.col_labels.values,rotation='horizontal')\n",
    "ax.set_xlabel(\"Correlation coefficient\")\n",
    "ax.set_title(\"Correlation coefficient of the variables\")\n",
    "#autolabel(rects)\n",
    "plt.show()"
   ]
  },
  {
   "cell_type": "code",
   "execution_count": 249,
   "metadata": {},
   "outputs": [
    {
     "data": {
      "text/html": [
       "<div>\n",
       "<table border=\"1\" class=\"dataframe\">\n",
       "  <thead>\n",
       "    <tr style=\"text-align: right;\">\n",
       "      <th></th>\n",
       "      <th>col_labels</th>\n",
       "      <th>corr_values</th>\n",
       "    </tr>\n",
       "  </thead>\n",
       "  <tbody>\n",
       "    <tr>\n",
       "      <th>27</th>\n",
       "      <td>heatingorsystemtypeid</td>\n",
       "      <td>-0.015071</td>\n",
       "    </tr>\n",
       "    <tr>\n",
       "      <th>0</th>\n",
       "      <td>bathroomcnt</td>\n",
       "      <td>0.027038</td>\n",
       "    </tr>\n",
       "    <tr>\n",
       "      <th>7</th>\n",
       "      <td>fullbathcnt</td>\n",
       "      <td>0.027505</td>\n",
       "    </tr>\n",
       "    <tr>\n",
       "      <th>1</th>\n",
       "      <td>bedroomcnt</td>\n",
       "      <td>0.028513</td>\n",
       "    </tr>\n",
       "    <tr>\n",
       "      <th>3</th>\n",
       "      <td>calculatedbathnbr</td>\n",
       "      <td>0.028830</td>\n",
       "    </tr>\n",
       "    <tr>\n",
       "      <th>4</th>\n",
       "      <td>calculatedfinishedsquarefeet</td>\n",
       "      <td>0.039365</td>\n",
       "    </tr>\n",
       "    <tr>\n",
       "      <th>5</th>\n",
       "      <td>finishedsquarefeet12</td>\n",
       "      <td>0.041493</td>\n",
       "    </tr>\n",
       "  </tbody>\n",
       "</table>\n",
       "</div>"
      ],
      "text/plain": [
       "                      col_labels  corr_values\n",
       "27         heatingorsystemtypeid    -0.015071\n",
       "0                    bathroomcnt     0.027038\n",
       "7                    fullbathcnt     0.027505\n",
       "1                     bedroomcnt     0.028513\n",
       "3              calculatedbathnbr     0.028830\n",
       "4   calculatedfinishedsquarefeet     0.039365\n",
       "5           finishedsquarefeet12     0.041493"
      ]
     },
     "execution_count": 249,
     "metadata": {},
     "output_type": "execute_result"
    }
   ],
   "source": [
    "corr_df_sel = corr_df.ix[(corr_df['corr_values']>0.02) | (corr_df['corr_values'] < -0.01)]\n",
    "corr_df_sel\n",
    "#plot_corr(corr_df_sel)"
   ]
  },
  {
   "cell_type": "code",
   "execution_count": 250,
   "metadata": {},
   "outputs": [],
   "source": [
    "after_corr_sel_feat_df = pd.DataFrame(after_scaling_df,columns=corr_df_sel['col_labels'].values)"
   ]
  },
  {
   "cell_type": "code",
   "execution_count": 84,
   "metadata": {
    "collapsed": true
   },
   "outputs": [],
   "source": [
    "from sklearn.cross_validation import train_test_split"
   ]
  },
  {
   "cell_type": "code",
   "execution_count": 251,
   "metadata": {},
   "outputs": [
    {
     "name": "stdout",
     "output_type": "stream",
     "text": [
      "Training and testing split was successful.\n",
      "(125890, 7)\n",
      "(125890,)\n",
      "(41964, 7)\n",
      "(41964,)\n"
     ]
    }
   ],
   "source": [
    "X_train, X_test, y_train, y_test = train_test_split(after_corr_sel_feat_df,after_imputing_df['logerror'],test_size=0.25, random_state=42)\n",
    "\n",
    "# Success\n",
    "print \"Training and testing split was successful.\"\n",
    "print X_train.shape\n",
    "print y_train.shape\n",
    "print X_test.shape\n",
    "print y_test.shape"
   ]
  },
  {
   "cell_type": "code",
   "execution_count": 252,
   "metadata": {
    "collapsed": true
   },
   "outputs": [],
   "source": [
    "X_test_1, X_test_2, y_test_1,y_test_2 = train_test_split(X_test,y_test,test_size=0.5, random_state=28)"
   ]
  },
  {
   "cell_type": "code",
   "execution_count": 253,
   "metadata": {},
   "outputs": [
    {
     "name": "stdout",
     "output_type": "stream",
     "text": [
      "(20982, 7)\n",
      "(20982,)\n"
     ]
    }
   ],
   "source": [
    "print X_test_1.shape\n",
    "print y_test_1.shape"
   ]
  },
  {
   "cell_type": "code",
   "execution_count": 88,
   "metadata": {
    "collapsed": true
   },
   "outputs": [],
   "source": [
    "import xgboost as xgb\n",
    "from xgboost import XGBClassifier\n",
    "from sklearn.grid_search import GridSearchCV"
   ]
  },
  {
   "cell_type": "code",
   "execution_count": 89,
   "metadata": {
    "collapsed": true
   },
   "outputs": [],
   "source": [
    "xgb_params = {\n",
    "    'eta': 0.2,\n",
    "    'max_depth': 3,\n",
    "    'subsample': 0.7,\n",
    "#    'colsample_bytree': 0.7,\n",
    "    'objective': 'reg:linear',\n",
    "    'eval_metric': 'mae',\n",
    "    'silent': 1\n",
    "}"
   ]
  },
  {
   "cell_type": "code",
   "execution_count": 254,
   "metadata": {
    "collapsed": true
   },
   "outputs": [],
   "source": [
    "split = 80000\n",
    "X_train, y_train, X_valid, y_valid = X_train[:split], y_train[:split], X_train[split:], y_train[split:]"
   ]
  },
  {
   "cell_type": "code",
   "execution_count": 255,
   "metadata": {},
   "outputs": [
    {
     "data": {
      "text/plain": [
       "(45890,)"
      ]
     },
     "execution_count": 255,
     "metadata": {},
     "output_type": "execute_result"
    }
   ],
   "source": [
    "y_valid.shape"
   ]
  },
  {
   "cell_type": "code",
   "execution_count": 256,
   "metadata": {},
   "outputs": [
    {
     "name": "stdout",
     "output_type": "stream",
     "text": [
      "Building DMatrix...\n"
     ]
    }
   ],
   "source": [
    "print('Building DMatrix...')\n",
    "\n",
    "#both the below ways of initializing DMatrix are equivalent\n",
    "#d_train = xgb.DMatrix(X_train, label=y_train)\n",
    "#d_valid = xgb.DMatrix(X_valid, label=y_valid)\n",
    "d_train = xgb.DMatrix(X_train, y_train)\n",
    "d_valid = xgb.DMatrix(X_valid)"
   ]
  },
  {
   "cell_type": "code",
   "execution_count": null,
   "metadata": {
    "collapsed": true
   },
   "outputs": [],
   "source": [
    "from sklearn.metrics import mean_absolute_error"
   ]
  },
  {
   "cell_type": "code",
   "execution_count": 257,
   "metadata": {},
   "outputs": [
    {
     "data": {
      "text/plain": [
       "0.070300213788079408"
      ]
     },
     "execution_count": 257,
     "metadata": {},
     "output_type": "execute_result"
    }
   ],
   "source": [
    "watchlist = [(d_train, 'train'), (d_valid, 'valid')]\n",
    "#clf = xgb.train(xgb_params, d_train, 100, watchlist, verbose_eval=10) #0.007096\n",
    "\n",
    "#same as clf results above\n",
    "model = xgb.train(xgb_params, d_train, 100)\n",
    "xgb_pred = model.predict(d_valid)\n",
    "mean_absolute_error(y_valid,xgb_pred)"
   ]
  },
  {
   "cell_type": "code",
   "execution_count": 258,
   "metadata": {},
   "outputs": [
    {
     "data": {
      "text/plain": [
       "0.070964954936066027"
      ]
     },
     "execution_count": 258,
     "metadata": {},
     "output_type": "execute_result"
    }
   ],
   "source": [
    "d_test1 = xgb.DMatrix(X_test_1)\n",
    "xgb_pred = model.predict(d_test1)\n",
    "mean_absolute_error(y_test_1,xgb_pred)"
   ]
  },
  {
   "cell_type": "code",
   "execution_count": 260,
   "metadata": {},
   "outputs": [
    {
     "data": {
      "text/plain": [
       "0.070355333169546716"
      ]
     },
     "execution_count": 260,
     "metadata": {},
     "output_type": "execute_result"
    }
   ],
   "source": [
    "d_test2 = xgb.DMatrix(X_test_2)\n",
    "xgb_pred = model.predict(d_test2)\n",
    "mean_absolute_error(y_test_2,xgb_pred)"
   ]
  },
  {
   "cell_type": "code",
   "execution_count": 127,
   "metadata": {
    "collapsed": true
   },
   "outputs": [],
   "source": [
    "from sklearn.metrics import r2_score"
   ]
  },
  {
   "cell_type": "code",
   "execution_count": 259,
   "metadata": {},
   "outputs": [
    {
     "data": {
      "text/plain": [
       "0.010166829673905364"
      ]
     },
     "execution_count": 259,
     "metadata": {},
     "output_type": "execute_result"
    }
   ],
   "source": [
    "r2_score(y_test_1,xgb_pred)"
   ]
  },
  {
   "cell_type": "code",
   "execution_count": 71,
   "metadata": {
    "collapsed": true
   },
   "outputs": [],
   "source": [
    "top_10p_pred = data_trans_reduced_comb_f[data_trans_reduced_comb_f.abslogerror > np.percentile(data_trans_reduced_comb_f.abslogerror,90)]\n",
    "worst_10p_pred = data_trans_reduced_comb_f[data_trans_reduced_comb_f.abslogerror < np.percentile(data_trans_reduced_comb_f.abslogerror,10)]\n",
    "middle_pred = data_trans_reduced_comb_f[(data_trans_reduced_comb_f.abslogerror < np.percentile(data_trans_reduced_comb_f.abslogerror,51)) & (data_trans_reduced_comb_f.abslogerror > np.percentile(data_trans_reduced_comb_f.abslogerror,49))]\n",
    "\n",
    "#data[np.where(data.irow(0)[data.columns].notnull())[0]]\n",
    "#middle_pred = data_trans_reduced_comb_f[~data_trans_reduced_comb_f['parcelid'].isin(top_10p_pred['parcelid']) & ~data_trans_reduced_comb_f['parcelid'].isin(worst_10p_pred['parcelid'])]"
   ]
  }
 ],
 "metadata": {
  "kernelspec": {
   "display_name": "Python 2",
   "language": "python",
   "name": "python2"
  },
  "language_info": {
   "codemirror_mode": {
    "name": "ipython",
    "version": 2
   },
   "file_extension": ".py",
   "mimetype": "text/x-python",
   "name": "python",
   "nbconvert_exporter": "python",
   "pygments_lexer": "ipython2",
   "version": "2.7.13"
  }
 },
 "nbformat": 4,
 "nbformat_minor": 2
}
