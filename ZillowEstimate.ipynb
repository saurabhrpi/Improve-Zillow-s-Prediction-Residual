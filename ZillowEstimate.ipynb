{
 "cells": [
  {
   "cell_type": "code",
   "execution_count": 40,
   "metadata": {},
   "outputs": [
    {
     "name": "stdout",
     "output_type": "stream",
     "text": [
      "dataset has 2985217 samples with 58 features each.\n",
      "Older dataset has 2985217 samples with 58 features each.\n"
     ]
    }
   ],
   "source": [
    "# Import libraries necessary for this project\n",
    "import numpy as np\n",
    "import pandas as pd\n",
    "from IPython.display import display # Allows the use of display() for DataFrames\n",
    "\n",
    "# Import supplementary visualizations code visuals.py\n",
    "import visuals as vs\n",
    "\n",
    "# Pretty display for notebooks\n",
    "%matplotlib inline\n",
    "\n",
    "# Load the wholesale customers dataset\n",
    "try:\n",
    "    data = pd.read_csv(\"properties_2017.csv\")\n",
    "    dataO = pd.read_csv(\"properties_2016.csv\")\n",
    "    #data = pd.read_csv(\"train_2017.csv\")\n",
    "    print \"dataset has {} samples with {} features each.\".format(*data.shape)\n",
    "    print \"Older dataset has {} samples with {} features each.\".format(*dataO.shape)\n",
    "except:\n",
    "    print \"Dataset could not be loaded. Is the dataset missing?\""
   ]
  },
  {
   "cell_type": "code",
   "execution_count": 41,
   "metadata": {},
   "outputs": [
    {
     "data": {
      "text/html": [
       "<div>\n",
       "<table border=\"1\" class=\"dataframe\">\n",
       "  <thead>\n",
       "    <tr style=\"text-align: right;\">\n",
       "      <th></th>\n",
       "      <th>parcelid</th>\n",
       "      <th>airconditioningtypeid</th>\n",
       "      <th>architecturalstyletypeid</th>\n",
       "      <th>basementsqft</th>\n",
       "      <th>bathroomcnt</th>\n",
       "      <th>bedroomcnt</th>\n",
       "      <th>buildingclasstypeid</th>\n",
       "      <th>buildingqualitytypeid</th>\n",
       "      <th>calculatedbathnbr</th>\n",
       "      <th>decktypeid</th>\n",
       "      <th>finishedfloor1squarefeet</th>\n",
       "      <th>calculatedfinishedsquarefeet</th>\n",
       "      <th>finishedsquarefeet12</th>\n",
       "      <th>finishedsquarefeet13</th>\n",
       "      <th>finishedsquarefeet15</th>\n",
       "      <th>finishedsquarefeet50</th>\n",
       "      <th>finishedsquarefeet6</th>\n",
       "      <th>fips</th>\n",
       "      <th>fireplacecnt</th>\n",
       "      <th>fullbathcnt</th>\n",
       "      <th>garagecarcnt</th>\n",
       "      <th>garagetotalsqft</th>\n",
       "      <th>hashottuborspa</th>\n",
       "      <th>heatingorsystemtypeid</th>\n",
       "      <th>latitude</th>\n",
       "      <th>longitude</th>\n",
       "      <th>lotsizesquarefeet</th>\n",
       "      <th>poolcnt</th>\n",
       "      <th>poolsizesum</th>\n",
       "      <th>pooltypeid10</th>\n",
       "      <th>pooltypeid2</th>\n",
       "      <th>pooltypeid7</th>\n",
       "      <th>propertycountylandusecode</th>\n",
       "      <th>propertylandusetypeid</th>\n",
       "      <th>propertyzoningdesc</th>\n",
       "      <th>rawcensustractandblock</th>\n",
       "      <th>regionidcity</th>\n",
       "      <th>regionidcounty</th>\n",
       "      <th>regionidneighborhood</th>\n",
       "      <th>regionidzip</th>\n",
       "      <th>roomcnt</th>\n",
       "      <th>storytypeid</th>\n",
       "      <th>threequarterbathnbr</th>\n",
       "      <th>typeconstructiontypeid</th>\n",
       "      <th>unitcnt</th>\n",
       "      <th>yardbuildingsqft17</th>\n",
       "      <th>yardbuildingsqft26</th>\n",
       "      <th>yearbuilt</th>\n",
       "      <th>numberofstories</th>\n",
       "      <th>fireplaceflag</th>\n",
       "      <th>structuretaxvaluedollarcnt</th>\n",
       "      <th>taxvaluedollarcnt</th>\n",
       "      <th>assessmentyear</th>\n",
       "      <th>landtaxvaluedollarcnt</th>\n",
       "      <th>taxamount</th>\n",
       "      <th>taxdelinquencyflag</th>\n",
       "      <th>taxdelinquencyyear</th>\n",
       "      <th>censustractandblock</th>\n",
       "    </tr>\n",
       "  </thead>\n",
       "  <tbody>\n",
       "  </tbody>\n",
       "</table>\n",
       "</div>"
      ],
      "text/plain": [
       "Empty DataFrame\n",
       "Columns: [parcelid, airconditioningtypeid, architecturalstyletypeid, basementsqft, bathroomcnt, bedroomcnt, buildingclasstypeid, buildingqualitytypeid, calculatedbathnbr, decktypeid, finishedfloor1squarefeet, calculatedfinishedsquarefeet, finishedsquarefeet12, finishedsquarefeet13, finishedsquarefeet15, finishedsquarefeet50, finishedsquarefeet6, fips, fireplacecnt, fullbathcnt, garagecarcnt, garagetotalsqft, hashottuborspa, heatingorsystemtypeid, latitude, longitude, lotsizesquarefeet, poolcnt, poolsizesum, pooltypeid10, pooltypeid2, pooltypeid7, propertycountylandusecode, propertylandusetypeid, propertyzoningdesc, rawcensustractandblock, regionidcity, regionidcounty, regionidneighborhood, regionidzip, roomcnt, storytypeid, threequarterbathnbr, typeconstructiontypeid, unitcnt, yardbuildingsqft17, yardbuildingsqft26, yearbuilt, numberofstories, fireplaceflag, structuretaxvaluedollarcnt, taxvaluedollarcnt, assessmentyear, landtaxvaluedollarcnt, taxamount, taxdelinquencyflag, taxdelinquencyyear, censustractandblock]\n",
       "Index: []"
      ]
     },
     "execution_count": 41,
     "metadata": {},
     "output_type": "execute_result"
    }
   ],
   "source": [
    "#(data.ix[:,49]).isnull().values.all() # if all values of column 49 are null \n",
    "#(data.ix[:,49]).isnull().sum() #column 49 s count of null values\n",
    "#data.ix[:,49].loc[~(data.ix[:,49]).isnull()] #not null values of column 49\n",
    "dataO.loc[dataO['parcelid']==10711910]\n",
    "data.loc[dataO['heatingorsystemtypeid']==9].head()"
   ]
  },
  {
   "cell_type": "code",
   "execution_count": 42,
   "metadata": {
    "scrolled": false
   },
   "outputs": [
    {
     "name": "stdout",
     "output_type": "stream",
     "text": [
      "transaction dataset has 77613 samples with 3 features each.\n",
      "Older transaction dataset has 90275 samples with 3 features each.\n"
     ]
    }
   ],
   "source": [
    "#Remove columns with too many nulls\n",
    "#for i in data.columns[:]:\n",
    "    #if((data[i]).isnull().sum() > 1000000): #returns true if count of nulls in a column exceeds 1000000\n",
    "#    print (data[i]).isnull().sum()\n",
    "try:\n",
    "    trans = pd.read_csv(\"train_2017.csv\")\n",
    "    transO = pd.read_csv(\"train_2016.csv\")\n",
    "    #sample = pd.read_csv(\"sample_submission.csv\")\n",
    "    print \"transaction dataset has {} samples with {} features each.\".format(*trans.shape)\n",
    "    print \"Older transaction dataset has {} samples with {} features each.\".format(*transO.shape)\n",
    "except:\n",
    "    print \"Dataset could not be loaded. Is the dataset missing?\""
   ]
  },
  {
   "cell_type": "code",
   "execution_count": 43,
   "metadata": {},
   "outputs": [
    {
     "data": {
      "text/html": [
       "<div>\n",
       "<table border=\"1\" class=\"dataframe\">\n",
       "  <thead>\n",
       "    <tr style=\"text-align: right;\">\n",
       "      <th></th>\n",
       "      <th>parcelid</th>\n",
       "      <th>logerror</th>\n",
       "      <th>transactiondate</th>\n",
       "    </tr>\n",
       "  </thead>\n",
       "  <tbody>\n",
       "    <tr>\n",
       "      <th>0</th>\n",
       "      <td>11016594</td>\n",
       "      <td>0.0276</td>\n",
       "      <td>2016-01-01</td>\n",
       "    </tr>\n",
       "    <tr>\n",
       "      <th>1</th>\n",
       "      <td>14366692</td>\n",
       "      <td>-0.1684</td>\n",
       "      <td>2016-01-01</td>\n",
       "    </tr>\n",
       "    <tr>\n",
       "      <th>2</th>\n",
       "      <td>12098116</td>\n",
       "      <td>-0.0040</td>\n",
       "      <td>2016-01-01</td>\n",
       "    </tr>\n",
       "    <tr>\n",
       "      <th>3</th>\n",
       "      <td>12643413</td>\n",
       "      <td>0.0218</td>\n",
       "      <td>2016-01-02</td>\n",
       "    </tr>\n",
       "    <tr>\n",
       "      <th>4</th>\n",
       "      <td>14432541</td>\n",
       "      <td>-0.0050</td>\n",
       "      <td>2016-01-02</td>\n",
       "    </tr>\n",
       "  </tbody>\n",
       "</table>\n",
       "</div>"
      ],
      "text/plain": [
       "   parcelid  logerror transactiondate\n",
       "0  11016594    0.0276      2016-01-01\n",
       "1  14366692   -0.1684      2016-01-01\n",
       "2  12098116   -0.0040      2016-01-01\n",
       "3  12643413    0.0218      2016-01-02\n",
       "4  14432541   -0.0050      2016-01-02"
      ]
     },
     "execution_count": 43,
     "metadata": {},
     "output_type": "execute_result"
    }
   ],
   "source": [
    "#data_reduced[~data_reduced['parcelid'].isin(trans['parcelid'])].index\n",
    "transO.head()"
   ]
  },
  {
   "cell_type": "code",
   "execution_count": 44,
   "metadata": {
    "collapsed": true
   },
   "outputs": [],
   "source": [
    "trans = pd.concat([trans.drop('transactiondate', axis = 1), \n",
    "          (trans.transactiondate.str.split(\"-|T\").str[:3].apply(pd.Series)\n",
    "          .rename(columns={0:'Tyear', 1:'Tmonth', 2:'Tday'}))], axis = 1)"
   ]
  },
  {
   "cell_type": "code",
   "execution_count": 45,
   "metadata": {
    "collapsed": true
   },
   "outputs": [],
   "source": [
    "transO = pd.concat([transO.drop('transactiondate', axis = 1), \n",
    "          (transO.transactiondate.str.split(\"-|T\").str[:3].apply(pd.Series)\n",
    "          .rename(columns={0:'Tyear', 1:'Tmonth', 2:'Tday'}))], axis = 1)"
   ]
  },
  {
   "cell_type": "code",
   "execution_count": 46,
   "metadata": {
    "collapsed": true
   },
   "outputs": [],
   "source": [
    "merged = [trans,transO]\n",
    "result = pd.concat(merged)"
   ]
  },
  {
   "cell_type": "code",
   "execution_count": 47,
   "metadata": {
    "collapsed": true
   },
   "outputs": [],
   "source": [
    "#sorted(result['Tyear'].unique())\n",
    "#result.shape\n",
    "#result.duplicated('parcelid') \n",
    "#len(result['parcelid'].unique())\n",
    "#len(result['parcelid'])"
   ]
  },
  {
   "cell_type": "code",
   "execution_count": 48,
   "metadata": {
    "collapsed": true
   },
   "outputs": [],
   "source": [
    "#all those rows in data_reduced whose parcelid dont match with those in trans\n",
    "data_reduced = data.drop(data[~data['parcelid'].isin(trans['parcelid'])].index)\n",
    "#trans[trans['parcelid'] == 17054981]"
   ]
  },
  {
   "cell_type": "code",
   "execution_count": 49,
   "metadata": {
    "collapsed": true
   },
   "outputs": [],
   "source": [
    "dataO_reduced = dataO.drop(dataO[~dataO['parcelid'].isin(transO['parcelid'])].index)\n",
    "#transO[transO['parcelid'] == 17100444]"
   ]
  },
  {
   "cell_type": "code",
   "execution_count": 50,
   "metadata": {},
   "outputs": [
    {
     "data": {
      "text/plain": [
       "(90150, 58)"
      ]
     },
     "execution_count": 50,
     "metadata": {},
     "output_type": "execute_result"
    }
   ],
   "source": [
    "dataO_reduced.shape"
   ]
  },
  {
   "cell_type": "code",
   "execution_count": 51,
   "metadata": {
    "collapsed": true
   },
   "outputs": [],
   "source": [
    "merged = [data_reduced, dataO_reduced]\n",
    "data_reduced_comb = pd.concat(merged)"
   ]
  },
  {
   "cell_type": "code",
   "execution_count": 52,
   "metadata": {
    "collapsed": true
   },
   "outputs": [],
   "source": [
    "#data_trans_reduced_comb.loc[data_trans_reduced_comb['parcelid'] == 10711923]"
   ]
  },
  {
   "cell_type": "code",
   "execution_count": 53,
   "metadata": {
    "collapsed": true
   },
   "outputs": [],
   "source": [
    "#test = pd.merge(data_reduced_comb,result,on='parcelid',how='left') #preliminary"
   ]
  },
  {
   "cell_type": "code",
   "execution_count": 54,
   "metadata": {},
   "outputs": [
    {
     "data": {
      "text/plain": [
       "(172599, 62)"
      ]
     },
     "execution_count": 54,
     "metadata": {},
     "output_type": "execute_result"
    }
   ],
   "source": [
    "#result[~result['parcelid'].isin(data_trans_reduced_comb_f['parcelid'])]\n",
    "#data_reduced_comb[~(data_reduced_comb['assessmentyear'].isnull()) & data_reduced_comb['assessmentyear'] != data_reduced_comb['']]\n",
    "#data_reduced_comb_trans[data_reduced_comb_trans['assessmentyear'].isnull()].groupby('parcelid').size()\n",
    "\n",
    "data_trans_reduced_comb_p = pd.merge(data_reduced_comb,result,on='parcelid') #preliminary\n",
    "\n",
    "#remove the whole null row\n",
    "data_trans_reduced_comb_p = data_trans_reduced_comb_p.drop(data_trans_reduced_comb_p[data_trans_reduced_comb_p['parcelid'] == 11491470].index)\n",
    "data_trans_reduced_comb_p.shape"
   ]
  },
  {
   "cell_type": "code",
   "execution_count": 55,
   "metadata": {},
   "outputs": [
    {
     "data": {
      "text/plain": [
       "(167854, 62)"
      ]
     },
     "execution_count": 55,
     "metadata": {},
     "output_type": "execute_result"
    }
   ],
   "source": [
    "data_trans_reduced_comb_f = data_trans_reduced_comb_p[data_trans_reduced_comb_p['assessmentyear'] == (data_trans_reduced_comb_p['Tyear']).astype(int) - 1] #final\n",
    "data_trans_reduced_comb_f.shape\n",
    "\n",
    "#print data_trans_reduced_comb_p[data_trans_reduced_comb_p['assessmentyear'] == (data_trans_reduced_comb_p['Tyear']).astype(int) - 1] #final\n",
    "#sorted(data_reduced_comb_trans['parcelid'])\n",
    "#np.where(data_reduced_comb_trans.groupby('parcelid').size() == 2)"
   ]
  },
  {
   "cell_type": "code",
   "execution_count": 56,
   "metadata": {
    "collapsed": true
   },
   "outputs": [],
   "source": [
    "pd.set_option('display.max_columns', None)"
   ]
  },
  {
   "cell_type": "code",
   "execution_count": 57,
   "metadata": {
    "collapsed": true
   },
   "outputs": [],
   "source": [
    "pd.options.display.max_rows = 4000"
   ]
  },
  {
   "cell_type": "code",
   "execution_count": 58,
   "metadata": {},
   "outputs": [
    {
     "data": {
      "text/plain": [
       "(167854, 62)"
      ]
     },
     "execution_count": 58,
     "metadata": {},
     "output_type": "execute_result"
    }
   ],
   "source": [
    "data_trans_reduced_comb_f.head()\n",
    "data_trans_reduced_comb_f.shape"
   ]
  },
  {
   "cell_type": "code",
   "execution_count": 59,
   "metadata": {
    "collapsed": true
   },
   "outputs": [],
   "source": [
    "import matplotlib.pyplot as plt\n",
    "import seaborn as sns"
   ]
  },
  {
   "cell_type": "code",
   "execution_count": 60,
   "metadata": {},
   "outputs": [
    {
     "data": {
      "text/html": [
       "<div>\n",
       "<table border=\"1\" class=\"dataframe\">\n",
       "  <thead>\n",
       "    <tr style=\"text-align: right;\">\n",
       "      <th></th>\n",
       "      <th>parcelid</th>\n",
       "      <th>airconditioningtypeid</th>\n",
       "      <th>architecturalstyletypeid</th>\n",
       "      <th>basementsqft</th>\n",
       "      <th>bathroomcnt</th>\n",
       "      <th>bedroomcnt</th>\n",
       "      <th>buildingclasstypeid</th>\n",
       "      <th>buildingqualitytypeid</th>\n",
       "      <th>calculatedbathnbr</th>\n",
       "      <th>decktypeid</th>\n",
       "      <th>finishedfloor1squarefeet</th>\n",
       "      <th>calculatedfinishedsquarefeet</th>\n",
       "      <th>finishedsquarefeet12</th>\n",
       "      <th>finishedsquarefeet13</th>\n",
       "      <th>finishedsquarefeet15</th>\n",
       "      <th>finishedsquarefeet50</th>\n",
       "      <th>finishedsquarefeet6</th>\n",
       "      <th>fips</th>\n",
       "      <th>fireplacecnt</th>\n",
       "      <th>fullbathcnt</th>\n",
       "      <th>garagecarcnt</th>\n",
       "      <th>garagetotalsqft</th>\n",
       "      <th>hashottuborspa</th>\n",
       "      <th>heatingorsystemtypeid</th>\n",
       "      <th>latitude</th>\n",
       "      <th>longitude</th>\n",
       "      <th>lotsizesquarefeet</th>\n",
       "      <th>poolcnt</th>\n",
       "      <th>poolsizesum</th>\n",
       "      <th>pooltypeid10</th>\n",
       "      <th>pooltypeid2</th>\n",
       "      <th>pooltypeid7</th>\n",
       "      <th>propertycountylandusecode</th>\n",
       "      <th>propertylandusetypeid</th>\n",
       "      <th>propertyzoningdesc</th>\n",
       "      <th>rawcensustractandblock</th>\n",
       "      <th>regionidcity</th>\n",
       "      <th>regionidcounty</th>\n",
       "      <th>regionidneighborhood</th>\n",
       "      <th>regionidzip</th>\n",
       "      <th>roomcnt</th>\n",
       "      <th>storytypeid</th>\n",
       "      <th>threequarterbathnbr</th>\n",
       "      <th>typeconstructiontypeid</th>\n",
       "      <th>unitcnt</th>\n",
       "      <th>yardbuildingsqft17</th>\n",
       "      <th>yardbuildingsqft26</th>\n",
       "      <th>yearbuilt</th>\n",
       "      <th>numberofstories</th>\n",
       "      <th>fireplaceflag</th>\n",
       "      <th>structuretaxvaluedollarcnt</th>\n",
       "      <th>taxvaluedollarcnt</th>\n",
       "      <th>assessmentyear</th>\n",
       "      <th>landtaxvaluedollarcnt</th>\n",
       "      <th>taxamount</th>\n",
       "      <th>taxdelinquencyflag</th>\n",
       "      <th>taxdelinquencyyear</th>\n",
       "      <th>censustractandblock</th>\n",
       "      <th>logerror</th>\n",
       "      <th>Tyear</th>\n",
       "      <th>Tmonth</th>\n",
       "      <th>Tday</th>\n",
       "      <th>abslogerror</th>\n",
       "    </tr>\n",
       "  </thead>\n",
       "  <tbody>\n",
       "    <tr>\n",
       "      <th>0</th>\n",
       "      <td>17054981</td>\n",
       "      <td>NaN</td>\n",
       "      <td>NaN</td>\n",
       "      <td>NaN</td>\n",
       "      <td>5.0</td>\n",
       "      <td>4.0</td>\n",
       "      <td>NaN</td>\n",
       "      <td>NaN</td>\n",
       "      <td>5.0</td>\n",
       "      <td>NaN</td>\n",
       "      <td>1968.0</td>\n",
       "      <td>3760.0</td>\n",
       "      <td>3760.0</td>\n",
       "      <td>NaN</td>\n",
       "      <td>NaN</td>\n",
       "      <td>1968.0</td>\n",
       "      <td>NaN</td>\n",
       "      <td>6111.0</td>\n",
       "      <td>4.0</td>\n",
       "      <td>5.0</td>\n",
       "      <td>3.0</td>\n",
       "      <td>784.0</td>\n",
       "      <td>NaN</td>\n",
       "      <td>NaN</td>\n",
       "      <td>34449407.0</td>\n",
       "      <td>-119254052.0</td>\n",
       "      <td>42688.0</td>\n",
       "      <td>1.0</td>\n",
       "      <td>735.0</td>\n",
       "      <td>NaN</td>\n",
       "      <td>NaN</td>\n",
       "      <td>1.0</td>\n",
       "      <td>1110</td>\n",
       "      <td>261.0</td>\n",
       "      <td>NaN</td>\n",
       "      <td>6.111001e+07</td>\n",
       "      <td>13091.0</td>\n",
       "      <td>2061.0</td>\n",
       "      <td>NaN</td>\n",
       "      <td>97099.0</td>\n",
       "      <td>11.0</td>\n",
       "      <td>NaN</td>\n",
       "      <td>NaN</td>\n",
       "      <td>NaN</td>\n",
       "      <td>NaN</td>\n",
       "      <td>NaN</td>\n",
       "      <td>NaN</td>\n",
       "      <td>1982.0</td>\n",
       "      <td>2.0</td>\n",
       "      <td>NaN</td>\n",
       "      <td>501928.0</td>\n",
       "      <td>872850.0</td>\n",
       "      <td>2016.0</td>\n",
       "      <td>370922.0</td>\n",
       "      <td>9673.46</td>\n",
       "      <td>NaN</td>\n",
       "      <td>NaN</td>\n",
       "      <td>6.111001e+13</td>\n",
       "      <td>-0.013099</td>\n",
       "      <td>2017</td>\n",
       "      <td>06</td>\n",
       "      <td>15</td>\n",
       "      <td>0.013099</td>\n",
       "    </tr>\n",
       "    <tr>\n",
       "      <th>1</th>\n",
       "      <td>17055743</td>\n",
       "      <td>NaN</td>\n",
       "      <td>NaN</td>\n",
       "      <td>NaN</td>\n",
       "      <td>2.0</td>\n",
       "      <td>3.0</td>\n",
       "      <td>NaN</td>\n",
       "      <td>NaN</td>\n",
       "      <td>2.0</td>\n",
       "      <td>66.0</td>\n",
       "      <td>1444.0</td>\n",
       "      <td>1444.0</td>\n",
       "      <td>1444.0</td>\n",
       "      <td>NaN</td>\n",
       "      <td>NaN</td>\n",
       "      <td>1444.0</td>\n",
       "      <td>NaN</td>\n",
       "      <td>6111.0</td>\n",
       "      <td>NaN</td>\n",
       "      <td>2.0</td>\n",
       "      <td>1.0</td>\n",
       "      <td>0.0</td>\n",
       "      <td>NaN</td>\n",
       "      <td>NaN</td>\n",
       "      <td>34454169.0</td>\n",
       "      <td>-119237898.0</td>\n",
       "      <td>7108.0</td>\n",
       "      <td>NaN</td>\n",
       "      <td>NaN</td>\n",
       "      <td>NaN</td>\n",
       "      <td>NaN</td>\n",
       "      <td>NaN</td>\n",
       "      <td>1110</td>\n",
       "      <td>261.0</td>\n",
       "      <td>NaN</td>\n",
       "      <td>6.111001e+07</td>\n",
       "      <td>13091.0</td>\n",
       "      <td>2061.0</td>\n",
       "      <td>NaN</td>\n",
       "      <td>97099.0</td>\n",
       "      <td>6.0</td>\n",
       "      <td>NaN</td>\n",
       "      <td>NaN</td>\n",
       "      <td>NaN</td>\n",
       "      <td>NaN</td>\n",
       "      <td>NaN</td>\n",
       "      <td>NaN</td>\n",
       "      <td>1951.0</td>\n",
       "      <td>1.0</td>\n",
       "      <td>NaN</td>\n",
       "      <td>130845.0</td>\n",
       "      <td>436157.0</td>\n",
       "      <td>2016.0</td>\n",
       "      <td>305312.0</td>\n",
       "      <td>5538.80</td>\n",
       "      <td>NaN</td>\n",
       "      <td>NaN</td>\n",
       "      <td>6.111001e+13</td>\n",
       "      <td>0.073985</td>\n",
       "      <td>2017</td>\n",
       "      <td>07</td>\n",
       "      <td>26</td>\n",
       "      <td>0.073985</td>\n",
       "    </tr>\n",
       "    <tr>\n",
       "      <th>2</th>\n",
       "      <td>17068109</td>\n",
       "      <td>NaN</td>\n",
       "      <td>NaN</td>\n",
       "      <td>NaN</td>\n",
       "      <td>1.5</td>\n",
       "      <td>3.0</td>\n",
       "      <td>NaN</td>\n",
       "      <td>NaN</td>\n",
       "      <td>1.5</td>\n",
       "      <td>66.0</td>\n",
       "      <td>1698.0</td>\n",
       "      <td>1698.0</td>\n",
       "      <td>1698.0</td>\n",
       "      <td>NaN</td>\n",
       "      <td>NaN</td>\n",
       "      <td>1698.0</td>\n",
       "      <td>NaN</td>\n",
       "      <td>6111.0</td>\n",
       "      <td>1.0</td>\n",
       "      <td>1.0</td>\n",
       "      <td>0.0</td>\n",
       "      <td>0.0</td>\n",
       "      <td>NaN</td>\n",
       "      <td>NaN</td>\n",
       "      <td>34365693.0</td>\n",
       "      <td>-119448392.0</td>\n",
       "      <td>2588.0</td>\n",
       "      <td>NaN</td>\n",
       "      <td>NaN</td>\n",
       "      <td>NaN</td>\n",
       "      <td>NaN</td>\n",
       "      <td>NaN</td>\n",
       "      <td>1110</td>\n",
       "      <td>261.0</td>\n",
       "      <td>NaN</td>\n",
       "      <td>6.111001e+07</td>\n",
       "      <td>34543.0</td>\n",
       "      <td>2061.0</td>\n",
       "      <td>NaN</td>\n",
       "      <td>97081.0</td>\n",
       "      <td>6.0</td>\n",
       "      <td>NaN</td>\n",
       "      <td>1.0</td>\n",
       "      <td>NaN</td>\n",
       "      <td>NaN</td>\n",
       "      <td>NaN</td>\n",
       "      <td>NaN</td>\n",
       "      <td>1979.0</td>\n",
       "      <td>1.0</td>\n",
       "      <td>NaN</td>\n",
       "      <td>193413.0</td>\n",
       "      <td>286606.0</td>\n",
       "      <td>2016.0</td>\n",
       "      <td>93193.0</td>\n",
       "      <td>2987.36</td>\n",
       "      <td>NaN</td>\n",
       "      <td>NaN</td>\n",
       "      <td>6.111001e+13</td>\n",
       "      <td>0.071886</td>\n",
       "      <td>2017</td>\n",
       "      <td>07</td>\n",
       "      <td>28</td>\n",
       "      <td>0.071886</td>\n",
       "    </tr>\n",
       "    <tr>\n",
       "      <th>3</th>\n",
       "      <td>17073952</td>\n",
       "      <td>NaN</td>\n",
       "      <td>NaN</td>\n",
       "      <td>NaN</td>\n",
       "      <td>2.0</td>\n",
       "      <td>2.0</td>\n",
       "      <td>NaN</td>\n",
       "      <td>NaN</td>\n",
       "      <td>2.0</td>\n",
       "      <td>NaN</td>\n",
       "      <td>986.0</td>\n",
       "      <td>986.0</td>\n",
       "      <td>986.0</td>\n",
       "      <td>NaN</td>\n",
       "      <td>NaN</td>\n",
       "      <td>986.0</td>\n",
       "      <td>NaN</td>\n",
       "      <td>6111.0</td>\n",
       "      <td>1.0</td>\n",
       "      <td>2.0</td>\n",
       "      <td>1.0</td>\n",
       "      <td>0.0</td>\n",
       "      <td>NaN</td>\n",
       "      <td>NaN</td>\n",
       "      <td>34305600.0</td>\n",
       "      <td>-119284000.0</td>\n",
       "      <td>NaN</td>\n",
       "      <td>NaN</td>\n",
       "      <td>NaN</td>\n",
       "      <td>NaN</td>\n",
       "      <td>NaN</td>\n",
       "      <td>NaN</td>\n",
       "      <td>1129</td>\n",
       "      <td>266.0</td>\n",
       "      <td>NaN</td>\n",
       "      <td>6.111002e+07</td>\n",
       "      <td>34543.0</td>\n",
       "      <td>2061.0</td>\n",
       "      <td>NaN</td>\n",
       "      <td>97081.0</td>\n",
       "      <td>4.0</td>\n",
       "      <td>NaN</td>\n",
       "      <td>NaN</td>\n",
       "      <td>NaN</td>\n",
       "      <td>NaN</td>\n",
       "      <td>55.0</td>\n",
       "      <td>NaN</td>\n",
       "      <td>1989.0</td>\n",
       "      <td>1.0</td>\n",
       "      <td>NaN</td>\n",
       "      <td>90357.0</td>\n",
       "      <td>258888.0</td>\n",
       "      <td>2016.0</td>\n",
       "      <td>168531.0</td>\n",
       "      <td>2706.24</td>\n",
       "      <td>NaN</td>\n",
       "      <td>NaN</td>\n",
       "      <td>6.111002e+13</td>\n",
       "      <td>0.305680</td>\n",
       "      <td>2017</td>\n",
       "      <td>06</td>\n",
       "      <td>02</td>\n",
       "      <td>0.305680</td>\n",
       "    </tr>\n",
       "    <tr>\n",
       "      <th>4</th>\n",
       "      <td>17078502</td>\n",
       "      <td>NaN</td>\n",
       "      <td>NaN</td>\n",
       "      <td>NaN</td>\n",
       "      <td>1.0</td>\n",
       "      <td>2.0</td>\n",
       "      <td>NaN</td>\n",
       "      <td>NaN</td>\n",
       "      <td>1.0</td>\n",
       "      <td>NaN</td>\n",
       "      <td>1170.0</td>\n",
       "      <td>1170.0</td>\n",
       "      <td>1170.0</td>\n",
       "      <td>NaN</td>\n",
       "      <td>NaN</td>\n",
       "      <td>1170.0</td>\n",
       "      <td>NaN</td>\n",
       "      <td>6111.0</td>\n",
       "      <td>1.0</td>\n",
       "      <td>1.0</td>\n",
       "      <td>2.0</td>\n",
       "      <td>621.0</td>\n",
       "      <td>NaN</td>\n",
       "      <td>NaN</td>\n",
       "      <td>34278012.0</td>\n",
       "      <td>-119257047.0</td>\n",
       "      <td>5643.0</td>\n",
       "      <td>NaN</td>\n",
       "      <td>NaN</td>\n",
       "      <td>NaN</td>\n",
       "      <td>NaN</td>\n",
       "      <td>NaN</td>\n",
       "      <td>1110</td>\n",
       "      <td>261.0</td>\n",
       "      <td>NaN</td>\n",
       "      <td>6.111002e+07</td>\n",
       "      <td>34543.0</td>\n",
       "      <td>2061.0</td>\n",
       "      <td>NaN</td>\n",
       "      <td>97083.0</td>\n",
       "      <td>5.0</td>\n",
       "      <td>NaN</td>\n",
       "      <td>NaN</td>\n",
       "      <td>NaN</td>\n",
       "      <td>NaN</td>\n",
       "      <td>NaN</td>\n",
       "      <td>NaN</td>\n",
       "      <td>1948.0</td>\n",
       "      <td>1.0</td>\n",
       "      <td>NaN</td>\n",
       "      <td>148752.0</td>\n",
       "      <td>592930.0</td>\n",
       "      <td>2016.0</td>\n",
       "      <td>444178.0</td>\n",
       "      <td>6220.70</td>\n",
       "      <td>NaN</td>\n",
       "      <td>NaN</td>\n",
       "      <td>6.111002e+13</td>\n",
       "      <td>-0.073787</td>\n",
       "      <td>2017</td>\n",
       "      <td>07</td>\n",
       "      <td>07</td>\n",
       "      <td>0.073787</td>\n",
       "    </tr>\n",
       "  </tbody>\n",
       "</table>\n",
       "</div>"
      ],
      "text/plain": [
       "   parcelid  airconditioningtypeid  architecturalstyletypeid  basementsqft  \\\n",
       "0  17054981                    NaN                       NaN           NaN   \n",
       "1  17055743                    NaN                       NaN           NaN   \n",
       "2  17068109                    NaN                       NaN           NaN   \n",
       "3  17073952                    NaN                       NaN           NaN   \n",
       "4  17078502                    NaN                       NaN           NaN   \n",
       "\n",
       "   bathroomcnt  bedroomcnt  buildingclasstypeid  buildingqualitytypeid  \\\n",
       "0          5.0         4.0                  NaN                    NaN   \n",
       "1          2.0         3.0                  NaN                    NaN   \n",
       "2          1.5         3.0                  NaN                    NaN   \n",
       "3          2.0         2.0                  NaN                    NaN   \n",
       "4          1.0         2.0                  NaN                    NaN   \n",
       "\n",
       "   calculatedbathnbr  decktypeid  finishedfloor1squarefeet  \\\n",
       "0                5.0         NaN                    1968.0   \n",
       "1                2.0        66.0                    1444.0   \n",
       "2                1.5        66.0                    1698.0   \n",
       "3                2.0         NaN                     986.0   \n",
       "4                1.0         NaN                    1170.0   \n",
       "\n",
       "   calculatedfinishedsquarefeet  finishedsquarefeet12  finishedsquarefeet13  \\\n",
       "0                        3760.0                3760.0                   NaN   \n",
       "1                        1444.0                1444.0                   NaN   \n",
       "2                        1698.0                1698.0                   NaN   \n",
       "3                         986.0                 986.0                   NaN   \n",
       "4                        1170.0                1170.0                   NaN   \n",
       "\n",
       "   finishedsquarefeet15  finishedsquarefeet50  finishedsquarefeet6    fips  \\\n",
       "0                   NaN                1968.0                  NaN  6111.0   \n",
       "1                   NaN                1444.0                  NaN  6111.0   \n",
       "2                   NaN                1698.0                  NaN  6111.0   \n",
       "3                   NaN                 986.0                  NaN  6111.0   \n",
       "4                   NaN                1170.0                  NaN  6111.0   \n",
       "\n",
       "   fireplacecnt  fullbathcnt  garagecarcnt  garagetotalsqft hashottuborspa  \\\n",
       "0           4.0          5.0           3.0            784.0            NaN   \n",
       "1           NaN          2.0           1.0              0.0            NaN   \n",
       "2           1.0          1.0           0.0              0.0            NaN   \n",
       "3           1.0          2.0           1.0              0.0            NaN   \n",
       "4           1.0          1.0           2.0            621.0            NaN   \n",
       "\n",
       "   heatingorsystemtypeid    latitude    longitude  lotsizesquarefeet  poolcnt  \\\n",
       "0                    NaN  34449407.0 -119254052.0            42688.0      1.0   \n",
       "1                    NaN  34454169.0 -119237898.0             7108.0      NaN   \n",
       "2                    NaN  34365693.0 -119448392.0             2588.0      NaN   \n",
       "3                    NaN  34305600.0 -119284000.0                NaN      NaN   \n",
       "4                    NaN  34278012.0 -119257047.0             5643.0      NaN   \n",
       "\n",
       "   poolsizesum  pooltypeid10  pooltypeid2  pooltypeid7  \\\n",
       "0        735.0           NaN          NaN          1.0   \n",
       "1          NaN           NaN          NaN          NaN   \n",
       "2          NaN           NaN          NaN          NaN   \n",
       "3          NaN           NaN          NaN          NaN   \n",
       "4          NaN           NaN          NaN          NaN   \n",
       "\n",
       "  propertycountylandusecode  propertylandusetypeid propertyzoningdesc  \\\n",
       "0                      1110                  261.0                NaN   \n",
       "1                      1110                  261.0                NaN   \n",
       "2                      1110                  261.0                NaN   \n",
       "3                      1129                  266.0                NaN   \n",
       "4                      1110                  261.0                NaN   \n",
       "\n",
       "   rawcensustractandblock  regionidcity  regionidcounty  regionidneighborhood  \\\n",
       "0            6.111001e+07       13091.0          2061.0                   NaN   \n",
       "1            6.111001e+07       13091.0          2061.0                   NaN   \n",
       "2            6.111001e+07       34543.0          2061.0                   NaN   \n",
       "3            6.111002e+07       34543.0          2061.0                   NaN   \n",
       "4            6.111002e+07       34543.0          2061.0                   NaN   \n",
       "\n",
       "   regionidzip  roomcnt  storytypeid  threequarterbathnbr  \\\n",
       "0      97099.0     11.0          NaN                  NaN   \n",
       "1      97099.0      6.0          NaN                  NaN   \n",
       "2      97081.0      6.0          NaN                  1.0   \n",
       "3      97081.0      4.0          NaN                  NaN   \n",
       "4      97083.0      5.0          NaN                  NaN   \n",
       "\n",
       "   typeconstructiontypeid  unitcnt  yardbuildingsqft17  yardbuildingsqft26  \\\n",
       "0                     NaN      NaN                 NaN                 NaN   \n",
       "1                     NaN      NaN                 NaN                 NaN   \n",
       "2                     NaN      NaN                 NaN                 NaN   \n",
       "3                     NaN      NaN                55.0                 NaN   \n",
       "4                     NaN      NaN                 NaN                 NaN   \n",
       "\n",
       "   yearbuilt  numberofstories fireplaceflag  structuretaxvaluedollarcnt  \\\n",
       "0     1982.0              2.0           NaN                    501928.0   \n",
       "1     1951.0              1.0           NaN                    130845.0   \n",
       "2     1979.0              1.0           NaN                    193413.0   \n",
       "3     1989.0              1.0           NaN                     90357.0   \n",
       "4     1948.0              1.0           NaN                    148752.0   \n",
       "\n",
       "   taxvaluedollarcnt  assessmentyear  landtaxvaluedollarcnt  taxamount  \\\n",
       "0           872850.0          2016.0               370922.0    9673.46   \n",
       "1           436157.0          2016.0               305312.0    5538.80   \n",
       "2           286606.0          2016.0                93193.0    2987.36   \n",
       "3           258888.0          2016.0               168531.0    2706.24   \n",
       "4           592930.0          2016.0               444178.0    6220.70   \n",
       "\n",
       "  taxdelinquencyflag  taxdelinquencyyear  censustractandblock  logerror Tyear  \\\n",
       "0                NaN                 NaN         6.111001e+13 -0.013099  2017   \n",
       "1                NaN                 NaN         6.111001e+13  0.073985  2017   \n",
       "2                NaN                 NaN         6.111001e+13  0.071886  2017   \n",
       "3                NaN                 NaN         6.111002e+13  0.305680  2017   \n",
       "4                NaN                 NaN         6.111002e+13 -0.073787  2017   \n",
       "\n",
       "  Tmonth Tday  abslogerror  \n",
       "0     06   15     0.013099  \n",
       "1     07   26     0.073985  \n",
       "2     07   28     0.071886  \n",
       "3     06   02     0.305680  \n",
       "4     07   07     0.073787  "
      ]
     },
     "execution_count": 60,
     "metadata": {},
     "output_type": "execute_result"
    }
   ],
   "source": [
    "data_trans_reduced_comb_f.loc[:,'abslogerror'] = data_trans_reduced_comb_f['logerror'].abs() #add new column\n",
    "data_trans_reduced_comb_f.head()"
   ]
  },
  {
   "cell_type": "code",
   "execution_count": 61,
   "metadata": {
    "collapsed": true
   },
   "outputs": [],
   "source": [
    "import matplotlib as mlp\n",
    "import matplotlib.pyplot as plt\n",
    "from matplotlib.pyplot import colorbar\n",
    "from matplotlib.text import Text"
   ]
  },
  {
   "cell_type": "code",
   "execution_count": 62,
   "metadata": {},
   "outputs": [
    {
     "data": {
      "text/plain": [
       "\"\\nfig, ax = plt.subplots(figsize=(size, size))\\nt = Text(verticalalignment='top')\\nplt.xticks(range(len(corr.columns)), corr.columns, verticalalignment='top', rotation = 90, size=40)\\nplt.yticks(range(len(corr.columns)), corr.columns, size=40)\\nplt.imshow(corr, cmap='hot')\\n#aspect='auto',shape=(corr.iterrows,corr.columns, interpolation='nearest') \\ncbar = plt.colorbar()\\ncbar.ax.tick_params(labelsize=50)\\n#plt.show()\\n#ax.matshow(corr)  \\n\""
      ]
     },
     "execution_count": 62,
     "metadata": {},
     "output_type": "execute_result"
    }
   ],
   "source": [
    "'''\n",
    "fig, ax = plt.subplots(figsize=(size, size))\n",
    "t = Text(verticalalignment='top')\n",
    "plt.xticks(range(len(corr.columns)), corr.columns, verticalalignment='top', rotation = 90, size=40)\n",
    "plt.yticks(range(len(corr.columns)), corr.columns, size=40)\n",
    "plt.imshow(corr, cmap='hot')\n",
    "#aspect='auto',shape=(corr.iterrows,corr.columns, interpolation='nearest') \n",
    "cbar = plt.colorbar()\n",
    "cbar.ax.tick_params(labelsize=50)\n",
    "#plt.show()\n",
    "#ax.matshow(corr)  \n",
    "'''\n"
   ]
  },
  {
   "cell_type": "code",
   "execution_count": 63,
   "metadata": {
    "collapsed": true
   },
   "outputs": [],
   "source": [
    "def plot_corr(df,size=8):\n",
    "    '''Function plots a graphical correlation matrix for each pair of columns in the dataframe.\n",
    "\n",
    "    Input:\n",
    "        df: pandas DataFrame\n",
    "        size: vertical and horizontal size of the plot'''\n",
    "\n",
    "    corr = df.corr()\n",
    "    plt.figure(figsize = (12,12))\n",
    "    sns.heatmap(corr)\n",
    "    plt.title(\"Important variables correlation map\", fontsize=15)\n",
    "    plt.show()    "
   ]
  },
  {
   "cell_type": "code",
   "execution_count": 64,
   "metadata": {},
   "outputs": [
    {
     "data": {
      "text/plain": [
       "parcelid                             0\n",
       "airconditioningtypeid           114066\n",
       "architecturalstyletypeid        167386\n",
       "basementsqft                    167761\n",
       "bathroomcnt                          0\n",
       "bedroomcnt                           0\n",
       "buildingclasstypeid             167823\n",
       "buildingqualitytypeid            60681\n",
       "calculatedbathnbr                 1798\n",
       "decktypeid                      166582\n",
       "finishedfloor1squarefeet        154961\n",
       "calculatedfinishedsquarefeet       862\n",
       "finishedsquarefeet12              8335\n",
       "finishedsquarefeet13            167779\n",
       "finishedsquarefeet15            161263\n",
       "finishedsquarefeet50            154961\n",
       "finishedsquarefeet6             167047\n",
       "fips                                 0\n",
       "fireplacecnt                    149958\n",
       "fullbathcnt                       1798\n",
       "garagecarcnt                    112397\n",
       "garagetotalsqft                 112397\n",
       "hashottuborspa                  163950\n",
       "heatingorsystemtypeid            62203\n",
       "latitude                             0\n",
       "longitude                            0\n",
       "lotsizesquarefeet                18408\n",
       "poolcnt                         133779\n",
       "poolsizesum                     166016\n",
       "pooltypeid10                    166228\n",
       "pooltypeid2                     165576\n",
       "pooltypeid7                     136078\n",
       "propertycountylandusecode            1\n",
       "propertylandusetypeid                0\n",
       "propertyzoningdesc               59065\n",
       "rawcensustractandblock               0\n",
       "regionidcity                      3275\n",
       "regionidcounty                       0\n",
       "regionidneighborhood            100868\n",
       "regionidzip                         85\n",
       "roomcnt                              0\n",
       "storytypeid                     167761\n",
       "threequarterbathnbr             145739\n",
       "typeconstructiontypeid          167332\n",
       "unitcnt                          58798\n",
       "yardbuildingsqft17              162815\n",
       "yardbuildingsqft26              167689\n",
       "yearbuilt                         1026\n",
       "numberofstories                 129685\n",
       "fireplaceflag                   167460\n",
       "structuretaxvaluedollarcnt         495\n",
       "taxvaluedollarcnt                    2\n",
       "assessmentyear                       0\n",
       "landtaxvaluedollarcnt                3\n",
       "taxamount                           11\n",
       "taxdelinquencyflag              163171\n",
       "taxdelinquencyyear              163171\n",
       "censustractandblock                852\n",
       "logerror                             0\n",
       "Tyear                                0\n",
       "Tmonth                               0\n",
       "Tday                                 0\n",
       "abslogerror                          0\n",
       "dtype: int64"
      ]
     },
     "execution_count": 64,
     "metadata": {},
     "output_type": "execute_result"
    }
   ],
   "source": [
    "data_trans_reduced_comb_f.isnull().sum()"
   ]
  },
  {
   "cell_type": "code",
   "execution_count": 65,
   "metadata": {},
   "outputs": [
    {
     "data": {
      "text/plain": [
       "parcelid                          int64\n",
       "airconditioningtypeid           float64\n",
       "architecturalstyletypeid        float64\n",
       "basementsqft                    float64\n",
       "bathroomcnt                     float64\n",
       "bedroomcnt                      float64\n",
       "buildingclasstypeid             float64\n",
       "buildingqualitytypeid           float64\n",
       "calculatedbathnbr               float64\n",
       "decktypeid                      float64\n",
       "finishedfloor1squarefeet        float64\n",
       "calculatedfinishedsquarefeet    float64\n",
       "finishedsquarefeet12            float64\n",
       "finishedsquarefeet13            float64\n",
       "finishedsquarefeet15            float64\n",
       "finishedsquarefeet50            float64\n",
       "finishedsquarefeet6             float64\n",
       "fips                            float64\n",
       "fireplacecnt                    float64\n",
       "fullbathcnt                     float64\n",
       "garagecarcnt                    float64\n",
       "garagetotalsqft                 float64\n",
       "hashottuborspa                   object\n",
       "heatingorsystemtypeid           float64\n",
       "latitude                        float64\n",
       "longitude                       float64\n",
       "lotsizesquarefeet               float64\n",
       "poolcnt                         float64\n",
       "poolsizesum                     float64\n",
       "pooltypeid10                    float64\n",
       "pooltypeid2                     float64\n",
       "pooltypeid7                     float64\n",
       "propertycountylandusecode        object\n",
       "propertylandusetypeid           float64\n",
       "propertyzoningdesc               object\n",
       "rawcensustractandblock          float64\n",
       "regionidcity                    float64\n",
       "regionidcounty                  float64\n",
       "regionidneighborhood            float64\n",
       "regionidzip                     float64\n",
       "roomcnt                         float64\n",
       "storytypeid                     float64\n",
       "threequarterbathnbr             float64\n",
       "typeconstructiontypeid          float64\n",
       "unitcnt                         float64\n",
       "yardbuildingsqft17              float64\n",
       "yardbuildingsqft26              float64\n",
       "yearbuilt                       float64\n",
       "numberofstories                 float64\n",
       "fireplaceflag                    object\n",
       "structuretaxvaluedollarcnt      float64\n",
       "taxvaluedollarcnt               float64\n",
       "assessmentyear                  float64\n",
       "landtaxvaluedollarcnt           float64\n",
       "taxamount                       float64\n",
       "taxdelinquencyflag               object\n",
       "taxdelinquencyyear              float64\n",
       "censustractandblock             float64\n",
       "logerror                        float64\n",
       "Tyear                            object\n",
       "Tmonth                           object\n",
       "Tday                             object\n",
       "abslogerror                     float64\n",
       "dtype: object"
      ]
     },
     "execution_count": 65,
     "metadata": {},
     "output_type": "execute_result"
    }
   ],
   "source": [
    "data_trans_reduced_comb_f.dtypes"
   ]
  },
  {
   "cell_type": "code",
   "execution_count": 66,
   "metadata": {
    "collapsed": true
   },
   "outputs": [],
   "source": [
    "from sklearn import preprocessing\n",
    "import xgboost as xgb\n",
    "from xgboost import XGBClassifier\n",
    "from sklearn.grid_search import GridSearchCV"
   ]
  },
  {
   "cell_type": "code",
   "execution_count": 67,
   "metadata": {
    "scrolled": false
   },
   "outputs": [
    {
     "data": {
      "image/png": "[encoded data removed]",
      "text/plain": [
       "<matplotlib.figure.Figure at 0x11cd5cd50>"
      ]
     },
     "metadata": {},
     "output_type": "display_data"
    }
   ],
   "source": [
    "#*** Feature importance evaluation ***#\n",
    "\n",
    "train_y = data_trans_reduced_comb_f['logerror'].values\n",
    "df_train = data_trans_reduced_comb_f.drop(['parcelid', 'logerror','abslogerror','taxdelinquencyflag','fireplaceflag','propertyzoningdesc','propertycountylandusecode','hashottuborspa'], axis=1)\n",
    "feat_names = df_train.columns.values\n",
    "\n",
    "for c in df_train.columns:\n",
    "    if df_train[c].dtype == 'object':\n",
    "        lbl = preprocessing.LabelEncoder()\n",
    "        lbl.fit(list(df_train[c].values))\n",
    "        df_train[c] = lbl.transform(list(df_train[c].values))\n",
    "\n",
    "#import xgboost as xgb\n",
    "xgb_params = {\n",
    "    'eta': 0.05,\n",
    "    'max_depth': 8,\n",
    "    'subsample': 0.7,\n",
    "    'colsample_bytree': 0.7,\n",
    "    'objective': 'reg:linear',\n",
    "    'silent': 1,\n",
    "    'seed' : 0\n",
    "}\n",
    "dtrain = xgb.DMatrix(df_train, train_y, feature_names=df_train.columns.values)\n",
    "model = xgb.train(dict(xgb_params, silent=0), dtrain, num_boost_round=150)\n",
    "\n",
    "# plot the important features #\n",
    "fig, ax = plt.subplots(figsize=(12,18))\n",
    "xgb.plot_importance(model, max_num_features=50, height=0.8, ax=ax)\n",
    "plt.show()"
   ]
  },
  {
   "cell_type": "code",
   "execution_count": 68,
   "metadata": {},
   "outputs": [
    {
     "data": {
      "image/png": "[encoded data removed]",
      "text/plain": [
       "<matplotlib.figure.Figure at 0x12e0493d0>"
      ]
     },
     "metadata": {},
     "output_type": "display_data"
    }
   ],
   "source": [
    "plot_corr(data_trans_reduced_comb_f)"
   ]
  },
  {
   "cell_type": "code",
   "execution_count": 248,
   "metadata": {},
   "outputs": [],
   "source": [
    "dropcols = ['finishedsquarefeet12','finishedsquarefeet13', 'finishedsquarefeet15','finishedsquarefeet6']\n",
    "\n",
    "#finishedsquarefeet50 and finishedfloor1squarefeet are the exactly the same information according to the dictionary descriptions, lets remove finishedsquarefeet50 as it has more missing values\n",
    "dropcols.append('finishedsquarefeet50')\n",
    "\n",
    "#'bathroomcnt' and 'calculatedbathnbr' and 'fullbathcnt' seem to be the same information aswell according to the dictionary descriptions. Choose 'bathroomcnt' as has no missing values, so remove the other two\n",
    "dropcols.append('calculatedbathnbr')\n",
    "dropcols.append('fullbathcnt')\n",
    "dropcols.append('taxvaluedollarcnt')\n",
    "dropcols.append('finishedfloor1squarefeet')\n",
    "dropcols.append('calculatedbathnbr')\n",
    "dropcols.append('fireplaceflag')\n",
    "dropcols.append('garagecarcnt')\n",
    "dropcols.append('pooltypeid7')\n",
    "dropcols.append('regionidcounty')\n",
    "dropcols.append('regionidcity')\n",
    "dropcols.append('regionidzip')\n",
    "dropcols.append('regionidneighborhood')\n",
    "dropcols.append('taxdelinquencyflag')\n",
    "dropcols.append('storytypeid')\n",
    "dropcols.append('censustractandblock')\n",
    "dropcols.append('threequarterbathnbr')"
   ]
  },
  {
   "cell_type": "code",
   "execution_count": 249,
   "metadata": {
    "collapsed": true
   },
   "outputs": [],
   "source": [
    "after_remov_similar_col_df = data_trans_reduced_comb_f.copy()"
   ]
  },
  {
   "cell_type": "code",
   "execution_count": 250,
   "metadata": {},
   "outputs": [
    {
     "name": "stdout",
     "output_type": "stream",
     "text": [
      "                          fields  proportion\n",
      "6            buildingclasstypeid    0.999815\n",
      "13          finishedsquarefeet13    0.999553\n",
      "41                   storytypeid    0.999446\n",
      "3                   basementsqft    0.999446\n",
      "46            yardbuildingsqft26    0.999017\n",
      "49                 fireplaceflag    0.997653\n",
      "2       architecturalstyletypeid    0.997212\n",
      "43        typeconstructiontypeid    0.996890\n",
      "16           finishedsquarefeet6    0.995192\n",
      "9                     decktypeid    0.992422\n",
      "29                  pooltypeid10    0.990313\n",
      "28                   poolsizesum    0.989050\n",
      "30                   pooltypeid2    0.986429\n",
      "22                hashottuborspa    0.976742\n",
      "56            taxdelinquencyyear    0.972101\n",
      "55            taxdelinquencyflag    0.972101\n",
      "45            yardbuildingsqft17    0.969980\n",
      "14          finishedsquarefeet15    0.960734\n",
      "10      finishedfloor1squarefeet    0.923189\n",
      "15          finishedsquarefeet50    0.923189\n",
      "18                  fireplacecnt    0.893384\n",
      "42           threequarterbathnbr    0.868249\n",
      "31                   pooltypeid7    0.810693\n",
      "27                       poolcnt    0.796996\n",
      "48               numberofstories    0.772606\n",
      "1          airconditioningtypeid    0.679555\n",
      "21               garagetotalsqft    0.669612\n",
      "20                  garagecarcnt    0.669612\n",
      "38          regionidneighborhood    0.600927\n",
      "23         heatingorsystemtypeid    0.370578\n",
      "7          buildingqualitytypeid    0.361511\n",
      "34            propertyzoningdesc    0.351883\n",
      "44                       unitcnt    0.350293\n",
      "26             lotsizesquarefeet    0.109667\n",
      "12          finishedsquarefeet12    0.049656\n",
      "36                  regionidcity    0.019511\n",
      "8              calculatedbathnbr    0.010712\n",
      "19                   fullbathcnt    0.010712\n",
      "47                     yearbuilt    0.006112\n",
      "11  calculatedfinishedsquarefeet    0.005135\n",
      "57           censustractandblock    0.005076\n",
      "50    structuretaxvaluedollarcnt    0.002949\n",
      "39                   regionidzip    0.000506\n",
      "54                     taxamount    0.000066\n",
      "53         landtaxvaluedollarcnt    0.000018\n",
      "51             taxvaluedollarcnt    0.000012\n",
      "32     propertycountylandusecode    0.000006\n",
      "52                assessmentyear    0.000000\n",
      "60                        Tmonth    0.000000\n",
      "61                          Tday    0.000000\n",
      "58                      logerror    0.000000\n",
      "59                         Tyear    0.000000\n",
      "0                       parcelid    0.000000\n",
      "40                       roomcnt    0.000000\n",
      "37                regionidcounty    0.000000\n",
      "35        rawcensustractandblock    0.000000\n",
      "33         propertylandusetypeid    0.000000\n",
      "25                     longitude    0.000000\n",
      "24                      latitude    0.000000\n",
      "17                          fips    0.000000\n",
      "5                     bedroomcnt    0.000000\n",
      "4                    bathroomcnt    0.000000\n",
      "62                   abslogerror    0.000000\n"
     ]
    }
   ],
   "source": [
    "missingvalues_prop = (after_remov_similar_col_df.isnull().sum()/len(after_remov_similar_col_df)).reset_index()\n",
    "missingvalues_prop.columns = ['fields','proportion']\n",
    "missingvalues_prop = missingvalues_prop.sort_values(by = 'proportion', ascending = False)\n",
    "print(missingvalues_prop)"
   ]
  },
  {
   "cell_type": "code",
   "execution_count": 251,
   "metadata": {
    "collapsed": true
   },
   "outputs": [],
   "source": [
    "after_remov_similar_col_df = after_remov_similar_col_df.drop(dropcols, axis=1)"
   ]
  },
  {
   "cell_type": "code",
   "execution_count": 253,
   "metadata": {
    "scrolled": false
   },
   "outputs": [],
   "source": [
    "dropcols = missingvalues_prop.loc[(missingvalues_prop['proportion']>0.97),'fields']\n",
    "dropcols = dropcols[(dropcols !='poolsizesum') & (dropcols !='buildingclasstypeid') & \n",
    "                    (dropcols !='typeconstructiontypeid') & (dropcols !='storytypeid') &\n",
    "                    (dropcols !='architecturalstyletypeid') & (dropcols !='finishedsquarefeet13')\n",
    "                    & (dropcols !='fireplaceflag') & (dropcols !='finishedsquarefeet6') &\n",
    "                    (dropcols !='taxdelinquencyflag')\n",
    "                   ]\n",
    "after_remov_similar_col_df = after_remov_similar_col_df.drop(dropcols, axis=1)"
   ]
  },
  {
   "cell_type": "code",
   "execution_count": 73,
   "metadata": {},
   "outputs": [],
   "source": [
    "#after_remov_similar_col_df.loc[after_remov_similar_col_df['structuretaxvaluedollarcnt'].notnull() & after_remov_similar_col_df['landtaxvaluedollarcnt'].notnull() & after_remov_similar_col_df['taxvaluedollarcnt'].notnull(),:].head()"
   ]
  },
  {
   "cell_type": "code",
   "execution_count": 254,
   "metadata": {
    "collapsed": true
   },
   "outputs": [],
   "source": [
    "def box_plot(df,label):\n",
    "    x = df[label]\n",
    "    f, (ax_box, ax_hist) = plt.subplots(2, sharex=True ,\n",
    "                                        gridspec_kw={\"height_ratios\": (.15, .85)})\n",
    "    me = np.mean(x)\n",
    "    st = x.std(); \n",
    "    sns.boxplot(x, ax=ax_box)\n",
    "    sns.distplot(x, ax=ax_hist, kde=False)\n",
    "    ax_box.set(yticks=[])\n",
    "    sns.despine(ax=ax_hist)\n",
    "    sns.despine(ax=ax_box, left=True)\n",
    "    plt.xlim([me-2*st, me+2*st])\n",
    "    plt.show()"
   ]
  },
  {
   "cell_type": "code",
   "execution_count": 75,
   "metadata": {},
   "outputs": [
    {
     "name": "stderr",
     "output_type": "stream",
     "text": [
      "/Users/TheResearcher/Desktop/anaconda/lib/python2.7/site-packages/numpy/linalg/linalg.py:1591: RuntimeWarning: invalid value encountered in greater\n",
      "  return sum(S > tol)\n",
      "/Users/TheResearcher/Desktop/anaconda/lib/python2.7/site-packages/scipy/stats/_distn_infrastructure.py:879: RuntimeWarning: invalid value encountered in greater\n",
      "  return (self.a < x) & (x < self.b)\n",
      "/Users/TheResearcher/Desktop/anaconda/lib/python2.7/site-packages/scipy/stats/_distn_infrastructure.py:879: RuntimeWarning: invalid value encountered in less\n",
      "  return (self.a < x) & (x < self.b)\n",
      "/Users/TheResearcher/Desktop/anaconda/lib/python2.7/site-packages/scipy/stats/_distn_infrastructure.py:1818: RuntimeWarning: invalid value encountered in less_equal\n",
      "  cond2 = cond0 & (x <= self.a)\n",
      "/Users/TheResearcher/Desktop/anaconda/lib/python2.7/site-packages/ggplot/stats/stat_smooth.py:77: FutureWarning: sort(columns=....) is deprecated, use sort_values(by=.....)\n",
      "  smoothed_data = smoothed_data.sort('x')\n"
     ]
    },
    {
     "data": {
      "image/png": "[encoded data removed]",
      "text/plain": [
       "<matplotlib.figure.Figure at 0x11a4925d0>"
      ]
     },
     "metadata": {},
     "output_type": "display_data"
    },
    {
     "data": {
      "text/plain": [
       "<ggplot: (296255705)>"
      ]
     },
     "execution_count": 75,
     "metadata": {},
     "output_type": "execute_result"
    }
   ],
   "source": [
    "from ggplot import *\n",
    "#def plot_ggplot(df,xlabel,ylabel):\n",
    "ggplot(aes(x='garagetotalsqft', y='taxamount'), data=after_remov_similar_col_df) + \\\n",
    "    geom_point(color='steelblue', size=1) + \\\n",
    "    stat_smooth()    "
   ]
  },
  {
   "cell_type": "code",
   "execution_count": 76,
   "metadata": {
    "collapsed": true
   },
   "outputs": [],
   "source": [
    "#data_trans_reduced_comb_f['airconditioningtypeid'].value_counts()"
   ]
  },
  {
   "cell_type": "code",
   "execution_count": 256,
   "metadata": {},
   "outputs": [],
   "source": [
    "#used after_remov_similar_col_df['unitcnt'].value_counts() to find most frequent value\n",
    "\n",
    "index = after_remov_similar_col_df.poolcnt.isnull()\n",
    "after_remov_similar_col_df.loc[index,'poolcnt'] = 0\n",
    "\n",
    "poolsizesum_median = after_remov_similar_col_df.loc[after_remov_similar_col_df['poolcnt'] > 0, 'poolsizesum'].median()\n",
    "after_remov_similar_col_df.loc[(after_remov_similar_col_df['poolcnt'] > 0) & (after_remov_similar_col_df['poolsizesum'].isnull()), 'poolsizesum'] = poolsizesum_median\n",
    "\n",
    "#If it doesn't have a pool then poolsizesum is 0 by default\n",
    "after_remov_similar_col_df.loc[(after_remov_similar_col_df['poolcnt'] == 0), 'poolsizesum'] = 0\n",
    "\n",
    "index = after_remov_similar_col_df.fireplacecnt.isnull()\n",
    "after_remov_similar_col_df.loc[index,'fireplacecnt'] = 0\n",
    "\n",
    "index = after_remov_similar_col_df.garagetotalsqft.isnull()\n",
    "after_remov_similar_col_df.loc[index,'garagetotalsqft'] = 0\n",
    "\n",
    "index = after_remov_similar_col_df.airconditioningtypeid.isnull()\n",
    "after_remov_similar_col_df.loc[index,'airconditioningtypeid'] = 1\n",
    "\n",
    "index = after_remov_similar_col_df.heatingorsystemtypeid.isnull()\n",
    "after_remov_similar_col_df.loc[index,'heatingorsystemtypeid'] = 2\n",
    "\n",
    "index = after_remov_similar_col_df.numberofstories.isnull()\n",
    "after_remov_similar_col_df.loc[index,'numberofstories'] = 2\n",
    "\n",
    "index = after_remov_similar_col_df.yardbuildingsqft17.isnull()\n",
    "after_remov_similar_col_df.loc[index,'yardbuildingsqft17'] = 200\n",
    "\n",
    "index = after_remov_similar_col_df.buildingclasstypeid.isnull()\n",
    "after_remov_similar_col_df.loc[index,'buildingclasstypeid'] = 4\n",
    "\n",
    "index = after_remov_similar_col_df.typeconstructiontypeid.isnull()\n",
    "after_remov_similar_col_df.loc[index,'typeconstructiontypeid'] = 6\n",
    "\n",
    "#index = after_remov_similar_col_df.storytypeid.isnull()\n",
    "#after_remov_similar_col_df.loc[index,'storytypeid'] = 7\n",
    "\n",
    "index = after_remov_similar_col_df.architecturalstyletypeid.isnull()\n",
    "after_remov_similar_col_df.loc[index,'architecturalstyletypeid'] = 7\n",
    "\n",
    "index = after_remov_similar_col_df.unitcnt.isnull()\n",
    "after_remov_similar_col_df.loc[index,'unitcnt'] = 1\n",
    "\n",
    "index = after_remov_similar_col_df.propertyzoningdesc.isnull()\n",
    "after_remov_similar_col_df.loc[index,'propertyzoningdesc'] = 'LAR1'"
   ]
  },
  {
   "cell_type": "code",
   "execution_count": 257,
   "metadata": {
    "collapsed": true
   },
   "outputs": [],
   "source": [
    "from sklearn.preprocessing import OneHotEncoder\n",
    "from sklearn.neighbors import KNeighborsClassifier\n",
    "from sklearn.neighbors import KNeighborsRegressor\n",
    "from sklearn import neighbors\n",
    "from sklearn.preprocessing import StandardScaler"
   ]
  },
  {
   "cell_type": "code",
   "execution_count": 258,
   "metadata": {
    "collapsed": true
   },
   "outputs": [],
   "source": [
    "def fillna_knn( df, base, target, fraction = 1, n_neighbors = 1 ):\n",
    "\n",
    "    #test = data_trans_reduced_comb_f.copy()\n",
    "    #base = [ 'latitude', 'longitude' ]\n",
    "    #target = 'buildingqualitytypeid'\n",
    "    #fraction = 1\n",
    "\n",
    "    #assert isinstance( base , list ) or isinstance( base , np.ndarray ) and isinstance( target, str ) \n",
    "    whole = [ target ] + base\n",
    "\n",
    "    miss = df[target].isnull()\n",
    "    notmiss = ~miss \n",
    "    nummiss = miss.sum()\n",
    "\n",
    "    #enc = OneHotEncoder()\n",
    "    X_target = df.loc[ notmiss, whole ].sample( frac = fraction )\n",
    "\n",
    "    #enc.fit( X_target[ target ].unique().reshape( (-1,1) ) )\n",
    "    #Y = enc.transform( X_target[ target ].values.reshape((-1,1)) ).toarray()\n",
    "    Y = X_target[ target ].values.reshape((-1,1))\n",
    "    X = X_target[base]\n",
    "\n",
    "    n_neighbors = n_neighbors\n",
    "    clf = neighbors.KNeighborsClassifier( n_neighbors, weights = 'uniform' )\n",
    "    #print(clf)\n",
    "    clf.fit( X, Y )\n",
    "    #print( 'the shape of active features: ' ,enc.active_features_.shape )\n",
    "    Z = clf.predict(df.loc[miss, base])\n",
    "    #test.loc[ miss, target ]  = np.dot( Z , enc.active_features_ )\n",
    "    df.loc[ miss, target ]  = Z\n",
    "    df.loc[miss,:].head()"
   ]
  },
  {
   "cell_type": "code",
   "execution_count": 225,
   "metadata": {
    "collapsed": true
   },
   "outputs": [],
   "source": [
    "def fillna_knn_reg( df, base, target, n_neighbors = 5 ):\n",
    "    cols = base + [target]\n",
    "    X_train = df[cols]\n",
    "    scaler = StandardScaler(with_mean=True, with_std=True).fit(X_train[base].values.reshape(-1, 1))\n",
    "    rescaledX = scaler.transform(X_train[base].values.reshape(-1, 1))\n",
    "\n",
    "    X_train = rescaledX[df[target].notnull()]\n",
    "    Y_train = df.loc[df[target].notnull(),target].values.reshape(-1, 1)\n",
    "\n",
    "    knn = KNeighborsRegressor(n_neighbors, n_jobs = -1)    \n",
    "    # fitting the model\n",
    "    knn.fit(X_train, Y_train)\n",
    "    # predict the response\n",
    "    X_test = rescaledX[df[target].isnull()]\n",
    "    pred = knn.predict(X_test)\n",
    "    df.loc[df_train[target].isnull(),target] = pred\n",
    "    return\n"
   ]
  },
  {
   "cell_type": "code",
   "execution_count": 259,
   "metadata": {
    "collapsed": true
   },
   "outputs": [],
   "source": [
    "after_enc_by_pop_df = after_remov_similar_col_df.copy()"
   ]
  },
  {
   "cell_type": "code",
   "execution_count": 260,
   "metadata": {
    "collapsed": true
   },
   "outputs": [],
   "source": [
    "#after_enc_by_pop_df.buildingqualitytypeid.value_counts().loc[4]\n",
    "after_enc_by_pop_df.loc[after_enc_by_pop_df['airconditioningtypeid'] == 1,'airconditioningtypeid'] = 3\n",
    "after_enc_by_pop_df.loc[after_enc_by_pop_df['airconditioningtypeid'] == 13,'airconditioningtypeid'] = 2\n",
    "after_enc_by_pop_df.loc[after_enc_by_pop_df['airconditioningtypeid'] == 5,'airconditioningtypeid'] = 1\n",
    "after_enc_by_pop_df.loc[after_enc_by_pop_df['heatingorsystemtypeid'] == 2,'heatingorsystemtypeid'] = 41\n",
    "after_enc_by_pop_df.loc[after_enc_by_pop_df['heatingorsystemtypeid'] == 7,'heatingorsystemtypeid'] = 40\n",
    "after_enc_by_pop_df.loc[after_enc_by_pop_df['heatingorsystemtypeid'] == 24,'heatingorsystemtypeid'] = 39\n",
    "after_enc_by_pop_df.loc[after_enc_by_pop_df['heatingorsystemtypeid'] == 6,'heatingorsystemtypeid'] = 38\n",
    "after_enc_by_pop_df.loc[after_enc_by_pop_df['heatingorsystemtypeid'] == 20,'heatingorsystemtypeid'] = 37\n",
    "after_enc_by_pop_df.loc[after_enc_by_pop_df['heatingorsystemtypeid'] == 13,'heatingorsystemtypeid'] = 36\n",
    "after_enc_by_pop_df.loc[after_enc_by_pop_df['heatingorsystemtypeid'] == 18,'heatingorsystemtypeid'] = 35\n",
    "after_enc_by_pop_df.loc[after_enc_by_pop_df['heatingorsystemtypeid'] == 1,'heatingorsystemtypeid'] = 34\n",
    "after_enc_by_pop_df.loc[after_enc_by_pop_df['heatingorsystemtypeid'] == 10,'heatingorsystemtypeid'] = 33\n",
    "after_enc_by_pop_df.loc[after_enc_by_pop_df['heatingorsystemtypeid'] == 11,'heatingorsystemtypeid'] = 32\n",
    "after_enc_by_pop_df.loc[after_enc_by_pop_df['heatingorsystemtypeid'] == 14,'heatingorsystemtypeid'] = 31\n",
    "after_enc_by_pop_df.loc[after_enc_by_pop_df['heatingorsystemtypeid'] == 12,'heatingorsystemtypeid'] = 30\n",
    "after_enc_by_pop_df.loc[after_enc_by_pop_df['fips'] == 6037,'fips'] = 3\n",
    "after_enc_by_pop_df.loc[after_enc_by_pop_df['fips'] == 6059,'fips'] = 2\n",
    "after_enc_by_pop_df.loc[after_enc_by_pop_df['fips'] == 6111,'fips'] = 1"
   ]
  },
  {
   "cell_type": "code",
   "execution_count": 261,
   "metadata": {},
   "outputs": [],
   "source": [
    "#lbl = preprocessing.LabelEncoder()\n",
    "#lbl.fit(list(after_enc_by_pop_df['hashottuborspa'].values))\n",
    "#after_enc_by_pop_df['hashottuborspa'] = lbl.transform(list(after_enc_by_pop_df['hashottuborspa'].values))\n",
    "\n",
    "lbl = preprocessing.LabelEncoder()\n",
    "lbl.fit(list(after_enc_by_pop_df['propertyzoningdesc'].values)) \n",
    "after_enc_by_pop_df['propertyzoningdesc'] = lbl.transform(list(after_enc_by_pop_df['propertyzoningdesc'].values))"
   ]
  },
  {
   "cell_type": "code",
   "execution_count": 262,
   "metadata": {
    "collapsed": true
   },
   "outputs": [],
   "source": [
    "after_scaling_df = after_enc_by_pop_df.copy()"
   ]
  },
  {
   "cell_type": "code",
   "execution_count": 263,
   "metadata": {
    "collapsed": true
   },
   "outputs": [],
   "source": [
    "after_scaling_df = after_scaling_df.drop(['parcelid','abslogerror'],axis=1)"
   ]
  },
  {
   "cell_type": "code",
   "execution_count": 264,
   "metadata": {},
   "outputs": [
    {
     "name": "stderr",
     "output_type": "stream",
     "text": [
      "/Users/TheResearcher/Desktop/anaconda/lib/python2.7/site-packages/ipykernel/__main__.py:7: VisibleDeprecationWarning: boolean index did not match indexed array along dimension 0; dimension is 335708 but corresponding boolean dimension is 167854\n",
      "/Users/TheResearcher/Desktop/anaconda/lib/python2.7/site-packages/ipykernel/__main__.py:14: VisibleDeprecationWarning: boolean index did not match indexed array along dimension 0; dimension is 335708 but corresponding boolean dimension is 167854\n"
     ]
    }
   ],
   "source": [
    "fillna_knn_reg(after_scaling_df,['latitude','longitude'],'lotsizesquarefeet')"
   ]
  },
  {
   "cell_type": "code",
   "execution_count": 265,
   "metadata": {
    "collapsed": true
   },
   "outputs": [],
   "source": [
    "scaling_finished_df = after_scaling_df.copy()"
   ]
  },
  {
   "cell_type": "code",
   "execution_count": 233,
   "metadata": {
    "collapsed": true
   },
   "outputs": [],
   "source": [
    "from sklearn.preprocessing import RobustScaler"
   ]
  },
  {
   "cell_type": "code",
   "execution_count": 266,
   "metadata": {
    "collapsed": true
   },
   "outputs": [],
   "source": [
    "cols_to_be_knn = ['yearbuilt','structuretaxvaluedollarcnt','landtaxvaluedollarcnt','taxamount','calculatedfinishedsquarefeet'\n",
    "                 ,'buildingqualitytypeid']"
   ]
  },
  {
   "cell_type": "code",
   "execution_count": 267,
   "metadata": {},
   "outputs": [
    {
     "name": "stderr",
     "output_type": "stream",
     "text": [
      "/Users/TheResearcher/Desktop/anaconda/lib/python2.7/site-packages/ipykernel/__main__.py:7: VisibleDeprecationWarning: boolean index did not match indexed array along dimension 0; dimension is 335708 but corresponding boolean dimension is 167854\n",
      "/Users/TheResearcher/Desktop/anaconda/lib/python2.7/site-packages/ipykernel/__main__.py:14: VisibleDeprecationWarning: boolean index did not match indexed array along dimension 0; dimension is 335708 but corresponding boolean dimension is 167854\n"
     ]
    }
   ],
   "source": [
    "for col in cols_to_be_knn:\n",
    "    fillna_knn_reg(scaling_finished_df,['latitude','longitude'],col)"
   ]
  },
  {
   "cell_type": "code",
   "execution_count": 268,
   "metadata": {},
   "outputs": [],
   "source": [
    "scaling_finished_df['Tyear'] = (scaling_finished_df['Tyear'].map(str) + scaling_finished_df['Tmonth'] + scaling_finished_df['Tday']).astype(int)"
   ]
  },
  {
   "cell_type": "code",
   "execution_count": 269,
   "metadata": {
    "collapsed": true
   },
   "outputs": [],
   "source": [
    "scaling_finished_df.rename(columns = {'Tyear':'TransactionDate'}, inplace = True)"
   ]
  },
  {
   "cell_type": "code",
   "execution_count": 270,
   "metadata": {
    "collapsed": true
   },
   "outputs": [],
   "source": [
    "cols_to_be_scaled = ['garagetotalsqft','lotsizesquarefeet','poolsizesum','propertycountylandusecode','propertylandusetypeid','propertyzoningdesc','rawcensustractandblock','yardbuildingsqft17','yearbuilt','structuretaxvaluedollarcnt','assessmentyear','landtaxvaluedollarcnt','taxamount','TransactionDate']"
   ]
  },
  {
   "cell_type": "code",
   "execution_count": 271,
   "metadata": {},
   "outputs": [],
   "source": [
    "#scaling_finished_df['propertycountylandusecode'].value_counts()\n",
    "\n",
    "lbl = preprocessing.LabelEncoder()\n",
    "lbl.fit(list(scaling_finished_df['propertycountylandusecode'].values)) \n",
    "scaling_finished_df['propertycountylandusecode'] = lbl.transform(list(scaling_finished_df['propertycountylandusecode'].values))"
   ]
  },
  {
   "cell_type": "code",
   "execution_count": 272,
   "metadata": {},
   "outputs": [],
   "source": [
    "for col in cols_to_be_scaled:\n",
    "    scaler = RobustScaler().fit(scaling_finished_df[col].values.reshape(-1, 1))\n",
    "    scaling_finished_df[col] = scaler.transform(scaling_finished_df[col].values.reshape(-1, 1))"
   ]
  },
  {
   "cell_type": "code",
   "execution_count": 273,
   "metadata": {},
   "outputs": [],
   "source": [
    "scaler = RobustScaler().fit(scaling_finished_df['calculatedfinishedsquarefeet'].values.reshape(-1, 1))\n",
    "scaling_finished_df['calculatedfinishedsquarefeet'] = scaler.transform(scaling_finished_df['calculatedfinishedsquarefeet'].values.reshape(-1, 1))"
   ]
  },
  {
   "cell_type": "code",
   "execution_count": 274,
   "metadata": {
    "collapsed": true
   },
   "outputs": [],
   "source": [
    "#scaler = StandardScaler(with_mean=True, with_std=True).fit(after_enc_by_pop_df['longitude'].values.reshape(-1, 1))\n",
    "#after_enc_by_pop_df['longitude'] = scaler.transform(after_enc_by_pop_df['longitude'].values.reshape(-1, 1))\n",
    "\n",
    "scaler = RobustScaler().fit(scaling_finished_df['longitude'].values.reshape(-1, 1))\n",
    "scaling_finished_df['longitude'] = scaler.transform(scaling_finished_df['longitude'].values.reshape(-1, 1))\n",
    "\n",
    "scaler = RobustScaler().fit(scaling_finished_df['latitude'].values.reshape(-1, 1))\n",
    "scaling_finished_df['latitude'] = scaler.transform(scaling_finished_df['latitude'].values.reshape(-1, 1))"
   ]
  },
  {
   "cell_type": "code",
   "execution_count": 243,
   "metadata": {
    "collapsed": true
   },
   "outputs": [],
   "source": [
    "from sklearn.preprocessing import StandardScaler"
   ]
  },
  {
   "cell_type": "code",
   "execution_count": 244,
   "metadata": {},
   "outputs": [
    {
     "data": {
      "text/plain": [
       "<matplotlib.figure.Figure at 0x12a17b910>"
      ]
     },
     "metadata": {},
     "output_type": "display_data"
    },
    {
     "data": {
      "image/png": "[encoded data removed]",
      "text/plain": [
       "<matplotlib.figure.Figure at 0x12a17ba90>"
      ]
     },
     "metadata": {},
     "output_type": "display_data"
    }
   ],
   "source": [
    "color = sns.color_palette()\n",
    "plt.figure(figsize=(12,12))\n",
    "sns.jointplot(x=data_trans_reduced_comb_f.garagetotalsqft.values, y=data_trans_reduced_comb_f.taxamount.values, size=10, color=color[4])\n",
    "plt.ylabel('GarageTotalSqFeet', fontsize=12)\n",
    "plt.xlabel('TaxAmount', fontsize=12)\n",
    "plt.title(\"GarageTotalSqFeet Vs Tax Amount\", fontsize=15)\n",
    "plt.show()"
   ]
  },
  {
   "cell_type": "code",
   "execution_count": null,
   "metadata": {
    "collapsed": true
   },
   "outputs": [],
   "source": [
    "#df = data_trans_reduced_comb_f.melt('parcelid',var_name='Columns',  value_name='Values')\n",
    "#g = sns.factorplot(x=\"parcelid\", y=\"Values\", hue='Columns', data=df)\n",
    "#data_trans_reduced_comb_f.shape"
   ]
  },
  {
   "cell_type": "code",
   "execution_count": null,
   "metadata": {
    "collapsed": true
   },
   "outputs": [],
   "source": [
    "#filter rows based on conditional check on column\n",
    "#data_trans_reduced_comb_f_nn.loc[:,data_trans_reduced_comb_f_nn.isnull().sum() > 1].head()"
   ]
  },
  {
   "cell_type": "code",
   "execution_count": 245,
   "metadata": {
    "collapsed": true
   },
   "outputs": [],
   "source": [
    "def plot_countPlot(df,label):\n",
    "    plt.figure(figsize=(12,8))\n",
    "    sns.countplot(x=label, data=df)\n",
    "    plt.ylabel('Count', fontsize=12)\n",
    "    plt.xlabel(label, fontsize=12)\n",
    "    plt.xticks(rotation='vertical')\n",
    "    plt.title(\"Frequency of \"+ label +\" count\", fontsize=15)\n",
    "    plt.show()"
   ]
  },
  {
   "cell_type": "code",
   "execution_count": null,
   "metadata": {
    "collapsed": true
   },
   "outputs": [],
   "source": [
    "#plot_countPlot(after_imputing_df,'propertylandusetypeid')"
   ]
  },
  {
   "cell_type": "code",
   "execution_count": 201,
   "metadata": {
    "collapsed": true
   },
   "outputs": [],
   "source": [
    "from ggplot import ggplot, geom_line, aes"
   ]
  },
  {
   "cell_type": "code",
   "execution_count": 202,
   "metadata": {
    "collapsed": true
   },
   "outputs": [],
   "source": [
    "from sklearn import preprocessing"
   ]
  },
  {
   "cell_type": "code",
   "execution_count": null,
   "metadata": {
    "collapsed": true
   },
   "outputs": [],
   "source": [
    "#after_imp_log_df = test.filter(like\"propertycountylandusecode\")\n",
    "#after_imp_log_df = after_imp_log_df.apply(lambda x: np.log(x + 1))"
   ]
  },
  {
   "cell_type": "code",
   "execution_count": 203,
   "metadata": {
    "collapsed": true
   },
   "outputs": [],
   "source": [
    "from sklearn.preprocessing import MinMaxScaler"
   ]
  },
  {
   "cell_type": "code",
   "execution_count": 204,
   "metadata": {
    "collapsed": true
   },
   "outputs": [],
   "source": [
    "from ggplot import *"
   ]
  },
  {
   "cell_type": "code",
   "execution_count": 275,
   "metadata": {
    "collapsed": true
   },
   "outputs": [],
   "source": [
    "x_cols = [col for col in scaling_finished_df.columns if col not in ['abslogerror','logerror'] if (scaling_finished_df[col].dtype=='float64' or scaling_finished_df[col].dtype=='int64')]\n",
    "#x_cols = [col for col in after_imputing_df.columns if col not in ['abslogerror','logerror'] if (after_imputing_df[col].dtype=='float64' or after_imputing_df[col].dtype=='int64')]"
   ]
  },
  {
   "cell_type": "code",
   "execution_count": 276,
   "metadata": {},
   "outputs": [
    {
     "data": {
      "text/html": [
       "<div>\n",
       "<table border=\"1\" class=\"dataframe\">\n",
       "  <thead>\n",
       "    <tr style=\"text-align: right;\">\n",
       "      <th></th>\n",
       "      <th>col_labels</th>\n",
       "      <th>corr_values</th>\n",
       "    </tr>\n",
       "  </thead>\n",
       "  <tbody>\n",
       "    <tr>\n",
       "      <th>14</th>\n",
       "      <td>poolcnt</td>\n",
       "      <td>-0.008749</td>\n",
       "    </tr>\n",
       "    <tr>\n",
       "      <th>15</th>\n",
       "      <td>poolsizesum</td>\n",
       "      <td>-0.008703</td>\n",
       "    </tr>\n",
       "    <tr>\n",
       "      <th>7</th>\n",
       "      <td>fips</td>\n",
       "      <td>-0.008170</td>\n",
       "    </tr>\n",
       "    <tr>\n",
       "      <th>5</th>\n",
       "      <td>buildingqualitytypeid</td>\n",
       "      <td>-0.007613</td>\n",
       "    </tr>\n",
       "    <tr>\n",
       "      <th>18</th>\n",
       "      <td>propertyzoningdesc</td>\n",
       "      <td>-0.006403</td>\n",
       "    </tr>\n",
       "    <tr>\n",
       "      <th>23</th>\n",
       "      <td>yardbuildingsqft17</td>\n",
       "      <td>-0.004144</td>\n",
       "    </tr>\n",
       "    <tr>\n",
       "      <th>11</th>\n",
       "      <td>latitude</td>\n",
       "      <td>-0.002931</td>\n",
       "    </tr>\n",
       "    <tr>\n",
       "      <th>29</th>\n",
       "      <td>taxamount</td>\n",
       "      <td>-0.002187</td>\n",
       "    </tr>\n",
       "    <tr>\n",
       "      <th>17</th>\n",
       "      <td>propertylandusetypeid</td>\n",
       "      <td>-0.002179</td>\n",
       "    </tr>\n",
       "    <tr>\n",
       "      <th>25</th>\n",
       "      <td>numberofstories</td>\n",
       "      <td>-0.001538</td>\n",
       "    </tr>\n",
       "    <tr>\n",
       "      <th>0</th>\n",
       "      <td>airconditioningtypeid</td>\n",
       "      <td>-0.001162</td>\n",
       "    </tr>\n",
       "    <tr>\n",
       "      <th>22</th>\n",
       "      <td>unitcnt</td>\n",
       "      <td>-0.001040</td>\n",
       "    </tr>\n",
       "    <tr>\n",
       "      <th>28</th>\n",
       "      <td>landtaxvaluedollarcnt</td>\n",
       "      <td>-0.000746</td>\n",
       "    </tr>\n",
       "    <tr>\n",
       "      <th>21</th>\n",
       "      <td>typeconstructiontypeid</td>\n",
       "      <td>-0.000314</td>\n",
       "    </tr>\n",
       "    <tr>\n",
       "      <th>1</th>\n",
       "      <td>architecturalstyletypeid</td>\n",
       "      <td>-0.000021</td>\n",
       "    </tr>\n",
       "    <tr>\n",
       "      <th>8</th>\n",
       "      <td>fireplacecnt</td>\n",
       "      <td>0.005067</td>\n",
       "    </tr>\n",
       "    <tr>\n",
       "      <th>16</th>\n",
       "      <td>propertycountylandusecode</td>\n",
       "      <td>0.005583</td>\n",
       "    </tr>\n",
       "    <tr>\n",
       "      <th>12</th>\n",
       "      <td>longitude</td>\n",
       "      <td>0.005644</td>\n",
       "    </tr>\n",
       "    <tr>\n",
       "      <th>4</th>\n",
       "      <td>buildingclasstypeid</td>\n",
       "      <td>0.006059</td>\n",
       "    </tr>\n",
       "    <tr>\n",
       "      <th>13</th>\n",
       "      <td>lotsizesquarefeet</td>\n",
       "      <td>0.007122</td>\n",
       "    </tr>\n",
       "    <tr>\n",
       "      <th>19</th>\n",
       "      <td>rawcensustractandblock</td>\n",
       "      <td>0.007375</td>\n",
       "    </tr>\n",
       "    <tr>\n",
       "      <th>20</th>\n",
       "      <td>roomcnt</td>\n",
       "      <td>0.009949</td>\n",
       "    </tr>\n",
       "    <tr>\n",
       "      <th>24</th>\n",
       "      <td>yearbuilt</td>\n",
       "      <td>0.011209</td>\n",
       "    </tr>\n",
       "    <tr>\n",
       "      <th>10</th>\n",
       "      <td>heatingorsystemtypeid</td>\n",
       "      <td>0.011685</td>\n",
       "    </tr>\n",
       "    <tr>\n",
       "      <th>26</th>\n",
       "      <td>structuretaxvaluedollarcnt</td>\n",
       "      <td>0.015505</td>\n",
       "    </tr>\n",
       "    <tr>\n",
       "      <th>27</th>\n",
       "      <td>assessmentyear</td>\n",
       "      <td>0.016091</td>\n",
       "    </tr>\n",
       "    <tr>\n",
       "      <th>9</th>\n",
       "      <td>garagetotalsqft</td>\n",
       "      <td>0.016254</td>\n",
       "    </tr>\n",
       "    <tr>\n",
       "      <th>30</th>\n",
       "      <td>TransactionDate</td>\n",
       "      <td>0.016385</td>\n",
       "    </tr>\n",
       "    <tr>\n",
       "      <th>2</th>\n",
       "      <td>bathroomcnt</td>\n",
       "      <td>0.027038</td>\n",
       "    </tr>\n",
       "    <tr>\n",
       "      <th>3</th>\n",
       "      <td>bedroomcnt</td>\n",
       "      <td>0.028513</td>\n",
       "    </tr>\n",
       "    <tr>\n",
       "      <th>6</th>\n",
       "      <td>calculatedfinishedsquarefeet</td>\n",
       "      <td>0.039498</td>\n",
       "    </tr>\n",
       "  </tbody>\n",
       "</table>\n",
       "</div>"
      ],
      "text/plain": [
       "                      col_labels  corr_values\n",
       "14                       poolcnt    -0.008749\n",
       "15                   poolsizesum    -0.008703\n",
       "7                           fips    -0.008170\n",
       "5          buildingqualitytypeid    -0.007613\n",
       "18            propertyzoningdesc    -0.006403\n",
       "23            yardbuildingsqft17    -0.004144\n",
       "11                      latitude    -0.002931\n",
       "29                     taxamount    -0.002187\n",
       "17         propertylandusetypeid    -0.002179\n",
       "25               numberofstories    -0.001538\n",
       "0          airconditioningtypeid    -0.001162\n",
       "22                       unitcnt    -0.001040\n",
       "28         landtaxvaluedollarcnt    -0.000746\n",
       "21        typeconstructiontypeid    -0.000314\n",
       "1       architecturalstyletypeid    -0.000021\n",
       "8                   fireplacecnt     0.005067\n",
       "16     propertycountylandusecode     0.005583\n",
       "12                     longitude     0.005644\n",
       "4            buildingclasstypeid     0.006059\n",
       "13             lotsizesquarefeet     0.007122\n",
       "19        rawcensustractandblock     0.007375\n",
       "20                       roomcnt     0.009949\n",
       "24                     yearbuilt     0.011209\n",
       "10         heatingorsystemtypeid     0.011685\n",
       "26    structuretaxvaluedollarcnt     0.015505\n",
       "27                assessmentyear     0.016091\n",
       "9                garagetotalsqft     0.016254\n",
       "30               TransactionDate     0.016385\n",
       "2                    bathroomcnt     0.027038\n",
       "3                     bedroomcnt     0.028513\n",
       "6   calculatedfinishedsquarefeet     0.039498"
      ]
     },
     "execution_count": 276,
     "metadata": {},
     "output_type": "execute_result"
    }
   ],
   "source": [
    "labels = []\n",
    "values = []\n",
    "for col in x_cols:\n",
    "    labels.append(col)\n",
    "    values.append(np.corrcoef(scaling_finished_df[col].values, scaling_finished_df.logerror.values)[0,1])\n",
    "corr_df = pd.DataFrame({'col_labels':labels, 'corr_values':values})\n",
    "corr_df = corr_df.sort_values(by='corr_values')\n",
    "corr_df"
   ]
  },
  {
   "cell_type": "code",
   "execution_count": 277,
   "metadata": {
    "scrolled": false
   },
   "outputs": [
    {
     "data": {
      "image/png": "[encoded data removed]",
      "text/plain": [
       "<matplotlib.figure.Figure at 0x1d64e8990>"
      ]
     },
     "metadata": {},
     "output_type": "display_data"
    }
   ],
   "source": [
    "ind = np.arange(len(labels))\n",
    "width = 0.9\n",
    "fig, ax = plt.subplots(figsize=(12,40))\n",
    "rects = ax.barh(ind, np.array(corr_df.corr_values.values), color='y')\n",
    "ax.set_yticks(ind)\n",
    "'''\n",
    "fontdict = {'fontsize': 22,\n",
    " 'fontweight': mlp.rcParams['axes.titleweight'],\n",
    " 'verticalalignment': 'baseline'}\n",
    "'''\n",
    "ax.set_yticklabels(corr_df.col_labels.values,rotation='horizontal')\n",
    "ax.set_xlabel(\"Correlation coefficient\")\n",
    "ax.set_title(\"Correlation coefficient of the variables\")\n",
    "#autolabel(rects)\n",
    "plt.show()"
   ]
  },
  {
   "cell_type": "code",
   "execution_count": 278,
   "metadata": {},
   "outputs": [
    {
     "data": {
      "text/html": [
       "<div>\n",
       "<table border=\"1\" class=\"dataframe\">\n",
       "  <thead>\n",
       "    <tr style=\"text-align: right;\">\n",
       "      <th></th>\n",
       "      <th>col_labels</th>\n",
       "      <th>corr_values</th>\n",
       "    </tr>\n",
       "  </thead>\n",
       "  <tbody>\n",
       "    <tr>\n",
       "      <th>14</th>\n",
       "      <td>poolcnt</td>\n",
       "      <td>-0.008749</td>\n",
       "    </tr>\n",
       "    <tr>\n",
       "      <th>15</th>\n",
       "      <td>poolsizesum</td>\n",
       "      <td>-0.008703</td>\n",
       "    </tr>\n",
       "    <tr>\n",
       "      <th>7</th>\n",
       "      <td>fips</td>\n",
       "      <td>-0.008170</td>\n",
       "    </tr>\n",
       "    <tr>\n",
       "      <th>5</th>\n",
       "      <td>buildingqualitytypeid</td>\n",
       "      <td>-0.007613</td>\n",
       "    </tr>\n",
       "    <tr>\n",
       "      <th>18</th>\n",
       "      <td>propertyzoningdesc</td>\n",
       "      <td>-0.006403</td>\n",
       "    </tr>\n",
       "    <tr>\n",
       "      <th>23</th>\n",
       "      <td>yardbuildingsqft17</td>\n",
       "      <td>-0.004144</td>\n",
       "    </tr>\n",
       "    <tr>\n",
       "      <th>26</th>\n",
       "      <td>structuretaxvaluedollarcnt</td>\n",
       "      <td>0.015505</td>\n",
       "    </tr>\n",
       "    <tr>\n",
       "      <th>27</th>\n",
       "      <td>assessmentyear</td>\n",
       "      <td>0.016091</td>\n",
       "    </tr>\n",
       "    <tr>\n",
       "      <th>9</th>\n",
       "      <td>garagetotalsqft</td>\n",
       "      <td>0.016254</td>\n",
       "    </tr>\n",
       "    <tr>\n",
       "      <th>30</th>\n",
       "      <td>TransactionDate</td>\n",
       "      <td>0.016385</td>\n",
       "    </tr>\n",
       "    <tr>\n",
       "      <th>2</th>\n",
       "      <td>bathroomcnt</td>\n",
       "      <td>0.027038</td>\n",
       "    </tr>\n",
       "    <tr>\n",
       "      <th>3</th>\n",
       "      <td>bedroomcnt</td>\n",
       "      <td>0.028513</td>\n",
       "    </tr>\n",
       "    <tr>\n",
       "      <th>6</th>\n",
       "      <td>calculatedfinishedsquarefeet</td>\n",
       "      <td>0.039498</td>\n",
       "    </tr>\n",
       "  </tbody>\n",
       "</table>\n",
       "</div>"
      ],
      "text/plain": [
       "                      col_labels  corr_values\n",
       "14                       poolcnt    -0.008749\n",
       "15                   poolsizesum    -0.008703\n",
       "7                           fips    -0.008170\n",
       "5          buildingqualitytypeid    -0.007613\n",
       "18            propertyzoningdesc    -0.006403\n",
       "23            yardbuildingsqft17    -0.004144\n",
       "26    structuretaxvaluedollarcnt     0.015505\n",
       "27                assessmentyear     0.016091\n",
       "9                garagetotalsqft     0.016254\n",
       "30               TransactionDate     0.016385\n",
       "2                    bathroomcnt     0.027038\n",
       "3                     bedroomcnt     0.028513\n",
       "6   calculatedfinishedsquarefeet     0.039498"
      ]
     },
     "execution_count": 278,
     "metadata": {},
     "output_type": "execute_result"
    }
   ],
   "source": [
    "corr_df_sel = corr_df.ix[(corr_df['corr_values']>0.012) | (corr_df['corr_values'] < -0.004)]\n",
    "corr_df_sel\n",
    "#plot_corr(corr_df_sel)"
   ]
  },
  {
   "cell_type": "code",
   "execution_count": 279,
   "metadata": {
    "collapsed": true
   },
   "outputs": [],
   "source": [
    "after_corr_df = scaling_finished_df.copy()"
   ]
  },
  {
   "cell_type": "code",
   "execution_count": 280,
   "metadata": {
    "collapsed": true
   },
   "outputs": [],
   "source": [
    "l = corr_df_sel['col_labels'].values\n",
    "l = np.append(l,'logerror')\n",
    "cols_to_del = [col for col in after_corr_df.columns.values if col not in l] "
   ]
  },
  {
   "cell_type": "code",
   "execution_count": 281,
   "metadata": {
    "collapsed": true
   },
   "outputs": [],
   "source": [
    "after_corr_df = after_corr_df.drop(cols_to_del,axis=1)"
   ]
  },
  {
   "cell_type": "code",
   "execution_count": 282,
   "metadata": {
    "collapsed": true
   },
   "outputs": [],
   "source": [
    "after_corr_feat_df = after_corr_df.drop('logerror',axis=1)"
   ]
  },
  {
   "cell_type": "code",
   "execution_count": 283,
   "metadata": {
    "collapsed": true
   },
   "outputs": [],
   "source": [
    "from sklearn.cross_validation import train_test_split"
   ]
  },
  {
   "cell_type": "code",
   "execution_count": 284,
   "metadata": {},
   "outputs": [
    {
     "name": "stdout",
     "output_type": "stream",
     "text": [
      "Training and testing split was successful.\n",
      "(125890, 13)\n",
      "(125890,)\n",
      "(41964, 13)\n",
      "(41964,)\n"
     ]
    }
   ],
   "source": [
    "X_train, X_test, y_train, y_test = train_test_split(after_corr_feat_df,after_corr_df['logerror'],test_size=0.25, random_state=42)\n",
    "\n",
    "# Success\n",
    "print \"Training and testing split was successful.\"\n",
    "print X_train.shape\n",
    "print y_train.shape\n",
    "print X_test.shape\n",
    "print y_test.shape"
   ]
  },
  {
   "cell_type": "code",
   "execution_count": 285,
   "metadata": {
    "collapsed": true
   },
   "outputs": [],
   "source": [
    "X_test_1, X_test_2, y_test_1,y_test_2 = train_test_split(X_test,y_test,test_size=0.5, random_state=28)"
   ]
  },
  {
   "cell_type": "code",
   "execution_count": 286,
   "metadata": {},
   "outputs": [
    {
     "name": "stdout",
     "output_type": "stream",
     "text": [
      "(20982, 13)\n",
      "(20982,)\n"
     ]
    }
   ],
   "source": [
    "print X_test_1.shape\n",
    "print y_test_1.shape"
   ]
  },
  {
   "cell_type": "code",
   "execution_count": 287,
   "metadata": {
    "collapsed": true
   },
   "outputs": [],
   "source": [
    "split = 80000\n",
    "X_train, y_train, X_valid, y_valid = X_train[:split], y_train[:split], X_train[split:], y_train[split:]"
   ]
  },
  {
   "cell_type": "code",
   "execution_count": 288,
   "metadata": {
    "collapsed": true
   },
   "outputs": [],
   "source": [
    "from sklearn.metrics import mean_absolute_error"
   ]
  },
  {
   "cell_type": "code",
   "execution_count": 289,
   "metadata": {
    "collapsed": true
   },
   "outputs": [],
   "source": [
    "from sklearn.ensemble import GradientBoostingRegressor\n",
    "from time import time"
   ]
  },
  {
   "cell_type": "code",
   "execution_count": 291,
   "metadata": {
    "collapsed": true
   },
   "outputs": [],
   "source": [
    "d_train = xgb.DMatrix(X_train, y_train)\n",
    "d_valid = xgb.DMatrix(X_valid)"
   ]
  },
  {
   "cell_type": "code",
   "execution_count": 292,
   "metadata": {},
   "outputs": [],
   "source": [
    "watchlist = [(d_train, 'train'), (d_valid, 'valid')]\n",
    "\n",
    "#clf = xgb.train(xgb_params, d_train, 100, watchlist, verbose_eval=10) \n",
    "\n",
    "# Naive (Mean; y_pred=0.01412704) model performance on test1: 0.070903987\n",
    "\n",
    "#same as clf results above\n",
    "#model = xgb.train(xgb_params, d_train, 100)\n",
    "start = time()\n",
    "model = GradientBoostingRegressor(loss='ls', learning_rate=0.1, n_estimators=1000, subsample=0.8, \n",
    "                                  max_depth=6 )\n",
    "model = model.fit(X_train, y_train)\n",
    "#xgb_pred = model.predict(d_valid)\n",
    "pred = model.predict(X_valid)\n",
    "e = mean_absolute_error(y_valid,pred)\n",
    "end = time()"
   ]
  },
  {
   "cell_type": "code",
   "execution_count": 293,
   "metadata": {
    "collapsed": true
   },
   "outputs": [],
   "source": [
    "start = time()\n",
    "pred = model.predict(X_test_1)\n",
    "e = mean_absolute_error(y_test_1,pred)\n",
    "end = time()"
   ]
  },
  {
   "cell_type": "code",
   "execution_count": 294,
   "metadata": {},
   "outputs": [
    {
     "name": "stdout",
     "output_type": "stream",
     "text": [
      "('time taken ', 0.45147705078125)\n",
      "('absolute error', 0.079195733125582091)\n"
     ]
    }
   ],
   "source": [
    "# stats for Gradient Boost regressor for test_1 sample (no training)\n",
    "print('time taken ', end-start)\n",
    "print ('absolute error', e)"
   ]
  },
  {
   "cell_type": "code",
   "execution_count": null,
   "metadata": {
    "collapsed": true
   },
   "outputs": [],
   "source": [
    "print('Building DMatrix...')"
   ]
  },
  {
   "cell_type": "code",
   "execution_count": null,
   "metadata": {
    "collapsed": true
   },
   "outputs": [],
   "source": [
    "start = time()\n",
    "d_train = xgb.DMatrix(X_train, y_train)\n",
    "d_valid = xgb.DMatrix(X_valid)\n",
    "\n",
    "xgb_params = {\n",
    "    'eta': 0.005,\n",
    "    'max_depth': 8,\n",
    "    'subsample': 0.7,\n",
    "    'colsample_bytree': 0.7,\n",
    "    'objective': 'reg:linear',\n",
    "    'eval_metric': 'mae',\n",
    "    'silent': 1\n",
    "}\n",
    "xgbmodel = xgb.train(xgb_params,d_train,num_boost_round=2000)\n",
    "pred = xgbmodel.predict(d_valid)\n",
    "e = mean_absolute_error(y_valid,pred)\n",
    "end = time()"
   ]
  },
  {
   "cell_type": "code",
   "execution_count": null,
   "metadata": {},
   "outputs": [],
   "source": [
    "#Same stats as below except num of rounds changed to 2000\n",
    "print('time taken ', end-start)\n",
    "print ('For validation absolute error', e)\n",
    "\n",
    "# stats for XGBoost regressor for test_1 sample for config2\n",
    "d_test1 = xgb.DMatrix(X_test_1)\n",
    "predT =  xgbmodel.predict(d_test1)\n",
    "eT = mean_absolute_error(y_test_1,predT)\n",
    "print ('For test1 absolute error', eT)"
   ]
  },
  {
   "cell_type": "code",
   "execution_count": null,
   "metadata": {},
   "outputs": [],
   "source": [
    "#Same stats as below except num of rounds changed to 1500\n",
    "print('time taken ', end-start)\n",
    "print ('For validation absolute error', e)\n",
    "\n",
    "# stats for XGBoost regressor for test_1 sample for config2\n",
    "d_test1 = xgb.DMatrix(X_test_1)\n",
    "predT =  xgbmodel.predict(d_test1)\n",
    "eT = mean_absolute_error(y_test_1,predT)\n",
    "print ('For test1 absolute error', eT)\n",
    "d_test2 = xgb.DMatrix(X_test_2)\n",
    "predT2 =  xgbmodel.predict(d_test2)\n",
    "eT2 = mean_absolute_error(y_test_2,predT2)\n",
    "print ('For test2 absolute error', eT2)"
   ]
  },
  {
   "cell_type": "code",
   "execution_count": null,
   "metadata": {},
   "outputs": [],
   "source": [
    "# stats for XGBoost regressor for validation sample with training for config2\n",
    "#    'eta': 0.001,\n",
    "#   'max_depth': 7,\n",
    "#    'subsample': 0.6,\n",
    "#    'colsample_bytree': 0.6,\n",
    "#      num_boost_round : 1000\n",
    "\n",
    "print('time taken ', end-start)\n",
    "print ('For validation absolute error', e)\n",
    "\n",
    "# stats for XGBoost regressor for test_1 sample for config2\n",
    "d_test1 = xgb.DMatrix(X_test_1)\n",
    "predT =  xgbmodel.predict(d_test1)\n",
    "eT = mean_absolute_error(y_test_1,predT)\n",
    "print ('For test1 absolute error', eT)\n",
    "d_test2 = xgb.DMatrix(X_test_2)\n",
    "predT2 =  xgbmodel.predict(d_test2)\n",
    "eT2 = mean_absolute_error(y_test_2,predT2)\n",
    "print ('For test2 absolute error', eT2)"
   ]
  },
  {
   "cell_type": "code",
   "execution_count": null,
   "metadata": {},
   "outputs": [],
   "source": [
    "fig, ax = plt.subplots(figsize=(12,18))\n",
    "xgb.plot_importance(xgbmodel, max_num_features=50, height=0.8, ax=ax)\n",
    "plt.show()"
   ]
  },
  {
   "cell_type": "code",
   "execution_count": null,
   "metadata": {},
   "outputs": [],
   "source": [
    "# stats for XGBoost regressor for validation sample with training for config2\n",
    "#    'eta': 0.005,\n",
    "#   'max_depth': 8,\n",
    "#    'subsample': 0.7,\n",
    "#    'colsample_bytree': 0.7,\n",
    "#      num_boost_round : 10000\n",
    "\n",
    "print('time taken ', end-start)\n",
    "print ('For validation absolute error', e)\n",
    "\n",
    "# stats for XGBoost regressor for test_1 sample for config2\n",
    "d_test1 = xgb.DMatrix(X_test_1)\n",
    "predT =  xgbmodel.predict(d_test1)\n",
    "eT = mean_absolute_error(y_test_1,predT)\n",
    "print ('For test1 absolute error', eT)\n",
    "d_test2 = xgb.DMatrix(X_test_2)\n",
    "predT2 =  xgbmodel.predict(d_test2)\n",
    "eT2 = mean_absolute_error(y_test_2,predT2)\n",
    "print ('For test2 absolute error', eT2)"
   ]
  },
  {
   "cell_type": "code",
   "execution_count": null,
   "metadata": {},
   "outputs": [],
   "source": [
    "# stats for XGBoost regressor for validation sample with training for config2\n",
    "#    'eta': 0.005,\n",
    "#   'max_depth': 8,\n",
    "#    'subsample': 0.7,\n",
    "#    'colsample_bytree': 0.7,\n",
    "#      num_boost_round : 1000\n",
    "\n",
    "print('time taken ', end-start)\n",
    "print ('For validation absolute error', e)\n",
    "\n",
    "# stats for XGBoost regressor for test_1 sample for config2\n",
    "d_test1 = xgb.DMatrix(X_test_1)\n",
    "predT =  xgbmodel.predict(d_test1)\n",
    "eT = mean_absolute_error(y_test_1,predT)\n",
    "print ('For test1 absolute error', eT)\n",
    "d_test2 = xgb.DMatrix(X_test_2)\n",
    "predT2 =  xgbmodel.predict(d_test2)\n",
    "eT2 = mean_absolute_error(y_test_2,predT2)\n",
    "print ('For test2 absolute error', eT2)"
   ]
  },
  {
   "cell_type": "code",
   "execution_count": null,
   "metadata": {},
   "outputs": [],
   "source": [
    "# stats for XGBoost regressor for validation sample with training\n",
    "print('time taken ', end-start)\n",
    "print ('absolute error', e)"
   ]
  },
  {
   "cell_type": "code",
   "execution_count": null,
   "metadata": {
    "collapsed": true
   },
   "outputs": [],
   "source": [
    "start = time()\n",
    "pred = xgbmodel.predict(X_test_1)\n",
    "e = mean_absolute_error(y_test_1,pred)\n",
    "end = time()"
   ]
  },
  {
   "cell_type": "code",
   "execution_count": null,
   "metadata": {},
   "outputs": [],
   "source": [
    "d_test1 = xgb.DMatrix(X_test_1) # 0.070964954936066027\n",
    "xgb_pred = model.predict(d_test1)\n",
    "mean_absolute_error(y_test_1,xgb_pred)"
   ]
  },
  {
   "cell_type": "code",
   "execution_count": null,
   "metadata": {},
   "outputs": [],
   "source": [
    "d_test2 = xgb.DMatrix(X_test_2)  # 0.070355333169546716\n",
    "xgb_pred = model.predict(d_test2)\n",
    "mean_absolute_error(y_test_2,xgb_pred)"
   ]
  },
  {
   "cell_type": "code",
   "execution_count": null,
   "metadata": {},
   "outputs": [],
   "source": [
    "mean_absolute_error(y_test_1,y_pred)"
   ]
  },
  {
   "cell_type": "code",
   "execution_count": null,
   "metadata": {
    "collapsed": true
   },
   "outputs": [],
   "source": [
    "from sklearn.metrics import r2_score"
   ]
  },
  {
   "cell_type": "code",
   "execution_count": null,
   "metadata": {},
   "outputs": [],
   "source": [
    "r2_score(y_test_1,xgb_pred)"
   ]
  },
  {
   "cell_type": "code",
   "execution_count": null,
   "metadata": {
    "collapsed": true
   },
   "outputs": [],
   "source": [
    "#data[np.where(data.irow(0)[data.columns].notnull())[0]]\n",
    "#middle_pred = data_trans_reduced_comb_f[~data_trans_reduced_comb_f['parcelid'].isin(top_10p_pred['parcelid']) & ~data_trans_reduced_comb_f['parcelid'].isin(worst_10p_pred['parcelid'])]"
   ]
  },
  {
   "cell_type": "code",
   "execution_count": null,
   "metadata": {},
   "outputs": [],
   "source": [
    "d = {'eta':0.005,'max_depth':8,'subsample':0.7,'colsample_bytree':0.7 ,'num_boost_round':1000, 'valScore':0.070660886278811383, \n",
    "    'test1Score':0.071708082828990508, 'test2Score':0.070926445195721943}\n",
    "finalRes = pd.DataFrame(data=d)"
   ]
  }
 ],
 "metadata": {
  "kernelspec": {
   "display_name": "Python 2",
   "language": "python",
   "name": "python2"
  },
  "language_info": {
   "codemirror_mode": {
    "name": "ipython",
    "version": 2
   },
   "file_extension": ".py",
   "mimetype": "text/x-python",
   "name": "python",
   "nbconvert_exporter": "python",
   "pygments_lexer": "ipython2",
   "version": "2.7.13"
  }
 },
 "nbformat": 4,
 "nbformat_minor": 2
}
